{
 "cells": [
  {
   "cell_type": "markdown",
   "metadata": {},
   "source": [
    "### Lección 8: Enfoque de Risk Parity\n",
    "\n",
    "### Objetivos Notebook Lección 8. \n",
    "\n",
    "1. Implementar de forma manual el algoritmo de Hierarchical Risk Parity\n",
    "2. Usar la librería Skfolio para encontrar el desempeño de técnicas de optimización de portafolios dentro y fuera de la muestra. "
   ]
  },
  {
   "cell_type": "markdown",
   "metadata": {},
   "source": [
    "### Implementación Funciones HRP"
   ]
  },
  {
   "cell_type": "code",
   "execution_count": 1,
   "metadata": {},
   "outputs": [
    {
     "name": "stderr",
     "output_type": "stream",
     "text": [
      "C:\\Users\\jcamargo\\AppData\\Local\\Temp\\ipykernel_30800\\2272308311.py:1: DeprecationWarning: \n",
      "Pyarrow will become a required dependency of pandas in the next major release of pandas (pandas 3.0),\n",
      "(to allow more performant data types, such as the Arrow string type, and better interoperability with other libraries)\n",
      "but was not found to be installed on your system.\n",
      "If this would cause problems for you,\n",
      "please provide us feedback at https://github.com/pandas-dev/pandas/issues/54466\n",
      "        \n",
      "  import pandas as pd\n"
     ]
    }
   ],
   "source": [
    "import pandas as pd\n",
    "from librerias.finance_operators import calculateLogReturns\n",
    "from librerias.Technical_Indicators import *\n",
    "from scipy.cluster.hierarchy import linkage, dendrogram\n",
    "import matplotlib.pyplot as plt\n",
    "from librerias.Backtest import *"
   ]
  },
  {
   "cell_type": "code",
   "execution_count": 2,
   "metadata": {},
   "outputs": [
    {
     "data": {
      "text/html": [
       "<div>\n",
       "<style scoped>\n",
       "    .dataframe tbody tr th:only-of-type {\n",
       "        vertical-align: middle;\n",
       "    }\n",
       "\n",
       "    .dataframe tbody tr th {\n",
       "        vertical-align: top;\n",
       "    }\n",
       "\n",
       "    .dataframe thead th {\n",
       "        text-align: right;\n",
       "    }\n",
       "</style>\n",
       "<table border=\"1\" class=\"dataframe\">\n",
       "  <thead>\n",
       "    <tr style=\"text-align: right;\">\n",
       "      <th></th>\n",
       "      <th>UST 0-1</th>\n",
       "      <th>UST 1-5</th>\n",
       "      <th>UST 5-10</th>\n",
       "      <th>TIPS 1-5</th>\n",
       "      <th>TIPS 5-10</th>\n",
       "      <th>Corp 0-1</th>\n",
       "      <th>Corp 1-5</th>\n",
       "      <th>SSA</th>\n",
       "      <th>MBS</th>\n",
       "      <th>Equity</th>\n",
       "    </tr>\n",
       "    <tr>\n",
       "      <th>id</th>\n",
       "      <th></th>\n",
       "      <th></th>\n",
       "      <th></th>\n",
       "      <th></th>\n",
       "      <th></th>\n",
       "      <th></th>\n",
       "      <th></th>\n",
       "      <th></th>\n",
       "      <th></th>\n",
       "      <th></th>\n",
       "    </tr>\n",
       "  </thead>\n",
       "  <tbody>\n",
       "    <tr>\n",
       "      <th>31/01/2006</th>\n",
       "      <td>NaN</td>\n",
       "      <td>NaN</td>\n",
       "      <td>NaN</td>\n",
       "      <td>NaN</td>\n",
       "      <td>NaN</td>\n",
       "      <td>NaN</td>\n",
       "      <td>NaN</td>\n",
       "      <td>NaN</td>\n",
       "      <td>NaN</td>\n",
       "      <td>NaN</td>\n",
       "    </tr>\n",
       "    <tr>\n",
       "      <th>1/02/2006</th>\n",
       "      <td>-0.000040</td>\n",
       "      <td>-0.001118</td>\n",
       "      <td>-0.002253</td>\n",
       "      <td>-0.001911</td>\n",
       "      <td>-0.003200</td>\n",
       "      <td>-0.000160</td>\n",
       "      <td>-0.001295</td>\n",
       "      <td>-0.001087</td>\n",
       "      <td>-0.001705</td>\n",
       "      <td>0.001850</td>\n",
       "    </tr>\n",
       "    <tr>\n",
       "      <th>2/02/2006</th>\n",
       "      <td>0.000113</td>\n",
       "      <td>-0.000023</td>\n",
       "      <td>0.000253</td>\n",
       "      <td>-0.000893</td>\n",
       "      <td>-0.001013</td>\n",
       "      <td>-0.000020</td>\n",
       "      <td>0.000161</td>\n",
       "      <td>0.000106</td>\n",
       "      <td>0.000202</td>\n",
       "      <td>-0.009102</td>\n",
       "    </tr>\n",
       "    <tr>\n",
       "      <th>3/02/2006</th>\n",
       "      <td>0.000142</td>\n",
       "      <td>0.000231</td>\n",
       "      <td>0.001555</td>\n",
       "      <td>0.001004</td>\n",
       "      <td>0.002470</td>\n",
       "      <td>0.000140</td>\n",
       "      <td>0.000173</td>\n",
       "      <td>0.000064</td>\n",
       "      <td>0.000713</td>\n",
       "      <td>-0.005373</td>\n",
       "    </tr>\n",
       "    <tr>\n",
       "      <th>6/02/2006</th>\n",
       "      <td>0.000187</td>\n",
       "      <td>-0.000156</td>\n",
       "      <td>-0.000269</td>\n",
       "      <td>0.000095</td>\n",
       "      <td>0.000022</td>\n",
       "      <td>0.000370</td>\n",
       "      <td>-0.000008</td>\n",
       "      <td>-0.000120</td>\n",
       "      <td>0.000301</td>\n",
       "      <td>0.000783</td>\n",
       "    </tr>\n",
       "    <tr>\n",
       "      <th>...</th>\n",
       "      <td>...</td>\n",
       "      <td>...</td>\n",
       "      <td>...</td>\n",
       "      <td>...</td>\n",
       "      <td>...</td>\n",
       "      <td>...</td>\n",
       "      <td>...</td>\n",
       "      <td>...</td>\n",
       "      <td>...</td>\n",
       "      <td>...</td>\n",
       "    </tr>\n",
       "    <tr>\n",
       "      <th>14/12/2023</th>\n",
       "      <td>0.000242</td>\n",
       "      <td>0.002097</td>\n",
       "      <td>0.006359</td>\n",
       "      <td>0.004811</td>\n",
       "      <td>0.011709</td>\n",
       "      <td>0.000451</td>\n",
       "      <td>0.003303</td>\n",
       "      <td>0.003633</td>\n",
       "      <td>0.005817</td>\n",
       "      <td>0.002644</td>\n",
       "    </tr>\n",
       "    <tr>\n",
       "      <th>15/12/2023</th>\n",
       "      <td>0.000251</td>\n",
       "      <td>-0.000915</td>\n",
       "      <td>-0.000865</td>\n",
       "      <td>-0.001193</td>\n",
       "      <td>-0.001442</td>\n",
       "      <td>-0.000081</td>\n",
       "      <td>-0.000974</td>\n",
       "      <td>-0.000915</td>\n",
       "      <td>-0.002875</td>\n",
       "      <td>-0.000076</td>\n",
       "    </tr>\n",
       "    <tr>\n",
       "      <th>18/12/2023</th>\n",
       "      <td>0.000182</td>\n",
       "      <td>-0.000391</td>\n",
       "      <td>-0.001695</td>\n",
       "      <td>-0.000495</td>\n",
       "      <td>-0.002212</td>\n",
       "      <td>0.000262</td>\n",
       "      <td>-0.000299</td>\n",
       "      <td>-0.000383</td>\n",
       "      <td>-0.002225</td>\n",
       "      <td>0.004518</td>\n",
       "    </tr>\n",
       "    <tr>\n",
       "      <th>19/12/2023</th>\n",
       "      <td>0.000225</td>\n",
       "      <td>0.000574</td>\n",
       "      <td>0.001540</td>\n",
       "      <td>0.000112</td>\n",
       "      <td>0.000193</td>\n",
       "      <td>0.000289</td>\n",
       "      <td>0.000523</td>\n",
       "      <td>0.000528</td>\n",
       "      <td>0.001678</td>\n",
       "      <td>0.005849</td>\n",
       "    </tr>\n",
       "    <tr>\n",
       "      <th>20/12/2023</th>\n",
       "      <td>0.000203</td>\n",
       "      <td>0.001944</td>\n",
       "      <td>0.004390</td>\n",
       "      <td>0.001926</td>\n",
       "      <td>0.004792</td>\n",
       "      <td>0.000309</td>\n",
       "      <td>0.001607</td>\n",
       "      <td>0.001683</td>\n",
       "      <td>0.004635</td>\n",
       "      <td>-0.014793</td>\n",
       "    </tr>\n",
       "  </tbody>\n",
       "</table>\n",
       "<p>4671 rows × 10 columns</p>\n",
       "</div>"
      ],
      "text/plain": [
       "             UST 0-1   UST 1-5  UST 5-10  TIPS 1-5  TIPS 5-10  Corp 0-1  \\\n",
       "id                                                                        \n",
       "31/01/2006       NaN       NaN       NaN       NaN        NaN       NaN   \n",
       "1/02/2006  -0.000040 -0.001118 -0.002253 -0.001911  -0.003200 -0.000160   \n",
       "2/02/2006   0.000113 -0.000023  0.000253 -0.000893  -0.001013 -0.000020   \n",
       "3/02/2006   0.000142  0.000231  0.001555  0.001004   0.002470  0.000140   \n",
       "6/02/2006   0.000187 -0.000156 -0.000269  0.000095   0.000022  0.000370   \n",
       "...              ...       ...       ...       ...        ...       ...   \n",
       "14/12/2023  0.000242  0.002097  0.006359  0.004811   0.011709  0.000451   \n",
       "15/12/2023  0.000251 -0.000915 -0.000865 -0.001193  -0.001442 -0.000081   \n",
       "18/12/2023  0.000182 -0.000391 -0.001695 -0.000495  -0.002212  0.000262   \n",
       "19/12/2023  0.000225  0.000574  0.001540  0.000112   0.000193  0.000289   \n",
       "20/12/2023  0.000203  0.001944  0.004390  0.001926   0.004792  0.000309   \n",
       "\n",
       "            Corp 1-5       SSA       MBS    Equity  \n",
       "id                                                  \n",
       "31/01/2006       NaN       NaN       NaN       NaN  \n",
       "1/02/2006  -0.001295 -0.001087 -0.001705  0.001850  \n",
       "2/02/2006   0.000161  0.000106  0.000202 -0.009102  \n",
       "3/02/2006   0.000173  0.000064  0.000713 -0.005373  \n",
       "6/02/2006  -0.000008 -0.000120  0.000301  0.000783  \n",
       "...              ...       ...       ...       ...  \n",
       "14/12/2023  0.003303  0.003633  0.005817  0.002644  \n",
       "15/12/2023 -0.000974 -0.000915 -0.002875 -0.000076  \n",
       "18/12/2023 -0.000299 -0.000383 -0.002225  0.004518  \n",
       "19/12/2023  0.000523  0.000528  0.001678  0.005849  \n",
       "20/12/2023  0.001607  0.001683  0.004635 -0.014793  \n",
       "\n",
       "[4671 rows x 10 columns]"
      ]
     },
     "execution_count": 2,
     "metadata": {},
     "output_type": "execute_result"
    }
   ],
   "source": [
    "df_assets_classes = pd.read_csv('datos\\\\'+'activos_dendograma.csv', encoding='utf-8', sep = ';')\n",
    "df_assets_classes = df_assets_classes.set_index('id')\n",
    "df_assets_classes = calculateLogReturns(df_assets_classes)\n",
    "\n",
    "### Codificación de los Tickers\n",
    "diccionario_tickers = {'G0QA_TRR_INDEX_VAL_LOC': 'UST 0-1', \n",
    "                       'GVQ0_TRR_INDEX_VAL_LOC': 'UST 1-5', \n",
    "                       'G6O2_TRR_INDEX_VAL_LOC': 'UST 5-10',\n",
    "                       'GVQI_TRR_INDEX_VAL_LOC': 'TIPS 1-5', \n",
    "                       'G6QI_TRR_INDEX_VAL_LOC': 'TIPS 5-10', \n",
    "                       'C01A_TRR_INDEX_VAL_LOC': 'Corp 0-1', \n",
    "                       'CV10_TRR_INDEX_VAL_LOC': 'Corp 1-5',\n",
    "                       'GS1V_TRR_INDEX_VAL_LOC': 'SSA', \n",
    "                       'M0A0_TRR_INDEX_VAL_LOC': 'MBS', \n",
    "                       'SPX_INDEX': 'Equity'\n",
    "                       }\n",
    "df_assets_classes = df_assets_classes.rename(columns = diccionario_tickers)\n",
    "df_assets_classes"
   ]
  },
  {
   "cell_type": "code",
   "execution_count": 3,
   "metadata": {},
   "outputs": [
    {
     "data": {
      "text/html": [
       "<div>\n",
       "<style scoped>\n",
       "    .dataframe tbody tr th:only-of-type {\n",
       "        vertical-align: middle;\n",
       "    }\n",
       "\n",
       "    .dataframe tbody tr th {\n",
       "        vertical-align: top;\n",
       "    }\n",
       "\n",
       "    .dataframe thead th {\n",
       "        text-align: right;\n",
       "    }\n",
       "</style>\n",
       "<table border=\"1\" class=\"dataframe\">\n",
       "  <thead>\n",
       "    <tr style=\"text-align: right;\">\n",
       "      <th></th>\n",
       "      <th>UST 0-1</th>\n",
       "      <th>UST 1-5</th>\n",
       "      <th>UST 5-10</th>\n",
       "      <th>TIPS 1-5</th>\n",
       "      <th>TIPS 5-10</th>\n",
       "      <th>Corp 0-1</th>\n",
       "      <th>Corp 1-5</th>\n",
       "      <th>SSA</th>\n",
       "      <th>MBS</th>\n",
       "      <th>Equity</th>\n",
       "    </tr>\n",
       "  </thead>\n",
       "  <tbody>\n",
       "    <tr>\n",
       "      <th>UST 0-1</th>\n",
       "      <td>1.000000</td>\n",
       "      <td>0.633364</td>\n",
       "      <td>0.468338</td>\n",
       "      <td>0.384323</td>\n",
       "      <td>0.338896</td>\n",
       "      <td>0.167888</td>\n",
       "      <td>0.405347</td>\n",
       "      <td>0.625509</td>\n",
       "      <td>0.374453</td>\n",
       "      <td>-0.167781</td>\n",
       "    </tr>\n",
       "    <tr>\n",
       "      <th>UST 1-5</th>\n",
       "      <td>0.633364</td>\n",
       "      <td>1.000000</td>\n",
       "      <td>0.923492</td>\n",
       "      <td>0.662850</td>\n",
       "      <td>0.723489</td>\n",
       "      <td>0.151490</td>\n",
       "      <td>0.781974</td>\n",
       "      <td>0.972968</td>\n",
       "      <td>0.768063</td>\n",
       "      <td>-0.266338</td>\n",
       "    </tr>\n",
       "    <tr>\n",
       "      <th>UST 5-10</th>\n",
       "      <td>0.468338</td>\n",
       "      <td>0.923492</td>\n",
       "      <td>1.000000</td>\n",
       "      <td>0.615224</td>\n",
       "      <td>0.787026</td>\n",
       "      <td>0.120519</td>\n",
       "      <td>0.750584</td>\n",
       "      <td>0.896817</td>\n",
       "      <td>0.797421</td>\n",
       "      <td>-0.286790</td>\n",
       "    </tr>\n",
       "    <tr>\n",
       "      <th>TIPS 1-5</th>\n",
       "      <td>0.384323</td>\n",
       "      <td>0.662850</td>\n",
       "      <td>0.615224</td>\n",
       "      <td>1.000000</td>\n",
       "      <td>0.887040</td>\n",
       "      <td>0.203841</td>\n",
       "      <td>0.658366</td>\n",
       "      <td>0.660166</td>\n",
       "      <td>0.582942</td>\n",
       "      <td>-0.029916</td>\n",
       "    </tr>\n",
       "    <tr>\n",
       "      <th>TIPS 5-10</th>\n",
       "      <td>0.338896</td>\n",
       "      <td>0.723489</td>\n",
       "      <td>0.787026</td>\n",
       "      <td>0.887040</td>\n",
       "      <td>1.000000</td>\n",
       "      <td>0.178860</td>\n",
       "      <td>0.693789</td>\n",
       "      <td>0.709752</td>\n",
       "      <td>0.705767</td>\n",
       "      <td>-0.111729</td>\n",
       "    </tr>\n",
       "    <tr>\n",
       "      <th>Corp 0-1</th>\n",
       "      <td>0.167888</td>\n",
       "      <td>0.151490</td>\n",
       "      <td>0.120519</td>\n",
       "      <td>0.203841</td>\n",
       "      <td>0.178860</td>\n",
       "      <td>1.000000</td>\n",
       "      <td>0.504217</td>\n",
       "      <td>0.143455</td>\n",
       "      <td>0.167834</td>\n",
       "      <td>0.019277</td>\n",
       "    </tr>\n",
       "    <tr>\n",
       "      <th>Corp 1-5</th>\n",
       "      <td>0.405347</td>\n",
       "      <td>0.781974</td>\n",
       "      <td>0.750584</td>\n",
       "      <td>0.658366</td>\n",
       "      <td>0.693789</td>\n",
       "      <td>0.504217</td>\n",
       "      <td>1.000000</td>\n",
       "      <td>0.783886</td>\n",
       "      <td>0.697253</td>\n",
       "      <td>-0.103146</td>\n",
       "    </tr>\n",
       "    <tr>\n",
       "      <th>SSA</th>\n",
       "      <td>0.625509</td>\n",
       "      <td>0.972968</td>\n",
       "      <td>0.896817</td>\n",
       "      <td>0.660166</td>\n",
       "      <td>0.709752</td>\n",
       "      <td>0.143455</td>\n",
       "      <td>0.783886</td>\n",
       "      <td>1.000000</td>\n",
       "      <td>0.744427</td>\n",
       "      <td>-0.255963</td>\n",
       "    </tr>\n",
       "    <tr>\n",
       "      <th>MBS</th>\n",
       "      <td>0.374453</td>\n",
       "      <td>0.768063</td>\n",
       "      <td>0.797421</td>\n",
       "      <td>0.582942</td>\n",
       "      <td>0.705767</td>\n",
       "      <td>0.167834</td>\n",
       "      <td>0.697253</td>\n",
       "      <td>0.744427</td>\n",
       "      <td>1.000000</td>\n",
       "      <td>-0.049023</td>\n",
       "    </tr>\n",
       "    <tr>\n",
       "      <th>Equity</th>\n",
       "      <td>-0.167781</td>\n",
       "      <td>-0.266338</td>\n",
       "      <td>-0.286790</td>\n",
       "      <td>-0.029916</td>\n",
       "      <td>-0.111729</td>\n",
       "      <td>0.019277</td>\n",
       "      <td>-0.103146</td>\n",
       "      <td>-0.255963</td>\n",
       "      <td>-0.049023</td>\n",
       "      <td>1.000000</td>\n",
       "    </tr>\n",
       "  </tbody>\n",
       "</table>\n",
       "</div>"
      ],
      "text/plain": [
       "            UST 0-1   UST 1-5  UST 5-10  TIPS 1-5  TIPS 5-10  Corp 0-1  \\\n",
       "UST 0-1    1.000000  0.633364  0.468338  0.384323   0.338896  0.167888   \n",
       "UST 1-5    0.633364  1.000000  0.923492  0.662850   0.723489  0.151490   \n",
       "UST 5-10   0.468338  0.923492  1.000000  0.615224   0.787026  0.120519   \n",
       "TIPS 1-5   0.384323  0.662850  0.615224  1.000000   0.887040  0.203841   \n",
       "TIPS 5-10  0.338896  0.723489  0.787026  0.887040   1.000000  0.178860   \n",
       "Corp 0-1   0.167888  0.151490  0.120519  0.203841   0.178860  1.000000   \n",
       "Corp 1-5   0.405347  0.781974  0.750584  0.658366   0.693789  0.504217   \n",
       "SSA        0.625509  0.972968  0.896817  0.660166   0.709752  0.143455   \n",
       "MBS        0.374453  0.768063  0.797421  0.582942   0.705767  0.167834   \n",
       "Equity    -0.167781 -0.266338 -0.286790 -0.029916  -0.111729  0.019277   \n",
       "\n",
       "           Corp 1-5       SSA       MBS    Equity  \n",
       "UST 0-1    0.405347  0.625509  0.374453 -0.167781  \n",
       "UST 1-5    0.781974  0.972968  0.768063 -0.266338  \n",
       "UST 5-10   0.750584  0.896817  0.797421 -0.286790  \n",
       "TIPS 1-5   0.658366  0.660166  0.582942 -0.029916  \n",
       "TIPS 5-10  0.693789  0.709752  0.705767 -0.111729  \n",
       "Corp 0-1   0.504217  0.143455  0.167834  0.019277  \n",
       "Corp 1-5   1.000000  0.783886  0.697253 -0.103146  \n",
       "SSA        0.783886  1.000000  0.744427 -0.255963  \n",
       "MBS        0.697253  0.744427  1.000000 -0.049023  \n",
       "Equity    -0.103146 -0.255963 -0.049023  1.000000  "
      ]
     },
     "execution_count": 3,
     "metadata": {},
     "output_type": "execute_result"
    }
   ],
   "source": [
    "correlation_matrix = df_assets_classes.corr()\n",
    "correlation_matrix"
   ]
  },
  {
   "cell_type": "code",
   "execution_count": 4,
   "metadata": {},
   "outputs": [
    {
     "data": {
      "text/html": [
       "<div>\n",
       "<style scoped>\n",
       "    .dataframe tbody tr th:only-of-type {\n",
       "        vertical-align: middle;\n",
       "    }\n",
       "\n",
       "    .dataframe tbody tr th {\n",
       "        vertical-align: top;\n",
       "    }\n",
       "\n",
       "    .dataframe thead th {\n",
       "        text-align: right;\n",
       "    }\n",
       "</style>\n",
       "<table border=\"1\" class=\"dataframe\">\n",
       "  <thead>\n",
       "    <tr style=\"text-align: right;\">\n",
       "      <th></th>\n",
       "      <th>UST 0-1</th>\n",
       "      <th>UST 1-5</th>\n",
       "      <th>UST 5-10</th>\n",
       "      <th>TIPS 1-5</th>\n",
       "      <th>TIPS 5-10</th>\n",
       "      <th>Corp 0-1</th>\n",
       "      <th>Corp 1-5</th>\n",
       "      <th>SSA</th>\n",
       "      <th>MBS</th>\n",
       "      <th>Equity</th>\n",
       "    </tr>\n",
       "  </thead>\n",
       "  <tbody>\n",
       "    <tr>\n",
       "      <th>UST 0-1</th>\n",
       "      <td>3.502929e-08</td>\n",
       "      <td>1.560636e-07</td>\n",
       "      <td>3.131282e-07</td>\n",
       "      <td>1.229736e-07</td>\n",
       "      <td>2.337181e-07</td>\n",
       "      <td>1.384048e-08</td>\n",
       "      <td>1.166709e-07</td>\n",
       "      <td>1.481217e-07</td>\n",
       "      <td>1.668940e-07</td>\n",
       "      <td>-3.878080e-07</td>\n",
       "    </tr>\n",
       "    <tr>\n",
       "      <th>UST 1-5</th>\n",
       "      <td>1.560636e-07</td>\n",
       "      <td>1.733267e-06</td>\n",
       "      <td>4.343235e-06</td>\n",
       "      <td>1.491929e-06</td>\n",
       "      <td>3.509741e-06</td>\n",
       "      <td>8.784783e-08</td>\n",
       "      <td>1.583233e-06</td>\n",
       "      <td>1.620694e-06</td>\n",
       "      <td>2.408007e-06</td>\n",
       "      <td>-4.326610e-06</td>\n",
       "    </tr>\n",
       "    <tr>\n",
       "      <th>UST 5-10</th>\n",
       "      <td>3.131282e-07</td>\n",
       "      <td>4.343235e-06</td>\n",
       "      <td>1.276129e-05</td>\n",
       "      <td>3.757341e-06</td>\n",
       "      <td>1.035969e-05</td>\n",
       "      <td>1.896346e-07</td>\n",
       "      <td>4.123505e-06</td>\n",
       "      <td>4.053410e-06</td>\n",
       "      <td>6.783640e-06</td>\n",
       "      <td>-1.263655e-05</td>\n",
       "    </tr>\n",
       "    <tr>\n",
       "      <th>TIPS 1-5</th>\n",
       "      <td>1.229736e-07</td>\n",
       "      <td>1.491929e-06</td>\n",
       "      <td>3.757341e-06</td>\n",
       "      <td>2.922808e-06</td>\n",
       "      <td>5.587966e-06</td>\n",
       "      <td>1.534997e-07</td>\n",
       "      <td>1.730962e-06</td>\n",
       "      <td>1.427983e-06</td>\n",
       "      <td>2.373306e-06</td>\n",
       "      <td>-6.311610e-07</td>\n",
       "    </tr>\n",
       "    <tr>\n",
       "      <th>TIPS 5-10</th>\n",
       "      <td>2.337181e-07</td>\n",
       "      <td>3.509741e-06</td>\n",
       "      <td>1.035969e-05</td>\n",
       "      <td>5.587966e-06</td>\n",
       "      <td>1.357753e-05</td>\n",
       "      <td>2.902943e-07</td>\n",
       "      <td>3.931499e-06</td>\n",
       "      <td>3.308922e-06</td>\n",
       "      <td>6.192984e-06</td>\n",
       "      <td>-5.079490e-06</td>\n",
       "    </tr>\n",
       "    <tr>\n",
       "      <th>Corp 0-1</th>\n",
       "      <td>1.384048e-08</td>\n",
       "      <td>8.784783e-08</td>\n",
       "      <td>1.896346e-07</td>\n",
       "      <td>1.534997e-07</td>\n",
       "      <td>2.902943e-07</td>\n",
       "      <td>1.940129e-07</td>\n",
       "      <td>3.415492e-07</td>\n",
       "      <td>7.994675e-08</td>\n",
       "      <td>1.760449e-07</td>\n",
       "      <td>1.048760e-07</td>\n",
       "    </tr>\n",
       "    <tr>\n",
       "      <th>Corp 1-5</th>\n",
       "      <td>1.166709e-07</td>\n",
       "      <td>1.583233e-06</td>\n",
       "      <td>4.123505e-06</td>\n",
       "      <td>1.730962e-06</td>\n",
       "      <td>3.931499e-06</td>\n",
       "      <td>3.415492e-07</td>\n",
       "      <td>2.365049e-06</td>\n",
       "      <td>1.525256e-06</td>\n",
       "      <td>2.553517e-06</td>\n",
       "      <td>-1.957741e-06</td>\n",
       "    </tr>\n",
       "    <tr>\n",
       "      <th>SSA</th>\n",
       "      <td>1.481217e-07</td>\n",
       "      <td>1.620694e-06</td>\n",
       "      <td>4.053410e-06</td>\n",
       "      <td>1.427983e-06</td>\n",
       "      <td>3.308922e-06</td>\n",
       "      <td>7.994675e-08</td>\n",
       "      <td>1.525256e-06</td>\n",
       "      <td>1.600808e-06</td>\n",
       "      <td>2.242952e-06</td>\n",
       "      <td>-3.997098e-06</td>\n",
       "    </tr>\n",
       "    <tr>\n",
       "      <th>MBS</th>\n",
       "      <td>1.668940e-07</td>\n",
       "      <td>2.408007e-06</td>\n",
       "      <td>6.783640e-06</td>\n",
       "      <td>2.373306e-06</td>\n",
       "      <td>6.192984e-06</td>\n",
       "      <td>1.760449e-07</td>\n",
       "      <td>2.553517e-06</td>\n",
       "      <td>2.242952e-06</td>\n",
       "      <td>5.670954e-06</td>\n",
       "      <td>-1.436357e-06</td>\n",
       "    </tr>\n",
       "    <tr>\n",
       "      <th>Equity</th>\n",
       "      <td>-3.878080e-07</td>\n",
       "      <td>-4.326610e-06</td>\n",
       "      <td>-1.263655e-05</td>\n",
       "      <td>-6.311610e-07</td>\n",
       "      <td>-5.079490e-06</td>\n",
       "      <td>1.048760e-07</td>\n",
       "      <td>-1.957741e-06</td>\n",
       "      <td>-3.997098e-06</td>\n",
       "      <td>-1.436357e-06</td>\n",
       "      <td>1.522571e-04</td>\n",
       "    </tr>\n",
       "  </tbody>\n",
       "</table>\n",
       "</div>"
      ],
      "text/plain": [
       "                UST 0-1       UST 1-5      UST 5-10      TIPS 1-5  \\\n",
       "UST 0-1    3.502929e-08  1.560636e-07  3.131282e-07  1.229736e-07   \n",
       "UST 1-5    1.560636e-07  1.733267e-06  4.343235e-06  1.491929e-06   \n",
       "UST 5-10   3.131282e-07  4.343235e-06  1.276129e-05  3.757341e-06   \n",
       "TIPS 1-5   1.229736e-07  1.491929e-06  3.757341e-06  2.922808e-06   \n",
       "TIPS 5-10  2.337181e-07  3.509741e-06  1.035969e-05  5.587966e-06   \n",
       "Corp 0-1   1.384048e-08  8.784783e-08  1.896346e-07  1.534997e-07   \n",
       "Corp 1-5   1.166709e-07  1.583233e-06  4.123505e-06  1.730962e-06   \n",
       "SSA        1.481217e-07  1.620694e-06  4.053410e-06  1.427983e-06   \n",
       "MBS        1.668940e-07  2.408007e-06  6.783640e-06  2.373306e-06   \n",
       "Equity    -3.878080e-07 -4.326610e-06 -1.263655e-05 -6.311610e-07   \n",
       "\n",
       "              TIPS 5-10      Corp 0-1      Corp 1-5           SSA  \\\n",
       "UST 0-1    2.337181e-07  1.384048e-08  1.166709e-07  1.481217e-07   \n",
       "UST 1-5    3.509741e-06  8.784783e-08  1.583233e-06  1.620694e-06   \n",
       "UST 5-10   1.035969e-05  1.896346e-07  4.123505e-06  4.053410e-06   \n",
       "TIPS 1-5   5.587966e-06  1.534997e-07  1.730962e-06  1.427983e-06   \n",
       "TIPS 5-10  1.357753e-05  2.902943e-07  3.931499e-06  3.308922e-06   \n",
       "Corp 0-1   2.902943e-07  1.940129e-07  3.415492e-07  7.994675e-08   \n",
       "Corp 1-5   3.931499e-06  3.415492e-07  2.365049e-06  1.525256e-06   \n",
       "SSA        3.308922e-06  7.994675e-08  1.525256e-06  1.600808e-06   \n",
       "MBS        6.192984e-06  1.760449e-07  2.553517e-06  2.242952e-06   \n",
       "Equity    -5.079490e-06  1.048760e-07 -1.957741e-06 -3.997098e-06   \n",
       "\n",
       "                    MBS        Equity  \n",
       "UST 0-1    1.668940e-07 -3.878080e-07  \n",
       "UST 1-5    2.408007e-06 -4.326610e-06  \n",
       "UST 5-10   6.783640e-06 -1.263655e-05  \n",
       "TIPS 1-5   2.373306e-06 -6.311610e-07  \n",
       "TIPS 5-10  6.192984e-06 -5.079490e-06  \n",
       "Corp 0-1   1.760449e-07  1.048760e-07  \n",
       "Corp 1-5   2.553517e-06 -1.957741e-06  \n",
       "SSA        2.242952e-06 -3.997098e-06  \n",
       "MBS        5.670954e-06 -1.436357e-06  \n",
       "Equity    -1.436357e-06  1.522571e-04  "
      ]
     },
     "execution_count": 4,
     "metadata": {},
     "output_type": "execute_result"
    }
   ],
   "source": [
    "cov = df_assets_classes.cov()\n",
    "cov"
   ]
  },
  {
   "cell_type": "code",
   "execution_count": 5,
   "metadata": {},
   "outputs": [
    {
     "data": {
      "image/png": "[encoded data removed]",
      "text/plain": [
       "<Figure size 640x480 with 1 Axes>"
      ]
     },
     "metadata": {},
     "output_type": "display_data"
    }
   ],
   "source": [
    "linkage_matrix = linkage(correlation_matrix, method='single')\n",
    "# Plot the dendrogram\n",
    "dendrogram(linkage_matrix, labels=[*diccionario_tickers.values()])\n",
    "plt.title('Hierarchical Clustering Dendrogram')\n",
    "plt.xlabel('Asset')\n",
    "plt.xticks(rotation=90)\n",
    "plt.ylabel('Distance')\n",
    "plt.show()"
   ]
  },
  {
   "cell_type": "code",
   "execution_count": 6,
   "metadata": {},
   "outputs": [],
   "source": [
    "def get_quasi_diag(link):\n",
    "    \n",
    "    # sort clustered items by distance    \n",
    "    link = link.astype(int)\n",
    "    \n",
    "    # get the first and the second item of the last tuple\n",
    "    sort_ix = pd.Series([link[-1,0], link[-1,1]]) \n",
    "    \n",
    "    # the total num of items is the third item of the last list\n",
    "    num_items = link[-1, 3]\n",
    "    \n",
    "    # if the max of sort_ix is bigger than or equal to the max_items\n",
    "    while sort_ix.max() >= num_items:\n",
    "        # assign sort_ix index with 24 x 24\n",
    "        sort_ix.index = range(0, sort_ix.shape[0]*2, 2) # odd numers as index\n",
    "        df0 = sort_ix[sort_ix >= num_items] # find clusters\n",
    "        \n",
    "        # df0 contain even index and cluster index\n",
    "        i = df0.index\n",
    "        j = df0.values - num_items # \n",
    "        \n",
    "        sort_ix[i] = link[j,0] # item 1\n",
    "        \n",
    "        df0  = pd.Series(link[j, 1], index=i+1)\n",
    "        \n",
    "        sort_ix = pd.concat([sort_ix,df0], axis = 0)\n",
    "        \n",
    "        sort_ix = sort_ix.sort_index()\n",
    "\n",
    "        sort_ix.index = range(sort_ix.shape[0])\n",
    "        \n",
    "    \n",
    "    return sort_ix.tolist()"
   ]
  },
  {
   "cell_type": "code",
   "execution_count": 7,
   "metadata": {},
   "outputs": [
    {
     "data": {
      "text/plain": [
       "[9, 5, 0, 6, 3, 4, 8, 2, 1, 7]"
      ]
     },
     "execution_count": 7,
     "metadata": {},
     "output_type": "execute_result"
    }
   ],
   "source": [
    "sort_ix = get_quasi_diag(linkage_matrix)\n",
    "sort_ix"
   ]
  },
  {
   "cell_type": "code",
   "execution_count": 8,
   "metadata": {},
   "outputs": [
    {
     "data": {
      "text/html": [
       "<div>\n",
       "<style scoped>\n",
       "    .dataframe tbody tr th:only-of-type {\n",
       "        vertical-align: middle;\n",
       "    }\n",
       "\n",
       "    .dataframe tbody tr th {\n",
       "        vertical-align: top;\n",
       "    }\n",
       "\n",
       "    .dataframe thead th {\n",
       "        text-align: right;\n",
       "    }\n",
       "</style>\n",
       "<table border=\"1\" class=\"dataframe\">\n",
       "  <thead>\n",
       "    <tr style=\"text-align: right;\">\n",
       "      <th></th>\n",
       "      <th>Initial Order</th>\n",
       "      <th>New Order</th>\n",
       "    </tr>\n",
       "  </thead>\n",
       "  <tbody>\n",
       "    <tr>\n",
       "      <th>0</th>\n",
       "      <td>UST 0-1</td>\n",
       "      <td>Equity</td>\n",
       "    </tr>\n",
       "    <tr>\n",
       "      <th>1</th>\n",
       "      <td>UST 1-5</td>\n",
       "      <td>Corp 0-1</td>\n",
       "    </tr>\n",
       "    <tr>\n",
       "      <th>2</th>\n",
       "      <td>UST 5-10</td>\n",
       "      <td>UST 0-1</td>\n",
       "    </tr>\n",
       "    <tr>\n",
       "      <th>3</th>\n",
       "      <td>TIPS 1-5</td>\n",
       "      <td>Corp 1-5</td>\n",
       "    </tr>\n",
       "    <tr>\n",
       "      <th>4</th>\n",
       "      <td>TIPS 5-10</td>\n",
       "      <td>TIPS 1-5</td>\n",
       "    </tr>\n",
       "    <tr>\n",
       "      <th>5</th>\n",
       "      <td>Corp 0-1</td>\n",
       "      <td>TIPS 5-10</td>\n",
       "    </tr>\n",
       "    <tr>\n",
       "      <th>6</th>\n",
       "      <td>Corp 1-5</td>\n",
       "      <td>MBS</td>\n",
       "    </tr>\n",
       "    <tr>\n",
       "      <th>7</th>\n",
       "      <td>SSA</td>\n",
       "      <td>UST 5-10</td>\n",
       "    </tr>\n",
       "    <tr>\n",
       "      <th>8</th>\n",
       "      <td>MBS</td>\n",
       "      <td>UST 1-5</td>\n",
       "    </tr>\n",
       "    <tr>\n",
       "      <th>9</th>\n",
       "      <td>Equity</td>\n",
       "      <td>SSA</td>\n",
       "    </tr>\n",
       "  </tbody>\n",
       "</table>\n",
       "</div>"
      ],
      "text/plain": [
       "  Initial Order  New Order\n",
       "0       UST 0-1     Equity\n",
       "1       UST 1-5   Corp 0-1\n",
       "2      UST 5-10    UST 0-1\n",
       "3      TIPS 1-5   Corp 1-5\n",
       "4     TIPS 5-10   TIPS 1-5\n",
       "5      Corp 0-1  TIPS 5-10\n",
       "6      Corp 1-5        MBS\n",
       "7           SSA   UST 5-10\n",
       "8           MBS    UST 1-5\n",
       "9        Equity        SSA"
      ]
     },
     "execution_count": 8,
     "metadata": {},
     "output_type": "execute_result"
    }
   ],
   "source": [
    "initial_order = [*diccionario_tickers.values()]\n",
    "sorted_lst = [df_assets_classes.columns[i] for i in sort_ix]\n",
    "assets_df = pd.DataFrame(sorted_lst, initial_order).reset_index()\n",
    "assets_df = assets_df.rename(columns = {'index':'Initial Order', 0:'New Order'})\n",
    "assets_df"
   ]
  },
  {
   "cell_type": "code",
   "execution_count": 9,
   "metadata": {},
   "outputs": [
    {
     "data": {
      "image/png": "[encoded data removed]",
      "text/plain": [
       "<Figure size 640x480 with 2 Axes>"
      ]
     },
     "metadata": {},
     "output_type": "display_data"
    }
   ],
   "source": [
    "correlation_matrix = correlation_matrix.loc[initial_order, initial_order]\n",
    "plt.imshow(correlation_matrix, cmap='hot', interpolation='nearest')\n",
    "plt.colorbar()\n",
    "plt.show()"
   ]
  },
  {
   "cell_type": "code",
   "execution_count": 10,
   "metadata": {},
   "outputs": [
    {
     "data": {
      "image/png": "[encoded data removed]",
      "text/plain": [
       "<Figure size 640x480 with 2 Axes>"
      ]
     },
     "metadata": {},
     "output_type": "display_data"
    }
   ],
   "source": [
    "correlation_matrix = correlation_matrix.loc[sorted_lst, sorted_lst]\n",
    "correlation_matrix.index = sort_ix\n",
    "correlation_matrix.columns = sort_ix\n",
    "correlation_matrix\n",
    "plt.imshow(correlation_matrix, cmap='hot', interpolation='nearest')\n",
    "plt.colorbar()\n",
    "plt.show()\n",
    "### Los labels no es posible redefinirlos con matplotlib, si se puede hacer con Seaborn. "
   ]
  },
  {
   "cell_type": "code",
   "execution_count": 11,
   "metadata": {},
   "outputs": [],
   "source": [
    "def get_cluster_var(cov, c_items):\n",
    "    cov_ = cov.iloc[c_items, c_items] # matrix slice\n",
    "    # calculate the inversev-variance portfolio\n",
    "    ivp = 1./np.diag(cov_)\n",
    "    ivp/=ivp.sum()\n",
    "    w_ = ivp.reshape(-1,1)\n",
    "    c_var = np.dot(np.dot(w_.T, cov_), w_)[0,0]\n",
    "    return c_var\n",
    "\n",
    "def get_rec_bipart(cov, sort_ix):\n",
    "    # compute HRP allocation\n",
    "    # intialize weights of 1\n",
    "    w = pd.Series(1, index=sort_ix)\n",
    "    \n",
    "    # intialize all items in one cluster\n",
    "    c_items = [sort_ix]\n",
    "    while len(c_items) > 0:\n",
    "        # bisection\n",
    "        \"\"\"\n",
    "        [[9, 5, 0, 6, 3], [4, 8, 2 ,1, 7]]\n",
    "        [[9, 5], [0, 6, 3], [4, 8], [2, 1, 7]]\n",
    "        [[9], [5], [0], [6, 3], [4], [8], [2], [1], [7]]\n",
    "        [[9], [5], [0], [6], [3], [4], [8], [2], [1] , [7]]\n",
    "        \n",
    "        \"\"\"\n",
    "        c_items = [i[int(j):int(k)] for i in c_items for j,k in \n",
    "                   ((0,len(i)/2),(len(i)/2,len(i))) if len(i)>1]\n",
    "        \n",
    "        print(c_items)\n",
    "        # now it has 2\n",
    "        for i in range(0, len(c_items), 2):\n",
    "            \n",
    "            c_items0 = c_items[i] # cluster 1\n",
    "            c_items1 = c_items[i+1] # cluter 2\n",
    "            \n",
    "            c_var0 = get_cluster_var(cov, c_items0)\n",
    "            c_var1 = get_cluster_var(cov, c_items1)\n",
    "            \n",
    "            alpha = 1 - c_var0/(c_var0+c_var1)\n",
    "            \n",
    "            w[c_items0] *= alpha\n",
    "            w[c_items1] *=1-alpha\n",
    "\n",
    "        print(w)\n",
    "    return w"
   ]
  },
  {
   "cell_type": "code",
   "execution_count": 12,
   "metadata": {},
   "outputs": [],
   "source": [
    "def calculate_corr_m(variance_df, columns = None):\n",
    "    # \n",
    "    number_of_assets = len(variance_df.columns)\n",
    "    Rho = np.ones((number_of_assets,number_of_assets))  # Matriz de correlaciones\n",
    "    for i in range(number_of_assets):  \n",
    "        j = i+1\n",
    "        while j < number_of_assets:\n",
    "            Rho[i,j] = variance_df.iloc[i,j]/np.sqrt(variance_df.iloc[i,i]*variance_df.iloc[j,j])\n",
    "            Rho[j,i] = Rho[i,j]\n",
    "            j+=1\n",
    "    if(columns is not None):\n",
    "        Rho = pd.DataFrame(Rho, index=columns, columns=columns)\n",
    "    return Rho\n"
   ]
  },
  {
   "cell_type": "code",
   "execution_count": 13,
   "metadata": {},
   "outputs": [
    {
     "name": "stdout",
     "output_type": "stream",
     "text": [
      "[[9, 5, 0, 6, 3], [4, 8, 2, 1, 7]]\n",
      "9    0.983866\n",
      "5    0.983866\n",
      "0    0.983866\n",
      "6    0.983866\n",
      "3    0.983866\n",
      "4    0.016134\n",
      "8    0.016134\n",
      "2    0.016134\n",
      "1    0.016134\n",
      "7    0.016134\n",
      "dtype: float64\n",
      "[[9, 5], [0, 6, 3], [4, 8], [2, 1, 7]]\n",
      "9    0.170840\n",
      "5    0.170840\n",
      "0    0.813026\n",
      "6    0.813026\n",
      "3    0.813026\n",
      "4    0.003729\n",
      "8    0.003729\n",
      "2    0.012405\n",
      "1    0.012405\n",
      "7    0.012405\n",
      "dtype: float64\n",
      "[[9], [5], [0], [6, 3], [4], [8], [2], [1, 7]]\n",
      "9    0.000217\n",
      "5    0.170623\n",
      "0    0.800069\n",
      "6    0.012956\n",
      "3    0.012956\n",
      "4    0.001099\n",
      "8    0.002630\n",
      "2    0.001414\n",
      "1    0.010992\n",
      "7    0.010992\n",
      "dtype: float64\n",
      "[[6], [3], [1], [7]]\n",
      "9    0.000217\n",
      "5    0.170623\n",
      "0    0.800069\n",
      "6    0.007161\n",
      "3    0.005795\n",
      "4    0.001099\n",
      "8    0.002630\n",
      "2    0.001414\n",
      "1    0.005277\n",
      "7    0.005714\n",
      "dtype: float64\n",
      "[]\n",
      "9    0.000217\n",
      "5    0.170623\n",
      "0    0.800069\n",
      "6    0.007161\n",
      "3    0.005795\n",
      "4    0.001099\n",
      "8    0.002630\n",
      "2    0.001414\n",
      "1    0.005277\n",
      "7    0.005714\n",
      "dtype: float64\n"
     ]
    },
    {
     "name": "stderr",
     "output_type": "stream",
     "text": [
      "C:\\Users\\jcamargo\\AppData\\Local\\Temp\\ipykernel_30800\\4100947805.py:41: FutureWarning: Setting an item of incompatible dtype is deprecated and will raise an error in a future version of pandas. Value '[0.98386584 0.98386584 0.98386584 0.98386584 0.98386584]' has dtype incompatible with int64, please explicitly cast to a compatible dtype first.\n",
      "  w[c_items0] *= alpha\n"
     ]
    },
    {
     "data": {
      "text/plain": [
       "9    0.000217\n",
       "5    0.170623\n",
       "0    0.800069\n",
       "6    0.007161\n",
       "3    0.005795\n",
       "4    0.001099\n",
       "8    0.002630\n",
       "2    0.001414\n",
       "1    0.005277\n",
       "7    0.005714\n",
       "dtype: float64"
      ]
     },
     "execution_count": 13,
     "metadata": {},
     "output_type": "execute_result"
    }
   ],
   "source": [
    "weights = get_rec_bipart(cov, sort_ix)\n",
    "weights"
   ]
  },
  {
   "cell_type": "code",
   "execution_count": 14,
   "metadata": {},
   "outputs": [
    {
     "data": {
      "text/plain": [
       "UST 0-1      0.800069\n",
       "UST 1-5      0.005277\n",
       "UST 5-10     0.001414\n",
       "TIPS 1-5     0.005795\n",
       "TIPS 5-10    0.001099\n",
       "Corp 0-1     0.170623\n",
       "Corp 1-5     0.007161\n",
       "SSA          0.005714\n",
       "MBS          0.002630\n",
       "Equity       0.000217\n",
       "dtype: float64"
      ]
     },
     "execution_count": 14,
     "metadata": {},
     "output_type": "execute_result"
    }
   ],
   "source": [
    "weights_HRP = pd.Series(data = weights)\n",
    "shuffled_list = np.take([*diccionario_tickers.values()], sort_ix).tolist()\n",
    "weights_HRP.index = shuffled_list\n",
    "weights_HRP = weights_HRP.loc[[*diccionario_tickers.values()]] \n",
    "weights_HRP"
   ]
  },
  {
   "cell_type": "code",
   "execution_count": 15,
   "metadata": {},
   "outputs": [
    {
     "data": {
      "text/plain": [
       "UST 0-1      80.006935\n",
       "UST 1-5       0.527742\n",
       "UST 5-10      0.141366\n",
       "TIPS 1-5      0.579484\n",
       "TIPS 5-10     0.109863\n",
       "Corp 0-1     17.062278\n",
       "Corp 1-5      0.716146\n",
       "SSA           0.571410\n",
       "MBS           0.263036\n",
       "Equity        0.021742\n",
       "dtype: float64"
      ]
     },
     "execution_count": 15,
     "metadata": {},
     "output_type": "execute_result"
    }
   ],
   "source": [
    "weights_HRP*100"
   ]
  },
  {
   "cell_type": "markdown",
   "metadata": {},
   "source": [
    "Termina con un allocation importante en tesoros 0-1 y también en corporativos 0-1. "
   ]
  },
  {
   "cell_type": "markdown",
   "metadata": {},
   "source": [
    "### Implementación con Librería 'Skfolio' de Risk Parity, Hierarchical Risk Parity\n",
    "\n",
    "A continuación se muestra un ejemplo de la implementación de Risk Parity y Hierarchical Risk Parity usando la librería Skfolio. Esta librería guarda una sintaxis similar a la de Scikitlearn permitiendo poder separar los datos entre train y test. También permite hacer un gridsearch para tunear los parámetros. "
   ]
  },
  {
   "cell_type": "code",
   "execution_count": 16,
   "metadata": {},
   "outputs": [],
   "source": [
    "import pandas as pd\n",
    "from librerias.finance_operators import calculateLogReturns\n",
    "from librerias.Technical_Indicators import *\n",
    "from scipy.cluster.hierarchy import linkage, dendrogram\n",
    "from librerias.Backtest import *\n",
    "from skfolio.preprocessing import prices_to_returns"
   ]
  },
  {
   "cell_type": "code",
   "execution_count": 17,
   "metadata": {},
   "outputs": [
    {
     "data": {
      "text/html": [
       "<div>\n",
       "<style scoped>\n",
       "    .dataframe tbody tr th:only-of-type {\n",
       "        vertical-align: middle;\n",
       "    }\n",
       "\n",
       "    .dataframe tbody tr th {\n",
       "        vertical-align: top;\n",
       "    }\n",
       "\n",
       "    .dataframe thead th {\n",
       "        text-align: right;\n",
       "    }\n",
       "</style>\n",
       "<table border=\"1\" class=\"dataframe\">\n",
       "  <thead>\n",
       "    <tr style=\"text-align: right;\">\n",
       "      <th></th>\n",
       "      <th>ID</th>\n",
       "      <th>Cash</th>\n",
       "      <th>Tips</th>\n",
       "      <th>Corporativos</th>\n",
       "      <th>MBS</th>\n",
       "      <th>Equity</th>\n",
       "      <th>Emergentes</th>\n",
       "    </tr>\n",
       "  </thead>\n",
       "  <tbody>\n",
       "    <tr>\n",
       "      <th>0</th>\n",
       "      <td>2006-01-31</td>\n",
       "      <td>104.630</td>\n",
       "      <td>101.7361</td>\n",
       "      <td>353.795</td>\n",
       "      <td>1267.487</td>\n",
       "      <td>1937.93</td>\n",
       "      <td>192.57</td>\n",
       "    </tr>\n",
       "    <tr>\n",
       "      <th>1</th>\n",
       "      <td>2006-02-01</td>\n",
       "      <td>104.643</td>\n",
       "      <td>101.5331</td>\n",
       "      <td>353.337</td>\n",
       "      <td>1265.328</td>\n",
       "      <td>1941.75</td>\n",
       "      <td>192.37</td>\n",
       "    </tr>\n",
       "    <tr>\n",
       "      <th>2</th>\n",
       "      <td>2006-02-02</td>\n",
       "      <td>104.655</td>\n",
       "      <td>101.4291</td>\n",
       "      <td>353.394</td>\n",
       "      <td>1265.584</td>\n",
       "      <td>1924.67</td>\n",
       "      <td>192.46</td>\n",
       "    </tr>\n",
       "    <tr>\n",
       "      <th>3</th>\n",
       "      <td>2006-02-03</td>\n",
       "      <td>104.671</td>\n",
       "      <td>101.5572</td>\n",
       "      <td>353.455</td>\n",
       "      <td>1266.487</td>\n",
       "      <td>1914.50</td>\n",
       "      <td>192.64</td>\n",
       "    </tr>\n",
       "    <tr>\n",
       "      <th>4</th>\n",
       "      <td>2006-02-06</td>\n",
       "      <td>104.707</td>\n",
       "      <td>101.5455</td>\n",
       "      <td>353.452</td>\n",
       "      <td>1266.868</td>\n",
       "      <td>1916.04</td>\n",
       "      <td>192.80</td>\n",
       "    </tr>\n",
       "    <tr>\n",
       "      <th>...</th>\n",
       "      <td>...</td>\n",
       "      <td>...</td>\n",
       "      <td>...</td>\n",
       "      <td>...</td>\n",
       "      <td>...</td>\n",
       "      <td>...</td>\n",
       "      <td>...</td>\n",
       "    </tr>\n",
       "    <tr>\n",
       "      <th>4581</th>\n",
       "      <td>2023-08-15</td>\n",
       "      <td>129.716</td>\n",
       "      <td>160.8998</td>\n",
       "      <td>582.801</td>\n",
       "      <td>2015.545</td>\n",
       "      <td>9549.17</td>\n",
       "      <td>405.38</td>\n",
       "    </tr>\n",
       "    <tr>\n",
       "      <th>4582</th>\n",
       "      <td>2023-08-16</td>\n",
       "      <td>129.735</td>\n",
       "      <td>160.6423</td>\n",
       "      <td>582.045</td>\n",
       "      <td>2011.529</td>\n",
       "      <td>9478.54</td>\n",
       "      <td>404.87</td>\n",
       "    </tr>\n",
       "    <tr>\n",
       "      <th>4583</th>\n",
       "      <td>2023-08-17</td>\n",
       "      <td>129.755</td>\n",
       "      <td>160.7714</td>\n",
       "      <td>582.219</td>\n",
       "      <td>2009.425</td>\n",
       "      <td>9407.27</td>\n",
       "      <td>403.71</td>\n",
       "    </tr>\n",
       "    <tr>\n",
       "      <th>4584</th>\n",
       "      <td>2023-08-18</td>\n",
       "      <td>129.811</td>\n",
       "      <td>160.9014</td>\n",
       "      <td>582.552</td>\n",
       "      <td>2014.660</td>\n",
       "      <td>9406.50</td>\n",
       "      <td>403.62</td>\n",
       "    </tr>\n",
       "    <tr>\n",
       "      <th>4585</th>\n",
       "      <td>2023-08-21</td>\n",
       "      <td>129.830</td>\n",
       "      <td>160.7574</td>\n",
       "      <td>581.629</td>\n",
       "      <td>2003.931</td>\n",
       "      <td>9471.39</td>\n",
       "      <td>402.35</td>\n",
       "    </tr>\n",
       "  </tbody>\n",
       "</table>\n",
       "<p>4586 rows × 7 columns</p>\n",
       "</div>"
      ],
      "text/plain": [
       "              ID     Cash      Tips  Corporativos       MBS   Equity  \\\n",
       "0     2006-01-31  104.630  101.7361       353.795  1267.487  1937.93   \n",
       "1     2006-02-01  104.643  101.5331       353.337  1265.328  1941.75   \n",
       "2     2006-02-02  104.655  101.4291       353.394  1265.584  1924.67   \n",
       "3     2006-02-03  104.671  101.5572       353.455  1266.487  1914.50   \n",
       "4     2006-02-06  104.707  101.5455       353.452  1266.868  1916.04   \n",
       "...          ...      ...       ...           ...       ...      ...   \n",
       "4581  2023-08-15  129.716  160.8998       582.801  2015.545  9549.17   \n",
       "4582  2023-08-16  129.735  160.6423       582.045  2011.529  9478.54   \n",
       "4583  2023-08-17  129.755  160.7714       582.219  2009.425  9407.27   \n",
       "4584  2023-08-18  129.811  160.9014       582.552  2014.660  9406.50   \n",
       "4585  2023-08-21  129.830  160.7574       581.629  2003.931  9471.39   \n",
       "\n",
       "      Emergentes  \n",
       "0         192.57  \n",
       "1         192.37  \n",
       "2         192.46  \n",
       "3         192.64  \n",
       "4         192.80  \n",
       "...          ...  \n",
       "4581      405.38  \n",
       "4582      404.87  \n",
       "4583      403.71  \n",
       "4584      403.62  \n",
       "4585      402.35  \n",
       "\n",
       "[4586 rows x 7 columns]"
      ]
     },
     "execution_count": 17,
     "metadata": {},
     "output_type": "execute_result"
    }
   ],
   "source": [
    "indices = pd.read_csv('Datos\\\\'+'Índices.csv', sep = ';')\n",
    "indices"
   ]
  },
  {
   "cell_type": "code",
   "execution_count": 18,
   "metadata": {},
   "outputs": [],
   "source": [
    "indices.index = pd.to_datetime(indices['ID'])\n",
    "indices = indices.drop(columns=['ID'])\n",
    "indices_returns = prices_to_returns(indices)"
   ]
  },
  {
   "cell_type": "code",
   "execution_count": 19,
   "metadata": {},
   "outputs": [],
   "source": [
    "from plotly.io import show\n",
    "from sklearn.model_selection import train_test_split\n",
    "from skfolio import Population, RiskMeasure\n",
    "from skfolio.datasets import load_sp500_dataset\n",
    "from skfolio.optimization import InverseVolatility, RiskBudgeting\n",
    "from skfolio.preprocessing import prices_to_returns"
   ]
  },
  {
   "cell_type": "code",
   "execution_count": 20,
   "metadata": {},
   "outputs": [
    {
     "data": {
      "text/html": [
       "<div>\n",
       "<style scoped>\n",
       "    .dataframe tbody tr th:only-of-type {\n",
       "        vertical-align: middle;\n",
       "    }\n",
       "\n",
       "    .dataframe tbody tr th {\n",
       "        vertical-align: top;\n",
       "    }\n",
       "\n",
       "    .dataframe thead th {\n",
       "        text-align: right;\n",
       "    }\n",
       "</style>\n",
       "<table border=\"1\" class=\"dataframe\">\n",
       "  <thead>\n",
       "    <tr style=\"text-align: right;\">\n",
       "      <th></th>\n",
       "      <th>Cash</th>\n",
       "      <th>Tips</th>\n",
       "      <th>Corporativos</th>\n",
       "      <th>MBS</th>\n",
       "      <th>Equity</th>\n",
       "      <th>Emergentes</th>\n",
       "    </tr>\n",
       "    <tr>\n",
       "      <th>ID</th>\n",
       "      <th></th>\n",
       "      <th></th>\n",
       "      <th></th>\n",
       "      <th></th>\n",
       "      <th></th>\n",
       "      <th></th>\n",
       "    </tr>\n",
       "  </thead>\n",
       "  <tbody>\n",
       "    <tr>\n",
       "      <th>2006-02-01</th>\n",
       "      <td>0.000124</td>\n",
       "      <td>-0.001995</td>\n",
       "      <td>-0.001295</td>\n",
       "      <td>-0.001703</td>\n",
       "      <td>0.001971</td>\n",
       "      <td>-0.001039</td>\n",
       "    </tr>\n",
       "    <tr>\n",
       "      <th>2006-02-02</th>\n",
       "      <td>0.000115</td>\n",
       "      <td>-0.001024</td>\n",
       "      <td>0.000161</td>\n",
       "      <td>0.000202</td>\n",
       "      <td>-0.008796</td>\n",
       "      <td>0.000468</td>\n",
       "    </tr>\n",
       "    <tr>\n",
       "      <th>2006-02-03</th>\n",
       "      <td>0.000153</td>\n",
       "      <td>0.001263</td>\n",
       "      <td>0.000173</td>\n",
       "      <td>0.000714</td>\n",
       "      <td>-0.005284</td>\n",
       "      <td>0.000935</td>\n",
       "    </tr>\n",
       "    <tr>\n",
       "      <th>2006-02-06</th>\n",
       "      <td>0.000344</td>\n",
       "      <td>-0.000115</td>\n",
       "      <td>-0.000008</td>\n",
       "      <td>0.000301</td>\n",
       "      <td>0.000804</td>\n",
       "      <td>0.000831</td>\n",
       "    </tr>\n",
       "    <tr>\n",
       "      <th>2006-02-07</th>\n",
       "      <td>0.000096</td>\n",
       "      <td>-0.001403</td>\n",
       "      <td>0.000065</td>\n",
       "      <td>0.000057</td>\n",
       "      <td>-0.008069</td>\n",
       "      <td>-0.000311</td>\n",
       "    </tr>\n",
       "    <tr>\n",
       "      <th>...</th>\n",
       "      <td>...</td>\n",
       "      <td>...</td>\n",
       "      <td>...</td>\n",
       "      <td>...</td>\n",
       "      <td>...</td>\n",
       "      <td>...</td>\n",
       "    </tr>\n",
       "    <tr>\n",
       "      <th>2017-10-26</th>\n",
       "      <td>0.000017</td>\n",
       "      <td>-0.000010</td>\n",
       "      <td>-0.000184</td>\n",
       "      <td>-0.001043</td>\n",
       "      <td>0.001271</td>\n",
       "      <td>-0.000533</td>\n",
       "    </tr>\n",
       "    <tr>\n",
       "      <th>2017-10-27</th>\n",
       "      <td>0.000051</td>\n",
       "      <td>0.001311</td>\n",
       "      <td>0.000591</td>\n",
       "      <td>0.001871</td>\n",
       "      <td>0.008074</td>\n",
       "      <td>0.000381</td>\n",
       "    </tr>\n",
       "    <tr>\n",
       "      <th>2017-10-30</th>\n",
       "      <td>0.000042</td>\n",
       "      <td>0.001591</td>\n",
       "      <td>0.001172</td>\n",
       "      <td>0.002481</td>\n",
       "      <td>-0.003112</td>\n",
       "      <td>0.001675</td>\n",
       "    </tr>\n",
       "    <tr>\n",
       "      <th>2017-10-31</th>\n",
       "      <td>0.000008</td>\n",
       "      <td>0.000052</td>\n",
       "      <td>-0.000447</td>\n",
       "      <td>-0.000248</td>\n",
       "      <td>0.000977</td>\n",
       "      <td>0.000431</td>\n",
       "    </tr>\n",
       "    <tr>\n",
       "      <th>2017-11-01</th>\n",
       "      <td>0.000000</td>\n",
       "      <td>-0.000146</td>\n",
       "      <td>-0.000445</td>\n",
       "      <td>-0.000413</td>\n",
       "      <td>0.001591</td>\n",
       "      <td>0.000025</td>\n",
       "    </tr>\n",
       "  </tbody>\n",
       "</table>\n",
       "<p>3071 rows × 6 columns</p>\n",
       "</div>"
      ],
      "text/plain": [
       "                Cash      Tips  Corporativos       MBS    Equity  Emergentes\n",
       "ID                                                                          \n",
       "2006-02-01  0.000124 -0.001995     -0.001295 -0.001703  0.001971   -0.001039\n",
       "2006-02-02  0.000115 -0.001024      0.000161  0.000202 -0.008796    0.000468\n",
       "2006-02-03  0.000153  0.001263      0.000173  0.000714 -0.005284    0.000935\n",
       "2006-02-06  0.000344 -0.000115     -0.000008  0.000301  0.000804    0.000831\n",
       "2006-02-07  0.000096 -0.001403      0.000065  0.000057 -0.008069   -0.000311\n",
       "...              ...       ...           ...       ...       ...         ...\n",
       "2017-10-26  0.000017 -0.000010     -0.000184 -0.001043  0.001271   -0.000533\n",
       "2017-10-27  0.000051  0.001311      0.000591  0.001871  0.008074    0.000381\n",
       "2017-10-30  0.000042  0.001591      0.001172  0.002481 -0.003112    0.001675\n",
       "2017-10-31  0.000008  0.000052     -0.000447 -0.000248  0.000977    0.000431\n",
       "2017-11-01  0.000000 -0.000146     -0.000445 -0.000413  0.001591    0.000025\n",
       "\n",
       "[3071 rows x 6 columns]"
      ]
     },
     "execution_count": 20,
     "metadata": {},
     "output_type": "execute_result"
    }
   ],
   "source": [
    "# Se puede segmentar los datos en entrenamiento y prueba con el mismo método de Scikit-Learn\n",
    "X_train, X_test = train_test_split(indices_returns, test_size=0.33, shuffle=False)\n",
    "X_train = X_train.dropna()\n",
    "X_train"
   ]
  },
  {
   "cell_type": "code",
   "execution_count": 21,
   "metadata": {},
   "outputs": [
    {
     "data": {
      "text/plain": [
       "array([0.8666364 , 0.03202029, 0.03718986, 0.03010838, 0.00900681,\n",
       "       0.02503826])"
      ]
     },
     "execution_count": 21,
     "metadata": {},
     "output_type": "execute_result"
    }
   ],
   "source": [
    "model = RiskBudgeting(\n",
    "    risk_measure=RiskMeasure.VARIANCE,\n",
    "    portfolio_params=dict(name=\"Risk Parity - Variance\"),\n",
    ")\n",
    "model.fit(X_train)\n",
    "model.weights_"
   ]
  },
  {
   "cell_type": "code",
   "execution_count": 22,
   "metadata": {},
   "outputs": [
    {
     "data": {
      "text/plain": [
       "array([0.81425724, 0.04826696, 0.052782  , 0.0419618 , 0.00665524,\n",
       "       0.03607676])"
      ]
     },
     "execution_count": 22,
     "metadata": {},
     "output_type": "execute_result"
    }
   ],
   "source": [
    "bench = InverseVolatility(portfolio_params=dict(name=\"Inverse Vol\"))\n",
    "bench.fit(X_train)\n",
    "bench.weights_"
   ]
  },
  {
   "cell_type": "code",
   "execution_count": 23,
   "metadata": {},
   "outputs": [
    {
     "data": {
      "application/vnd.plotly.v1+json": {
       "config": {
        "plotlyServerURL": "https://plot.ly"
       },
       "data": [
        {
         "alignmentgroup": "True",
         "hovertemplate": "variable=contribution<br>index=%{x}<br>value=%{y}<extra></extra>",
         "legendgroup": "contribution",
         "marker": {
          "color": "#636efa",
          "pattern": {
           "shape": ""
          }
         },
         "name": "contribution",
         "offsetgroup": "contribution",
         "orientation": "v",
         "showlegend": true,
         "textposition": "auto",
         "type": "bar",
         "x": [
          "Cash",
          "Tips",
          "Corporativos",
          "MBS",
          "Equity",
          "Emergentes"
         ],
         "xaxis": "x",
         "y": [
          0.000003957054389310093,
          0.000003967483630905245,
          0.0000039665901015541855,
          0.000003967814016153508,
          0.000003964341698701008,
          0.00000396803640819315
         ],
         "yaxis": "y"
        }
       ],
       "layout": {
        "barmode": "relative",
        "legend": {
         "title": {
          "text": "variable"
         },
         "tracegroupgap": 0
        },
        "margin": {
         "t": 60
        },
        "template": {
         "data": {
          "bar": [
           {
            "error_x": {
             "color": "#2a3f5f"
            },
            "error_y": {
             "color": "#2a3f5f"
            },
            "marker": {
             "line": {
              "color": "#E5ECF6",
              "width": 0.5
             },
             "pattern": {
              "fillmode": "overlay",
              "size": 10,
              "solidity": 0.2
             }
            },
            "type": "bar"
           }
          ],
          "barpolar": [
           {
            "marker": {
             "line": {
              "color": "#E5ECF6",
              "width": 0.5
             },
             "pattern": {
              "fillmode": "overlay",
              "size": 10,
              "solidity": 0.2
             }
            },
            "type": "barpolar"
           }
          ],
          "carpet": [
           {
            "aaxis": {
             "endlinecolor": "#2a3f5f",
             "gridcolor": "white",
             "linecolor": "white",
             "minorgridcolor": "white",
             "startlinecolor": "#2a3f5f"
            },
            "baxis": {
             "endlinecolor": "#2a3f5f",
             "gridcolor": "white",
             "linecolor": "white",
             "minorgridcolor": "white",
             "startlinecolor": "#2a3f5f"
            },
            "type": "carpet"
           }
          ],
          "choropleth": [
           {
            "colorbar": {
             "outlinewidth": 0,
             "ticks": ""
            },
            "type": "choropleth"
           }
          ],
          "contour": [
           {
            "colorbar": {
             "outlinewidth": 0,
             "ticks": ""
            },
            "colorscale": [
             [
              0,
              "#0d0887"
             ],
             [
              0.1111111111111111,
              "#46039f"
             ],
             [
              0.2222222222222222,
              "#7201a8"
             ],
             [
              0.3333333333333333,
              "#9c179e"
             ],
             [
              0.4444444444444444,
              "#bd3786"
             ],
             [
              0.5555555555555556,
              "#d8576b"
             ],
             [
              0.6666666666666666,
              "#ed7953"
             ],
             [
              0.7777777777777778,
              "#fb9f3a"
             ],
             [
              0.8888888888888888,
              "#fdca26"
             ],
             [
              1,
              "#f0f921"
             ]
            ],
            "type": "contour"
           }
          ],
          "contourcarpet": [
           {
            "colorbar": {
             "outlinewidth": 0,
             "ticks": ""
            },
            "type": "contourcarpet"
           }
          ],
          "heatmap": [
           {
            "colorbar": {
             "outlinewidth": 0,
             "ticks": ""
            },
            "colorscale": [
             [
              0,
              "#0d0887"
             ],
             [
              0.1111111111111111,
              "#46039f"
             ],
             [
              0.2222222222222222,
              "#7201a8"
             ],
             [
              0.3333333333333333,
              "#9c179e"
             ],
             [
              0.4444444444444444,
              "#bd3786"
             ],
             [
              0.5555555555555556,
              "#d8576b"
             ],
             [
              0.6666666666666666,
              "#ed7953"
             ],
             [
              0.7777777777777778,
              "#fb9f3a"
             ],
             [
              0.8888888888888888,
              "#fdca26"
             ],
             [
              1,
              "#f0f921"
             ]
            ],
            "type": "heatmap"
           }
          ],
          "heatmapgl": [
           {
            "colorbar": {
             "outlinewidth": 0,
             "ticks": ""
            },
            "colorscale": [
             [
              0,
              "#0d0887"
             ],
             [
              0.1111111111111111,
              "#46039f"
             ],
             [
              0.2222222222222222,
              "#7201a8"
             ],
             [
              0.3333333333333333,
              "#9c179e"
             ],
             [
              0.4444444444444444,
              "#bd3786"
             ],
             [
              0.5555555555555556,
              "#d8576b"
             ],
             [
              0.6666666666666666,
              "#ed7953"
             ],
             [
              0.7777777777777778,
              "#fb9f3a"
             ],
             [
              0.8888888888888888,
              "#fdca26"
             ],
             [
              1,
              "#f0f921"
             ]
            ],
            "type": "heatmapgl"
           }
          ],
          "histogram": [
           {
            "marker": {
             "pattern": {
              "fillmode": "overlay",
              "size": 10,
              "solidity": 0.2
             }
            },
            "type": "histogram"
           }
          ],
          "histogram2d": [
           {
            "colorbar": {
             "outlinewidth": 0,
             "ticks": ""
            },
            "colorscale": [
             [
              0,
              "#0d0887"
             ],
             [
              0.1111111111111111,
              "#46039f"
             ],
             [
              0.2222222222222222,
              "#7201a8"
             ],
             [
              0.3333333333333333,
              "#9c179e"
             ],
             [
              0.4444444444444444,
              "#bd3786"
             ],
             [
              0.5555555555555556,
              "#d8576b"
             ],
             [
              0.6666666666666666,
              "#ed7953"
             ],
             [
              0.7777777777777778,
              "#fb9f3a"
             ],
             [
              0.8888888888888888,
              "#fdca26"
             ],
             [
              1,
              "#f0f921"
             ]
            ],
            "type": "histogram2d"
           }
          ],
          "histogram2dcontour": [
           {
            "colorbar": {
             "outlinewidth": 0,
             "ticks": ""
            },
            "colorscale": [
             [
              0,
              "#0d0887"
             ],
             [
              0.1111111111111111,
              "#46039f"
             ],
             [
              0.2222222222222222,
              "#7201a8"
             ],
             [
              0.3333333333333333,
              "#9c179e"
             ],
             [
              0.4444444444444444,
              "#bd3786"
             ],
             [
              0.5555555555555556,
              "#d8576b"
             ],
             [
              0.6666666666666666,
              "#ed7953"
             ],
             [
              0.7777777777777778,
              "#fb9f3a"
             ],
             [
              0.8888888888888888,
              "#fdca26"
             ],
             [
              1,
              "#f0f921"
             ]
            ],
            "type": "histogram2dcontour"
           }
          ],
          "mesh3d": [
           {
            "colorbar": {
             "outlinewidth": 0,
             "ticks": ""
            },
            "type": "mesh3d"
           }
          ],
          "parcoords": [
           {
            "line": {
             "colorbar": {
              "outlinewidth": 0,
              "ticks": ""
             }
            },
            "type": "parcoords"
           }
          ],
          "pie": [
           {
            "automargin": true,
            "type": "pie"
           }
          ],
          "scatter": [
           {
            "fillpattern": {
             "fillmode": "overlay",
             "size": 10,
             "solidity": 0.2
            },
            "type": "scatter"
           }
          ],
          "scatter3d": [
           {
            "line": {
             "colorbar": {
              "outlinewidth": 0,
              "ticks": ""
             }
            },
            "marker": {
             "colorbar": {
              "outlinewidth": 0,
              "ticks": ""
             }
            },
            "type": "scatter3d"
           }
          ],
          "scattercarpet": [
           {
            "marker": {
             "colorbar": {
              "outlinewidth": 0,
              "ticks": ""
             }
            },
            "type": "scattercarpet"
           }
          ],
          "scattergeo": [
           {
            "marker": {
             "colorbar": {
              "outlinewidth": 0,
              "ticks": ""
             }
            },
            "type": "scattergeo"
           }
          ],
          "scattergl": [
           {
            "marker": {
             "colorbar": {
              "outlinewidth": 0,
              "ticks": ""
             }
            },
            "type": "scattergl"
           }
          ],
          "scattermapbox": [
           {
            "marker": {
             "colorbar": {
              "outlinewidth": 0,
              "ticks": ""
             }
            },
            "type": "scattermapbox"
           }
          ],
          "scatterpolar": [
           {
            "marker": {
             "colorbar": {
              "outlinewidth": 0,
              "ticks": ""
             }
            },
            "type": "scatterpolar"
           }
          ],
          "scatterpolargl": [
           {
            "marker": {
             "colorbar": {
              "outlinewidth": 0,
              "ticks": ""
             }
            },
            "type": "scatterpolargl"
           }
          ],
          "scatterternary": [
           {
            "marker": {
             "colorbar": {
              "outlinewidth": 0,
              "ticks": ""
             }
            },
            "type": "scatterternary"
           }
          ],
          "surface": [
           {
            "colorbar": {
             "outlinewidth": 0,
             "ticks": ""
            },
            "colorscale": [
             [
              0,
              "#0d0887"
             ],
             [
              0.1111111111111111,
              "#46039f"
             ],
             [
              0.2222222222222222,
              "#7201a8"
             ],
             [
              0.3333333333333333,
              "#9c179e"
             ],
             [
              0.4444444444444444,
              "#bd3786"
             ],
             [
              0.5555555555555556,
              "#d8576b"
             ],
             [
              0.6666666666666666,
              "#ed7953"
             ],
             [
              0.7777777777777778,
              "#fb9f3a"
             ],
             [
              0.8888888888888888,
              "#fdca26"
             ],
             [
              1,
              "#f0f921"
             ]
            ],
            "type": "surface"
           }
          ],
          "table": [
           {
            "cells": {
             "fill": {
              "color": "#EBF0F8"
             },
             "line": {
              "color": "white"
             }
            },
            "header": {
             "fill": {
              "color": "#C8D4E3"
             },
             "line": {
              "color": "white"
             }
            },
            "type": "table"
           }
          ]
         },
         "layout": {
          "annotationdefaults": {
           "arrowcolor": "#2a3f5f",
           "arrowhead": 0,
           "arrowwidth": 1
          },
          "autotypenumbers": "strict",
          "coloraxis": {
           "colorbar": {
            "outlinewidth": 0,
            "ticks": ""
           }
          },
          "colorscale": {
           "diverging": [
            [
             0,
             "#8e0152"
            ],
            [
             0.1,
             "#c51b7d"
            ],
            [
             0.2,
             "#de77ae"
            ],
            [
             0.3,
             "#f1b6da"
            ],
            [
             0.4,
             "#fde0ef"
            ],
            [
             0.5,
             "#f7f7f7"
            ],
            [
             0.6,
             "#e6f5d0"
            ],
            [
             0.7,
             "#b8e186"
            ],
            [
             0.8,
             "#7fbc41"
            ],
            [
             0.9,
             "#4d9221"
            ],
            [
             1,
             "#276419"
            ]
           ],
           "sequential": [
            [
             0,
             "#0d0887"
            ],
            [
             0.1111111111111111,
             "#46039f"
            ],
            [
             0.2222222222222222,
             "#7201a8"
            ],
            [
             0.3333333333333333,
             "#9c179e"
            ],
            [
             0.4444444444444444,
             "#bd3786"
            ],
            [
             0.5555555555555556,
             "#d8576b"
            ],
            [
             0.6666666666666666,
             "#ed7953"
            ],
            [
             0.7777777777777778,
             "#fb9f3a"
            ],
            [
             0.8888888888888888,
             "#fdca26"
            ],
            [
             1,
             "#f0f921"
            ]
           ],
           "sequentialminus": [
            [
             0,
             "#0d0887"
            ],
            [
             0.1111111111111111,
             "#46039f"
            ],
            [
             0.2222222222222222,
             "#7201a8"
            ],
            [
             0.3333333333333333,
             "#9c179e"
            ],
            [
             0.4444444444444444,
             "#bd3786"
            ],
            [
             0.5555555555555556,
             "#d8576b"
            ],
            [
             0.6666666666666666,
             "#ed7953"
            ],
            [
             0.7777777777777778,
             "#fb9f3a"
            ],
            [
             0.8888888888888888,
             "#fdca26"
            ],
            [
             1,
             "#f0f921"
            ]
           ]
          },
          "colorway": [
           "#636efa",
           "#EF553B",
           "#00cc96",
           "#ab63fa",
           "#FFA15A",
           "#19d3f3",
           "#FF6692",
           "#B6E880",
           "#FF97FF",
           "#FECB52"
          ],
          "font": {
           "color": "#2a3f5f"
          },
          "geo": {
           "bgcolor": "white",
           "lakecolor": "white",
           "landcolor": "#E5ECF6",
           "showlakes": true,
           "showland": true,
           "subunitcolor": "white"
          },
          "hoverlabel": {
           "align": "left"
          },
          "hovermode": "closest",
          "mapbox": {
           "style": "light"
          },
          "paper_bgcolor": "white",
          "plot_bgcolor": "#E5ECF6",
          "polar": {
           "angularaxis": {
            "gridcolor": "white",
            "linecolor": "white",
            "ticks": ""
           },
           "bgcolor": "#E5ECF6",
           "radialaxis": {
            "gridcolor": "white",
            "linecolor": "white",
            "ticks": ""
           }
          },
          "scene": {
           "xaxis": {
            "backgroundcolor": "#E5ECF6",
            "gridcolor": "white",
            "gridwidth": 2,
            "linecolor": "white",
            "showbackground": true,
            "ticks": "",
            "zerolinecolor": "white"
           },
           "yaxis": {
            "backgroundcolor": "#E5ECF6",
            "gridcolor": "white",
            "gridwidth": 2,
            "linecolor": "white",
            "showbackground": true,
            "ticks": "",
            "zerolinecolor": "white"
           },
           "zaxis": {
            "backgroundcolor": "#E5ECF6",
            "gridcolor": "white",
            "gridwidth": 2,
            "linecolor": "white",
            "showbackground": true,
            "ticks": "",
            "zerolinecolor": "white"
           }
          },
          "shapedefaults": {
           "line": {
            "color": "#2a3f5f"
           }
          },
          "ternary": {
           "aaxis": {
            "gridcolor": "white",
            "linecolor": "white",
            "ticks": ""
           },
           "baxis": {
            "gridcolor": "white",
            "linecolor": "white",
            "ticks": ""
           },
           "bgcolor": "#E5ECF6",
           "caxis": {
            "gridcolor": "white",
            "linecolor": "white",
            "ticks": ""
           }
          },
          "title": {
           "x": 0.05
          },
          "xaxis": {
           "automargin": true,
           "gridcolor": "white",
           "linecolor": "white",
           "ticks": "",
           "title": {
            "standoff": 15
           },
           "zerolinecolor": "white",
           "zerolinewidth": 2
          },
          "yaxis": {
           "automargin": true,
           "gridcolor": "white",
           "linecolor": "white",
           "ticks": "",
           "title": {
            "standoff": 15
           },
           "zerolinecolor": "white",
           "zerolinewidth": 2
          }
         }
        },
        "title": {
         "text": "Annualized Variance contribution"
        },
        "xaxis": {
         "anchor": "y",
         "domain": [
          0,
          1
         ],
         "title": {
          "text": "Asset"
         }
        },
        "yaxis": {
         "anchor": "x",
         "domain": [
          0,
          1
         ],
         "title": {
          "text": "Annualized Variance contribution"
         }
        }
       }
      }
     },
     "metadata": {},
     "output_type": "display_data"
    }
   ],
   "source": [
    "ptf_model_train = model.predict(X_train)\n",
    "ptf_model_train.plot_contribution(measure=RiskMeasure.ANNUALIZED_VARIANCE)"
   ]
  },
  {
   "cell_type": "code",
   "execution_count": 24,
   "metadata": {},
   "outputs": [
    {
     "data": {
      "application/vnd.plotly.v1+json": {
       "config": {
        "plotlyServerURL": "https://plot.ly"
       },
       "data": [
        {
         "alignmentgroup": "True",
         "hovertemplate": "variable=contribution<br>index=%{x}<br>value=%{y}<extra></extra>",
         "legendgroup": "contribution",
         "marker": {
          "color": "#636efa",
          "pattern": {
           "shape": ""
          }
         },
         "name": "contribution",
         "offsetgroup": "contribution",
         "orientation": "v",
         "showlegend": true,
         "textposition": "auto",
         "type": "bar",
         "x": [
          "Cash",
          "Tips",
          "Corporativos",
          "MBS",
          "Equity",
          "Emergentes"
         ],
         "xaxis": "x",
         "y": [
          0.000003856891704661059,
          0.000008818432134076389,
          0.000008698573973141614,
          0.000008326404298212182,
          0.0000012637937329207593,
          0.000008264594076913608
         ],
         "yaxis": "y"
        }
       ],
       "layout": {
        "barmode": "relative",
        "legend": {
         "title": {
          "text": "variable"
         },
         "tracegroupgap": 0
        },
        "margin": {
         "t": 60
        },
        "template": {
         "data": {
          "bar": [
           {
            "error_x": {
             "color": "#2a3f5f"
            },
            "error_y": {
             "color": "#2a3f5f"
            },
            "marker": {
             "line": {
              "color": "#E5ECF6",
              "width": 0.5
             },
             "pattern": {
              "fillmode": "overlay",
              "size": 10,
              "solidity": 0.2
             }
            },
            "type": "bar"
           }
          ],
          "barpolar": [
           {
            "marker": {
             "line": {
              "color": "#E5ECF6",
              "width": 0.5
             },
             "pattern": {
              "fillmode": "overlay",
              "size": 10,
              "solidity": 0.2
             }
            },
            "type": "barpolar"
           }
          ],
          "carpet": [
           {
            "aaxis": {
             "endlinecolor": "#2a3f5f",
             "gridcolor": "white",
             "linecolor": "white",
             "minorgridcolor": "white",
             "startlinecolor": "#2a3f5f"
            },
            "baxis": {
             "endlinecolor": "#2a3f5f",
             "gridcolor": "white",
             "linecolor": "white",
             "minorgridcolor": "white",
             "startlinecolor": "#2a3f5f"
            },
            "type": "carpet"
           }
          ],
          "choropleth": [
           {
            "colorbar": {
             "outlinewidth": 0,
             "ticks": ""
            },
            "type": "choropleth"
           }
          ],
          "contour": [
           {
            "colorbar": {
             "outlinewidth": 0,
             "ticks": ""
            },
            "colorscale": [
             [
              0,
              "#0d0887"
             ],
             [
              0.1111111111111111,
              "#46039f"
             ],
             [
              0.2222222222222222,
              "#7201a8"
             ],
             [
              0.3333333333333333,
              "#9c179e"
             ],
             [
              0.4444444444444444,
              "#bd3786"
             ],
             [
              0.5555555555555556,
              "#d8576b"
             ],
             [
              0.6666666666666666,
              "#ed7953"
             ],
             [
              0.7777777777777778,
              "#fb9f3a"
             ],
             [
              0.8888888888888888,
              "#fdca26"
             ],
             [
              1,
              "#f0f921"
             ]
            ],
            "type": "contour"
           }
          ],
          "contourcarpet": [
           {
            "colorbar": {
             "outlinewidth": 0,
             "ticks": ""
            },
            "type": "contourcarpet"
           }
          ],
          "heatmap": [
           {
            "colorbar": {
             "outlinewidth": 0,
             "ticks": ""
            },
            "colorscale": [
             [
              0,
              "#0d0887"
             ],
             [
              0.1111111111111111,
              "#46039f"
             ],
             [
              0.2222222222222222,
              "#7201a8"
             ],
             [
              0.3333333333333333,
              "#9c179e"
             ],
             [
              0.4444444444444444,
              "#bd3786"
             ],
             [
              0.5555555555555556,
              "#d8576b"
             ],
             [
              0.6666666666666666,
              "#ed7953"
             ],
             [
              0.7777777777777778,
              "#fb9f3a"
             ],
             [
              0.8888888888888888,
              "#fdca26"
             ],
             [
              1,
              "#f0f921"
             ]
            ],
            "type": "heatmap"
           }
          ],
          "heatmapgl": [
           {
            "colorbar": {
             "outlinewidth": 0,
             "ticks": ""
            },
            "colorscale": [
             [
              0,
              "#0d0887"
             ],
             [
              0.1111111111111111,
              "#46039f"
             ],
             [
              0.2222222222222222,
              "#7201a8"
             ],
             [
              0.3333333333333333,
              "#9c179e"
             ],
             [
              0.4444444444444444,
              "#bd3786"
             ],
             [
              0.5555555555555556,
              "#d8576b"
             ],
             [
              0.6666666666666666,
              "#ed7953"
             ],
             [
              0.7777777777777778,
              "#fb9f3a"
             ],
             [
              0.8888888888888888,
              "#fdca26"
             ],
             [
              1,
              "#f0f921"
             ]
            ],
            "type": "heatmapgl"
           }
          ],
          "histogram": [
           {
            "marker": {
             "pattern": {
              "fillmode": "overlay",
              "size": 10,
              "solidity": 0.2
             }
            },
            "type": "histogram"
           }
          ],
          "histogram2d": [
           {
            "colorbar": {
             "outlinewidth": 0,
             "ticks": ""
            },
            "colorscale": [
             [
              0,
              "#0d0887"
             ],
             [
              0.1111111111111111,
              "#46039f"
             ],
             [
              0.2222222222222222,
              "#7201a8"
             ],
             [
              0.3333333333333333,
              "#9c179e"
             ],
             [
              0.4444444444444444,
              "#bd3786"
             ],
             [
              0.5555555555555556,
              "#d8576b"
             ],
             [
              0.6666666666666666,
              "#ed7953"
             ],
             [
              0.7777777777777778,
              "#fb9f3a"
             ],
             [
              0.8888888888888888,
              "#fdca26"
             ],
             [
              1,
              "#f0f921"
             ]
            ],
            "type": "histogram2d"
           }
          ],
          "histogram2dcontour": [
           {
            "colorbar": {
             "outlinewidth": 0,
             "ticks": ""
            },
            "colorscale": [
             [
              0,
              "#0d0887"
             ],
             [
              0.1111111111111111,
              "#46039f"
             ],
             [
              0.2222222222222222,
              "#7201a8"
             ],
             [
              0.3333333333333333,
              "#9c179e"
             ],
             [
              0.4444444444444444,
              "#bd3786"
             ],
             [
              0.5555555555555556,
              "#d8576b"
             ],
             [
              0.6666666666666666,
              "#ed7953"
             ],
             [
              0.7777777777777778,
              "#fb9f3a"
             ],
             [
              0.8888888888888888,
              "#fdca26"
             ],
             [
              1,
              "#f0f921"
             ]
            ],
            "type": "histogram2dcontour"
           }
          ],
          "mesh3d": [
           {
            "colorbar": {
             "outlinewidth": 0,
             "ticks": ""
            },
            "type": "mesh3d"
           }
          ],
          "parcoords": [
           {
            "line": {
             "colorbar": {
              "outlinewidth": 0,
              "ticks": ""
             }
            },
            "type": "parcoords"
           }
          ],
          "pie": [
           {
            "automargin": true,
            "type": "pie"
           }
          ],
          "scatter": [
           {
            "fillpattern": {
             "fillmode": "overlay",
             "size": 10,
             "solidity": 0.2
            },
            "type": "scatter"
           }
          ],
          "scatter3d": [
           {
            "line": {
             "colorbar": {
              "outlinewidth": 0,
              "ticks": ""
             }
            },
            "marker": {
             "colorbar": {
              "outlinewidth": 0,
              "ticks": ""
             }
            },
            "type": "scatter3d"
           }
          ],
          "scattercarpet": [
           {
            "marker": {
             "colorbar": {
              "outlinewidth": 0,
              "ticks": ""
             }
            },
            "type": "scattercarpet"
           }
          ],
          "scattergeo": [
           {
            "marker": {
             "colorbar": {
              "outlinewidth": 0,
              "ticks": ""
             }
            },
            "type": "scattergeo"
           }
          ],
          "scattergl": [
           {
            "marker": {
             "colorbar": {
              "outlinewidth": 0,
              "ticks": ""
             }
            },
            "type": "scattergl"
           }
          ],
          "scattermapbox": [
           {
            "marker": {
             "colorbar": {
              "outlinewidth": 0,
              "ticks": ""
             }
            },
            "type": "scattermapbox"
           }
          ],
          "scatterpolar": [
           {
            "marker": {
             "colorbar": {
              "outlinewidth": 0,
              "ticks": ""
             }
            },
            "type": "scatterpolar"
           }
          ],
          "scatterpolargl": [
           {
            "marker": {
             "colorbar": {
              "outlinewidth": 0,
              "ticks": ""
             }
            },
            "type": "scatterpolargl"
           }
          ],
          "scatterternary": [
           {
            "marker": {
             "colorbar": {
              "outlinewidth": 0,
              "ticks": ""
             }
            },
            "type": "scatterternary"
           }
          ],
          "surface": [
           {
            "colorbar": {
             "outlinewidth": 0,
             "ticks": ""
            },
            "colorscale": [
             [
              0,
              "#0d0887"
             ],
             [
              0.1111111111111111,
              "#46039f"
             ],
             [
              0.2222222222222222,
              "#7201a8"
             ],
             [
              0.3333333333333333,
              "#9c179e"
             ],
             [
              0.4444444444444444,
              "#bd3786"
             ],
             [
              0.5555555555555556,
              "#d8576b"
             ],
             [
              0.6666666666666666,
              "#ed7953"
             ],
             [
              0.7777777777777778,
              "#fb9f3a"
             ],
             [
              0.8888888888888888,
              "#fdca26"
             ],
             [
              1,
              "#f0f921"
             ]
            ],
            "type": "surface"
           }
          ],
          "table": [
           {
            "cells": {
             "fill": {
              "color": "#EBF0F8"
             },
             "line": {
              "color": "white"
             }
            },
            "header": {
             "fill": {
              "color": "#C8D4E3"
             },
             "line": {
              "color": "white"
             }
            },
            "type": "table"
           }
          ]
         },
         "layout": {
          "annotationdefaults": {
           "arrowcolor": "#2a3f5f",
           "arrowhead": 0,
           "arrowwidth": 1
          },
          "autotypenumbers": "strict",
          "coloraxis": {
           "colorbar": {
            "outlinewidth": 0,
            "ticks": ""
           }
          },
          "colorscale": {
           "diverging": [
            [
             0,
             "#8e0152"
            ],
            [
             0.1,
             "#c51b7d"
            ],
            [
             0.2,
             "#de77ae"
            ],
            [
             0.3,
             "#f1b6da"
            ],
            [
             0.4,
             "#fde0ef"
            ],
            [
             0.5,
             "#f7f7f7"
            ],
            [
             0.6,
             "#e6f5d0"
            ],
            [
             0.7,
             "#b8e186"
            ],
            [
             0.8,
             "#7fbc41"
            ],
            [
             0.9,
             "#4d9221"
            ],
            [
             1,
             "#276419"
            ]
           ],
           "sequential": [
            [
             0,
             "#0d0887"
            ],
            [
             0.1111111111111111,
             "#46039f"
            ],
            [
             0.2222222222222222,
             "#7201a8"
            ],
            [
             0.3333333333333333,
             "#9c179e"
            ],
            [
             0.4444444444444444,
             "#bd3786"
            ],
            [
             0.5555555555555556,
             "#d8576b"
            ],
            [
             0.6666666666666666,
             "#ed7953"
            ],
            [
             0.7777777777777778,
             "#fb9f3a"
            ],
            [
             0.8888888888888888,
             "#fdca26"
            ],
            [
             1,
             "#f0f921"
            ]
           ],
           "sequentialminus": [
            [
             0,
             "#0d0887"
            ],
            [
             0.1111111111111111,
             "#46039f"
            ],
            [
             0.2222222222222222,
             "#7201a8"
            ],
            [
             0.3333333333333333,
             "#9c179e"
            ],
            [
             0.4444444444444444,
             "#bd3786"
            ],
            [
             0.5555555555555556,
             "#d8576b"
            ],
            [
             0.6666666666666666,
             "#ed7953"
            ],
            [
             0.7777777777777778,
             "#fb9f3a"
            ],
            [
             0.8888888888888888,
             "#fdca26"
            ],
            [
             1,
             "#f0f921"
            ]
           ]
          },
          "colorway": [
           "#636efa",
           "#EF553B",
           "#00cc96",
           "#ab63fa",
           "#FFA15A",
           "#19d3f3",
           "#FF6692",
           "#B6E880",
           "#FF97FF",
           "#FECB52"
          ],
          "font": {
           "color": "#2a3f5f"
          },
          "geo": {
           "bgcolor": "white",
           "lakecolor": "white",
           "landcolor": "#E5ECF6",
           "showlakes": true,
           "showland": true,
           "subunitcolor": "white"
          },
          "hoverlabel": {
           "align": "left"
          },
          "hovermode": "closest",
          "mapbox": {
           "style": "light"
          },
          "paper_bgcolor": "white",
          "plot_bgcolor": "#E5ECF6",
          "polar": {
           "angularaxis": {
            "gridcolor": "white",
            "linecolor": "white",
            "ticks": ""
           },
           "bgcolor": "#E5ECF6",
           "radialaxis": {
            "gridcolor": "white",
            "linecolor": "white",
            "ticks": ""
           }
          },
          "scene": {
           "xaxis": {
            "backgroundcolor": "#E5ECF6",
            "gridcolor": "white",
            "gridwidth": 2,
            "linecolor": "white",
            "showbackground": true,
            "ticks": "",
            "zerolinecolor": "white"
           },
           "yaxis": {
            "backgroundcolor": "#E5ECF6",
            "gridcolor": "white",
            "gridwidth": 2,
            "linecolor": "white",
            "showbackground": true,
            "ticks": "",
            "zerolinecolor": "white"
           },
           "zaxis": {
            "backgroundcolor": "#E5ECF6",
            "gridcolor": "white",
            "gridwidth": 2,
            "linecolor": "white",
            "showbackground": true,
            "ticks": "",
            "zerolinecolor": "white"
           }
          },
          "shapedefaults": {
           "line": {
            "color": "#2a3f5f"
           }
          },
          "ternary": {
           "aaxis": {
            "gridcolor": "white",
            "linecolor": "white",
            "ticks": ""
           },
           "baxis": {
            "gridcolor": "white",
            "linecolor": "white",
            "ticks": ""
           },
           "bgcolor": "#E5ECF6",
           "caxis": {
            "gridcolor": "white",
            "linecolor": "white",
            "ticks": ""
           }
          },
          "title": {
           "x": 0.05
          },
          "xaxis": {
           "automargin": true,
           "gridcolor": "white",
           "linecolor": "white",
           "ticks": "",
           "title": {
            "standoff": 15
           },
           "zerolinecolor": "white",
           "zerolinewidth": 2
          },
          "yaxis": {
           "automargin": true,
           "gridcolor": "white",
           "linecolor": "white",
           "ticks": "",
           "title": {
            "standoff": 15
           },
           "zerolinecolor": "white",
           "zerolinewidth": 2
          }
         }
        },
        "title": {
         "text": "Annualized Variance contribution"
        },
        "xaxis": {
         "anchor": "y",
         "domain": [
          0,
          1
         ],
         "title": {
          "text": "Asset"
         }
        },
        "yaxis": {
         "anchor": "x",
         "domain": [
          0,
          1
         ],
         "title": {
          "text": "Annualized Variance contribution"
         }
        }
       }
      }
     },
     "metadata": {},
     "output_type": "display_data"
    }
   ],
   "source": [
    "ptf_bench_train = bench.predict(X_train)\n",
    "ptf_bench_train.plot_contribution(measure=RiskMeasure.ANNUALIZED_VARIANCE)"
   ]
  },
  {
   "cell_type": "code",
   "execution_count": 25,
   "metadata": {},
   "outputs": [],
   "source": [
    "ptf_model_test = model.predict(X_test.dropna())\n",
    "ptf_bench_test = bench.predict(X_test.dropna())"
   ]
  },
  {
   "cell_type": "code",
   "execution_count": 26,
   "metadata": {},
   "outputs": [
    {
     "name": "stderr",
     "output_type": "stream",
     "text": [
      "c:\\Users\\jcamargo\\Anaconda3\\envs\\CEFA_2024\\lib\\site-packages\\plotly\\express\\_core.py:2065: FutureWarning:\n",
      "\n",
      "When grouping with a length-1 list-like, you will need to pass a length-1 tuple to get_group in a future version of pandas. Pass `(name,)` instead of `name` to silence this warning.\n",
      "\n",
      "c:\\Users\\jcamargo\\Anaconda3\\envs\\CEFA_2024\\lib\\site-packages\\scipy\\optimize\\_slsqp_py.py:437: RuntimeWarning:\n",
      "\n",
      "Values in x were outside bounds during a minimize step, clipping to bounds\n",
      "\n"
     ]
    },
    {
     "data": {
      "text/html": [
       "<div>\n",
       "<style scoped>\n",
       "    .dataframe tbody tr th:only-of-type {\n",
       "        vertical-align: middle;\n",
       "    }\n",
       "\n",
       "    .dataframe tbody tr th {\n",
       "        vertical-align: top;\n",
       "    }\n",
       "\n",
       "    .dataframe thead th {\n",
       "        text-align: right;\n",
       "    }\n",
       "</style>\n",
       "<table border=\"1\" class=\"dataframe\">\n",
       "  <thead>\n",
       "    <tr style=\"text-align: right;\">\n",
       "      <th></th>\n",
       "      <th>Inverse Vol</th>\n",
       "      <th>Risk Parity - Variance</th>\n",
       "    </tr>\n",
       "  </thead>\n",
       "  <tbody>\n",
       "    <tr>\n",
       "      <th>Mean</th>\n",
       "      <td>0.0062%</td>\n",
       "      <td>0.0057%</td>\n",
       "    </tr>\n",
       "    <tr>\n",
       "      <th>Annualized Mean</th>\n",
       "      <td>1.57%</td>\n",
       "      <td>1.43%</td>\n",
       "    </tr>\n",
       "    <tr>\n",
       "      <th>Variance</th>\n",
       "      <td>0.000008%</td>\n",
       "      <td>0.000005%</td>\n",
       "    </tr>\n",
       "    <tr>\n",
       "      <th>Annualized Variance</th>\n",
       "      <td>0.0020%</td>\n",
       "      <td>0.0012%</td>\n",
       "    </tr>\n",
       "    <tr>\n",
       "      <th>Semi-Variance</th>\n",
       "      <td>0.000004%</td>\n",
       "      <td>0.000002%</td>\n",
       "    </tr>\n",
       "    <tr>\n",
       "      <th>Annualized Semi-Variance</th>\n",
       "      <td>0.0010%</td>\n",
       "      <td>0.00061%</td>\n",
       "    </tr>\n",
       "    <tr>\n",
       "      <th>Standard Deviation</th>\n",
       "      <td>0.028%</td>\n",
       "      <td>0.022%</td>\n",
       "    </tr>\n",
       "    <tr>\n",
       "      <th>Annualized Standard Deviation</th>\n",
       "      <td>0.44%</td>\n",
       "      <td>0.34%</td>\n",
       "    </tr>\n",
       "    <tr>\n",
       "      <th>Semi-Deviation</th>\n",
       "      <td>0.020%</td>\n",
       "      <td>0.016%</td>\n",
       "    </tr>\n",
       "    <tr>\n",
       "      <th>Annualized Semi-Deviation</th>\n",
       "      <td>0.32%</td>\n",
       "      <td>0.25%</td>\n",
       "    </tr>\n",
       "    <tr>\n",
       "      <th>Mean Absolute Deviation</th>\n",
       "      <td>0.019%</td>\n",
       "      <td>0.015%</td>\n",
       "    </tr>\n",
       "    <tr>\n",
       "      <th>CVaR at 95%</th>\n",
       "      <td>0.061%</td>\n",
       "      <td>0.045%</td>\n",
       "    </tr>\n",
       "    <tr>\n",
       "      <th>EVaR at 95%</th>\n",
       "      <td>0.13%</td>\n",
       "      <td>0.098%</td>\n",
       "    </tr>\n",
       "    <tr>\n",
       "      <th>Worst Realization</th>\n",
       "      <td>0.27%</td>\n",
       "      <td>0.20%</td>\n",
       "    </tr>\n",
       "    <tr>\n",
       "      <th>CDaR at 95%</th>\n",
       "      <td>1.09%</td>\n",
       "      <td>0.79%</td>\n",
       "    </tr>\n",
       "    <tr>\n",
       "      <th>MAX Drawdown</th>\n",
       "      <td>2.15%</td>\n",
       "      <td>1.57%</td>\n",
       "    </tr>\n",
       "    <tr>\n",
       "      <th>Average Drawdown</th>\n",
       "      <td>0.11%</td>\n",
       "      <td>0.074%</td>\n",
       "    </tr>\n",
       "    <tr>\n",
       "      <th>EDaR at 95%</th>\n",
       "      <td>1.47%</td>\n",
       "      <td>1.06%</td>\n",
       "    </tr>\n",
       "    <tr>\n",
       "      <th>First Lower Partial Moment</th>\n",
       "      <td>0.0095%</td>\n",
       "      <td>0.0074%</td>\n",
       "    </tr>\n",
       "    <tr>\n",
       "      <th>Ulcer Index</th>\n",
       "      <td>0.0028</td>\n",
       "      <td>0.0020</td>\n",
       "    </tr>\n",
       "    <tr>\n",
       "      <th>Gini Mean Difference</th>\n",
       "      <td>0.028%</td>\n",
       "      <td>0.022%</td>\n",
       "    </tr>\n",
       "    <tr>\n",
       "      <th>Value at Risk at 95%</th>\n",
       "      <td>0.035%</td>\n",
       "      <td>0.026%</td>\n",
       "    </tr>\n",
       "    <tr>\n",
       "      <th>Drawdown at Risk at 95%</th>\n",
       "      <td>0.51%</td>\n",
       "      <td>0.35%</td>\n",
       "    </tr>\n",
       "    <tr>\n",
       "      <th>Entropic Risk Measure at 95%</th>\n",
       "      <td>3.00</td>\n",
       "      <td>3.00</td>\n",
       "    </tr>\n",
       "    <tr>\n",
       "      <th>Fourth Central Moment</th>\n",
       "      <td>0.000000%</td>\n",
       "      <td>0.000000%</td>\n",
       "    </tr>\n",
       "    <tr>\n",
       "      <th>Fourth Lower Partial Moment</th>\n",
       "      <td>0.000000%</td>\n",
       "      <td>0.000000%</td>\n",
       "    </tr>\n",
       "    <tr>\n",
       "      <th>Skew</th>\n",
       "      <td>-0.58</td>\n",
       "      <td>-0.39</td>\n",
       "    </tr>\n",
       "    <tr>\n",
       "      <th>Kurtosis</th>\n",
       "      <td>11.89</td>\n",
       "      <td>11.93</td>\n",
       "    </tr>\n",
       "    <tr>\n",
       "      <th>Sharpe Ratio</th>\n",
       "      <td>0.22</td>\n",
       "      <td>0.26</td>\n",
       "    </tr>\n",
       "    <tr>\n",
       "      <th>Annualized Sharpe Ratio</th>\n",
       "      <td>3.55</td>\n",
       "      <td>4.16</td>\n",
       "    </tr>\n",
       "    <tr>\n",
       "      <th>Sortino Ratio</th>\n",
       "      <td>0.31</td>\n",
       "      <td>0.37</td>\n",
       "    </tr>\n",
       "    <tr>\n",
       "      <th>Annualized Sortino Ratio</th>\n",
       "      <td>4.88</td>\n",
       "      <td>5.82</td>\n",
       "    </tr>\n",
       "    <tr>\n",
       "      <th>Mean Absolute Deviation Ratio</th>\n",
       "      <td>0.33</td>\n",
       "      <td>0.39</td>\n",
       "    </tr>\n",
       "    <tr>\n",
       "      <th>First Lower Partial Moment Ratio</th>\n",
       "      <td>0.66</td>\n",
       "      <td>0.77</td>\n",
       "    </tr>\n",
       "    <tr>\n",
       "      <th>Value at Risk Ratio at 95%</th>\n",
       "      <td>0.18</td>\n",
       "      <td>0.22</td>\n",
       "    </tr>\n",
       "    <tr>\n",
       "      <th>CVaR Ratio at 95%</th>\n",
       "      <td>0.10</td>\n",
       "      <td>0.13</td>\n",
       "    </tr>\n",
       "    <tr>\n",
       "      <th>Entropic Risk Measure Ratio at 95%</th>\n",
       "      <td>0.000021</td>\n",
       "      <td>0.000019</td>\n",
       "    </tr>\n",
       "    <tr>\n",
       "      <th>EVaR Ratio at 95%</th>\n",
       "      <td>0.048</td>\n",
       "      <td>0.058</td>\n",
       "    </tr>\n",
       "    <tr>\n",
       "      <th>Worst Realization Ratio</th>\n",
       "      <td>0.023</td>\n",
       "      <td>0.028</td>\n",
       "    </tr>\n",
       "    <tr>\n",
       "      <th>Drawdown at Risk Ratio at 95%</th>\n",
       "      <td>0.012</td>\n",
       "      <td>0.016</td>\n",
       "    </tr>\n",
       "    <tr>\n",
       "      <th>CDaR Ratio at 95%</th>\n",
       "      <td>0.0057</td>\n",
       "      <td>0.0072</td>\n",
       "    </tr>\n",
       "    <tr>\n",
       "      <th>Calmar Ratio</th>\n",
       "      <td>0.0029</td>\n",
       "      <td>0.0036</td>\n",
       "    </tr>\n",
       "    <tr>\n",
       "      <th>Average Drawdown Ratio</th>\n",
       "      <td>0.059</td>\n",
       "      <td>0.077</td>\n",
       "    </tr>\n",
       "    <tr>\n",
       "      <th>EDaR Ratio at 95%</th>\n",
       "      <td>0.0042</td>\n",
       "      <td>0.0054</td>\n",
       "    </tr>\n",
       "    <tr>\n",
       "      <th>Ulcer Index Ratio</th>\n",
       "      <td>0.022</td>\n",
       "      <td>0.028</td>\n",
       "    </tr>\n",
       "    <tr>\n",
       "      <th>Gini Mean Difference Ratio</th>\n",
       "      <td>0.22</td>\n",
       "      <td>0.26</td>\n",
       "    </tr>\n",
       "    <tr>\n",
       "      <th>Assets number</th>\n",
       "      <td>6</td>\n",
       "      <td>6</td>\n",
       "    </tr>\n",
       "  </tbody>\n",
       "</table>\n",
       "</div>"
      ],
      "text/plain": [
       "                                   Inverse Vol Risk Parity - Variance\n",
       "Mean                                   0.0062%                0.0057%\n",
       "Annualized Mean                          1.57%                  1.43%\n",
       "Variance                             0.000008%              0.000005%\n",
       "Annualized Variance                    0.0020%                0.0012%\n",
       "Semi-Variance                        0.000004%              0.000002%\n",
       "Annualized Semi-Variance               0.0010%               0.00061%\n",
       "Standard Deviation                      0.028%                 0.022%\n",
       "Annualized Standard Deviation            0.44%                  0.34%\n",
       "Semi-Deviation                          0.020%                 0.016%\n",
       "Annualized Semi-Deviation                0.32%                  0.25%\n",
       "Mean Absolute Deviation                 0.019%                 0.015%\n",
       "CVaR at 95%                             0.061%                 0.045%\n",
       "EVaR at 95%                              0.13%                 0.098%\n",
       "Worst Realization                        0.27%                  0.20%\n",
       "CDaR at 95%                              1.09%                  0.79%\n",
       "MAX Drawdown                             2.15%                  1.57%\n",
       "Average Drawdown                         0.11%                 0.074%\n",
       "EDaR at 95%                              1.47%                  1.06%\n",
       "First Lower Partial Moment             0.0095%                0.0074%\n",
       "Ulcer Index                             0.0028                 0.0020\n",
       "Gini Mean Difference                    0.028%                 0.022%\n",
       "Value at Risk at 95%                    0.035%                 0.026%\n",
       "Drawdown at Risk at 95%                  0.51%                  0.35%\n",
       "Entropic Risk Measure at 95%              3.00                   3.00\n",
       "Fourth Central Moment                0.000000%              0.000000%\n",
       "Fourth Lower Partial Moment          0.000000%              0.000000%\n",
       "Skew                                     -0.58                  -0.39\n",
       "Kurtosis                                 11.89                  11.93\n",
       "Sharpe Ratio                              0.22                   0.26\n",
       "Annualized Sharpe Ratio                   3.55                   4.16\n",
       "Sortino Ratio                             0.31                   0.37\n",
       "Annualized Sortino Ratio                  4.88                   5.82\n",
       "Mean Absolute Deviation Ratio             0.33                   0.39\n",
       "First Lower Partial Moment Ratio          0.66                   0.77\n",
       "Value at Risk Ratio at 95%                0.18                   0.22\n",
       "CVaR Ratio at 95%                         0.10                   0.13\n",
       "Entropic Risk Measure Ratio at 95%    0.000021               0.000019\n",
       "EVaR Ratio at 95%                        0.048                  0.058\n",
       "Worst Realization Ratio                  0.023                  0.028\n",
       "Drawdown at Risk Ratio at 95%            0.012                  0.016\n",
       "CDaR Ratio at 95%                       0.0057                 0.0072\n",
       "Calmar Ratio                            0.0029                 0.0036\n",
       "Average Drawdown Ratio                   0.059                  0.077\n",
       "EDaR Ratio at 95%                       0.0042                 0.0054\n",
       "Ulcer Index Ratio                        0.022                  0.028\n",
       "Gini Mean Difference Ratio                0.22                   0.26\n",
       "Assets number                                6                      6"
      ]
     },
     "execution_count": 26,
     "metadata": {},
     "output_type": "execute_result"
    }
   ],
   "source": [
    "population = Population([ptf_bench_train, ptf_model_train])\n",
    "# %%\n",
    "# Let's plot each portfolio composition:\n",
    "population.plot_composition()\n",
    "# %%\n",
    "# Let's plot each portfolio cumulative returns:\n",
    "#fig = population.plot_cumulative_returns()\n",
    "#show(fig)\n",
    "# %%\n",
    "# |\n",
    "#\n",
    "# Finally, we print a full summary of both strategies evaluated on the test set:\n",
    "population.summary()"
   ]
  },
  {
   "cell_type": "code",
   "execution_count": 27,
   "metadata": {},
   "outputs": [
    {
     "data": {
      "text/plain": [
       "array([9.92721380e-01, 1.47286970e-03, 1.76131144e-03, 2.63303867e-03,\n",
       "       6.63179542e-05, 1.34508262e-03])"
      ]
     },
     "execution_count": 27,
     "metadata": {},
     "output_type": "execute_result"
    }
   ],
   "source": [
    "from plotly.io import show\n",
    "from sklearn.model_selection import GridSearchCV, train_test_split\n",
    "\n",
    "from skfolio import Population, RatioMeasure, RiskMeasure\n",
    "from skfolio.cluster import HierarchicalClustering, LinkageMethod\n",
    "from skfolio.datasets import load_ftse100_dataset\n",
    "from skfolio.distance import KendallDistance, PearsonDistance\n",
    "from skfolio.metrics import make_scorer\n",
    "from skfolio.model_selection import (\n",
    "    CombinatorialPurgedCV,\n",
    "    WalkForward,\n",
    "    cross_val_predict,\n",
    ")\n",
    "from skfolio.optimization import (\n",
    "    EqualWeighted,\n",
    "    HierarchicalRiskParity,\n",
    ")\n",
    "\n",
    "from skfolio.preprocessing import prices_to_returns\n",
    "\n",
    "model_hrp = HierarchicalRiskParity(\n",
    "    risk_measure=RiskMeasure.VARIANCE,\n",
    "    hierarchical_clustering_estimator=HierarchicalClustering(),\n",
    ")\n",
    "\n",
    "model_hrp.fit(X_train)\n",
    "model_hrp.weights_"
   ]
  },
  {
   "cell_type": "code",
   "execution_count": 28,
   "metadata": {},
   "outputs": [
    {
     "data": {
      "text/plain": [
       "<Portfolio Risk Parity - Variance>"
      ]
     },
     "execution_count": 28,
     "metadata": {},
     "output_type": "execute_result"
    }
   ],
   "source": [
    "ptf_hrp_test = model_hrp.predict(X_test.dropna())\n",
    "ptf_model_test"
   ]
  },
  {
   "cell_type": "code",
   "execution_count": 29,
   "metadata": {},
   "outputs": [
    {
     "name": "stderr",
     "output_type": "stream",
     "text": [
      "c:\\Users\\jcamargo\\Anaconda3\\envs\\CEFA_2024\\lib\\site-packages\\plotly\\express\\_core.py:2065: FutureWarning:\n",
      "\n",
      "When grouping with a length-1 list-like, you will need to pass a length-1 tuple to get_group in a future version of pandas. Pass `(name,)` instead of `name` to silence this warning.\n",
      "\n"
     ]
    }
   ],
   "source": [
    "population = Population([ptf_model_test, ptf_bench_test, ptf_hrp_test])\n",
    "\n",
    "# %%\n",
    "# Let's plot each portfolio composition:\n",
    "population.plot_composition()\n",
    "\n",
    "# %%\n",
    "# Let's plot each portfolio cumulative returns:\n",
    "#fig = population.plot_cumulative_returns()\n",
    "#show(fig)\n",
    "\n",
    "# %%\n",
    "# |\n",
    "#\n",
    "# Finally, we print a full summary of both strategies evaluated on the test set:\n",
    "summary_df = population.summary()"
   ]
  },
  {
   "cell_type": "code",
   "execution_count": 30,
   "metadata": {},
   "outputs": [
    {
     "data": {
      "text/html": [
       "<div>\n",
       "<style scoped>\n",
       "    .dataframe tbody tr th:only-of-type {\n",
       "        vertical-align: middle;\n",
       "    }\n",
       "\n",
       "    .dataframe tbody tr th {\n",
       "        vertical-align: top;\n",
       "    }\n",
       "\n",
       "    .dataframe thead th {\n",
       "        text-align: right;\n",
       "    }\n",
       "</style>\n",
       "<table border=\"1\" class=\"dataframe\">\n",
       "  <thead>\n",
       "    <tr style=\"text-align: right;\">\n",
       "      <th></th>\n",
       "      <th>Risk Parity - Variance</th>\n",
       "      <th>Inverse Vol</th>\n",
       "      <th>HierarchicalRiskParity</th>\n",
       "    </tr>\n",
       "  </thead>\n",
       "  <tbody>\n",
       "    <tr>\n",
       "      <th>Mean</th>\n",
       "      <td>0.0063%</td>\n",
       "      <td>0.0061%</td>\n",
       "      <td>0.0062%</td>\n",
       "    </tr>\n",
       "    <tr>\n",
       "      <th>Annualized Mean</th>\n",
       "      <td>1.60%</td>\n",
       "      <td>1.54%</td>\n",
       "      <td>1.57%</td>\n",
       "    </tr>\n",
       "    <tr>\n",
       "      <th>Variance</th>\n",
       "      <td>0.000013%</td>\n",
       "      <td>0.000016%</td>\n",
       "      <td>0.000009%</td>\n",
       "    </tr>\n",
       "    <tr>\n",
       "      <th>Annualized Variance</th>\n",
       "      <td>0.0033%</td>\n",
       "      <td>0.0041%</td>\n",
       "      <td>0.0023%</td>\n",
       "    </tr>\n",
       "    <tr>\n",
       "      <th>Semi-Variance</th>\n",
       "      <td>0.000004%</td>\n",
       "      <td>0.000006%</td>\n",
       "      <td>0.000000%</td>\n",
       "    </tr>\n",
       "    <tr>\n",
       "      <th>Annualized Semi-Variance</th>\n",
       "      <td>0.00096%</td>\n",
       "      <td>0.0015%</td>\n",
       "      <td>0.000047%</td>\n",
       "    </tr>\n",
       "    <tr>\n",
       "      <th>Standard Deviation</th>\n",
       "      <td>0.036%</td>\n",
       "      <td>0.040%</td>\n",
       "      <td>0.030%</td>\n",
       "    </tr>\n",
       "    <tr>\n",
       "      <th>Annualized Standard Deviation</th>\n",
       "      <td>0.57%</td>\n",
       "      <td>0.64%</td>\n",
       "      <td>0.48%</td>\n",
       "    </tr>\n",
       "    <tr>\n",
       "      <th>Semi-Deviation</th>\n",
       "      <td>0.020%</td>\n",
       "      <td>0.025%</td>\n",
       "      <td>0.0043%</td>\n",
       "    </tr>\n",
       "    <tr>\n",
       "      <th>Annualized Semi-Deviation</th>\n",
       "      <td>0.31%</td>\n",
       "      <td>0.39%</td>\n",
       "      <td>0.069%</td>\n",
       "    </tr>\n",
       "    <tr>\n",
       "      <th>CVaR at 95%</th>\n",
       "      <td>0.060%</td>\n",
       "      <td>0.079%</td>\n",
       "      <td>0.0032%</td>\n",
       "    </tr>\n",
       "    <tr>\n",
       "      <th>CDaR at 95%</th>\n",
       "      <td>0.96%</td>\n",
       "      <td>1.35%</td>\n",
       "      <td>0.016%</td>\n",
       "    </tr>\n",
       "    <tr>\n",
       "      <th>MAX Drawdown</th>\n",
       "      <td>1.26%</td>\n",
       "      <td>1.73%</td>\n",
       "      <td>0.036%</td>\n",
       "    </tr>\n",
       "    <tr>\n",
       "      <th>Average Drawdown</th>\n",
       "      <td>0.11%</td>\n",
       "      <td>0.17%</td>\n",
       "      <td>0.0012%</td>\n",
       "    </tr>\n",
       "    <tr>\n",
       "      <th>Value at Risk at 95%</th>\n",
       "      <td>0.033%</td>\n",
       "      <td>0.043%</td>\n",
       "      <td>0.0014%</td>\n",
       "    </tr>\n",
       "    <tr>\n",
       "      <th>Drawdown at Risk at 95%</th>\n",
       "      <td>0.79%</td>\n",
       "      <td>1.14%</td>\n",
       "      <td>0.0096%</td>\n",
       "    </tr>\n",
       "    <tr>\n",
       "      <th>Skew</th>\n",
       "      <td>11.26</td>\n",
       "      <td>5.97</td>\n",
       "      <td>34.88</td>\n",
       "    </tr>\n",
       "    <tr>\n",
       "      <th>Kurtosis</th>\n",
       "      <td>298.85</td>\n",
       "      <td>136.75</td>\n",
       "      <td>1306.38</td>\n",
       "    </tr>\n",
       "    <tr>\n",
       "      <th>Sharpe Ratio</th>\n",
       "      <td>0.18</td>\n",
       "      <td>0.15</td>\n",
       "      <td>0.21</td>\n",
       "    </tr>\n",
       "    <tr>\n",
       "      <th>Annualized Sharpe Ratio</th>\n",
       "      <td>2.80</td>\n",
       "      <td>2.42</td>\n",
       "      <td>3.31</td>\n",
       "    </tr>\n",
       "    <tr>\n",
       "      <th>Sortino Ratio</th>\n",
       "      <td>0.32</td>\n",
       "      <td>0.25</td>\n",
       "      <td>1.44</td>\n",
       "    </tr>\n",
       "    <tr>\n",
       "      <th>Annualized Sortino Ratio</th>\n",
       "      <td>5.16</td>\n",
       "      <td>3.96</td>\n",
       "      <td>22.81</td>\n",
       "    </tr>\n",
       "    <tr>\n",
       "      <th>Mean Absolute Deviation Ratio</th>\n",
       "      <td>0.37</td>\n",
       "      <td>0.29</td>\n",
       "      <td>0.99</td>\n",
       "    </tr>\n",
       "    <tr>\n",
       "      <th>Value at Risk Ratio at 95%</th>\n",
       "      <td>0.19</td>\n",
       "      <td>0.14</td>\n",
       "      <td>4.44</td>\n",
       "    </tr>\n",
       "    <tr>\n",
       "      <th>CVaR Ratio at 95%</th>\n",
       "      <td>0.11</td>\n",
       "      <td>0.078</td>\n",
       "      <td>1.92</td>\n",
       "    </tr>\n",
       "    <tr>\n",
       "      <th>Drawdown at Risk Ratio at 95%</th>\n",
       "      <td>0.0081</td>\n",
       "      <td>0.0054</td>\n",
       "      <td>0.65</td>\n",
       "    </tr>\n",
       "    <tr>\n",
       "      <th>CDaR Ratio at 95%</th>\n",
       "      <td>0.0066</td>\n",
       "      <td>0.0046</td>\n",
       "      <td>0.39</td>\n",
       "    </tr>\n",
       "    <tr>\n",
       "      <th>Calmar Ratio</th>\n",
       "      <td>0.0051</td>\n",
       "      <td>0.0036</td>\n",
       "      <td>0.17</td>\n",
       "    </tr>\n",
       "    <tr>\n",
       "      <th>Average Drawdown Ratio</th>\n",
       "      <td>0.057</td>\n",
       "      <td>0.035</td>\n",
       "      <td>5.04</td>\n",
       "    </tr>\n",
       "  </tbody>\n",
       "</table>\n",
       "</div>"
      ],
      "text/plain": [
       "                              Risk Parity - Variance Inverse Vol  \\\n",
       "Mean                                         0.0063%     0.0061%   \n",
       "Annualized Mean                                1.60%       1.54%   \n",
       "Variance                                   0.000013%   0.000016%   \n",
       "Annualized Variance                          0.0033%     0.0041%   \n",
       "Semi-Variance                              0.000004%   0.000006%   \n",
       "Annualized Semi-Variance                    0.00096%     0.0015%   \n",
       "Standard Deviation                            0.036%      0.040%   \n",
       "Annualized Standard Deviation                  0.57%       0.64%   \n",
       "Semi-Deviation                                0.020%      0.025%   \n",
       "Annualized Semi-Deviation                      0.31%       0.39%   \n",
       "CVaR at 95%                                   0.060%      0.079%   \n",
       "CDaR at 95%                                    0.96%       1.35%   \n",
       "MAX Drawdown                                   1.26%       1.73%   \n",
       "Average Drawdown                               0.11%       0.17%   \n",
       "Value at Risk at 95%                          0.033%      0.043%   \n",
       "Drawdown at Risk at 95%                        0.79%       1.14%   \n",
       "Skew                                           11.26        5.97   \n",
       "Kurtosis                                      298.85      136.75   \n",
       "Sharpe Ratio                                    0.18        0.15   \n",
       "Annualized Sharpe Ratio                         2.80        2.42   \n",
       "Sortino Ratio                                   0.32        0.25   \n",
       "Annualized Sortino Ratio                        5.16        3.96   \n",
       "Mean Absolute Deviation Ratio                   0.37        0.29   \n",
       "Value at Risk Ratio at 95%                      0.19        0.14   \n",
       "CVaR Ratio at 95%                               0.11       0.078   \n",
       "Drawdown at Risk Ratio at 95%                 0.0081      0.0054   \n",
       "CDaR Ratio at 95%                             0.0066      0.0046   \n",
       "Calmar Ratio                                  0.0051      0.0036   \n",
       "Average Drawdown Ratio                         0.057       0.035   \n",
       "\n",
       "                              HierarchicalRiskParity  \n",
       "Mean                                         0.0062%  \n",
       "Annualized Mean                                1.57%  \n",
       "Variance                                   0.000009%  \n",
       "Annualized Variance                          0.0023%  \n",
       "Semi-Variance                              0.000000%  \n",
       "Annualized Semi-Variance                   0.000047%  \n",
       "Standard Deviation                            0.030%  \n",
       "Annualized Standard Deviation                  0.48%  \n",
       "Semi-Deviation                               0.0043%  \n",
       "Annualized Semi-Deviation                     0.069%  \n",
       "CVaR at 95%                                  0.0032%  \n",
       "CDaR at 95%                                   0.016%  \n",
       "MAX Drawdown                                  0.036%  \n",
       "Average Drawdown                             0.0012%  \n",
       "Value at Risk at 95%                         0.0014%  \n",
       "Drawdown at Risk at 95%                      0.0096%  \n",
       "Skew                                           34.88  \n",
       "Kurtosis                                     1306.38  \n",
       "Sharpe Ratio                                    0.21  \n",
       "Annualized Sharpe Ratio                         3.31  \n",
       "Sortino Ratio                                   1.44  \n",
       "Annualized Sortino Ratio                       22.81  \n",
       "Mean Absolute Deviation Ratio                   0.99  \n",
       "Value at Risk Ratio at 95%                      4.44  \n",
       "CVaR Ratio at 95%                               1.92  \n",
       "Drawdown at Risk Ratio at 95%                   0.65  \n",
       "CDaR Ratio at 95%                               0.39  \n",
       "Calmar Ratio                                    0.17  \n",
       "Average Drawdown Ratio                          5.04  "
      ]
     },
     "execution_count": 30,
     "metadata": {},
     "output_type": "execute_result"
    }
   ],
   "source": [
    "summary_df = summary_df.drop(index = ['Ulcer Index', 'Gini Mean Difference', 'Worst Realization'\n",
    "                         , 'EVaR at 95%', 'EDaR at 95%', 'EVaR Ratio at 95%'\n",
    "                         , 'First Lower Partial Moment', 'Entropic Risk Measure at 95%'\n",
    "                         , 'Fourth Central Moment', 'Fourth Lower Partial Moment', 'Worst Realization Ratio'\n",
    "                         ,'Ulcer Index Ratio', 'EDaR Ratio at 95%', 'First Lower Partial Moment Ratio'\n",
    "                         , 'Entropic Risk Measure Ratio at 95%', 'Gini Mean Difference Ratio', 'Assets number', 'Mean Absolute Deviation'])\n",
    "summary_df"
   ]
  },
  {
   "cell_type": "code",
   "execution_count": 31,
   "metadata": {},
   "outputs": [
    {
     "name": "stderr",
     "output_type": "stream",
     "text": [
      "C:\\Users\\jcamargo\\AppData\\Local\\Temp\\ipykernel_30800\\848800738.py:9: FutureWarning:\n",
      "\n",
      "DataFrame.applymap has been deprecated. Use DataFrame.map instead.\n",
      "\n"
     ]
    },
    {
     "data": {
      "text/html": [
       "<div>\n",
       "<style scoped>\n",
       "    .dataframe tbody tr th:only-of-type {\n",
       "        vertical-align: middle;\n",
       "    }\n",
       "\n",
       "    .dataframe tbody tr th {\n",
       "        vertical-align: top;\n",
       "    }\n",
       "\n",
       "    .dataframe thead th {\n",
       "        text-align: right;\n",
       "    }\n",
       "</style>\n",
       "<table border=\"1\" class=\"dataframe\">\n",
       "  <thead>\n",
       "    <tr style=\"text-align: right;\">\n",
       "      <th></th>\n",
       "      <th>Risk Parity - Variance</th>\n",
       "      <th>Inverse Vol</th>\n",
       "      <th>HierarchicalRiskParity</th>\n",
       "    </tr>\n",
       "  </thead>\n",
       "  <tbody>\n",
       "    <tr>\n",
       "      <th>Mean</th>\n",
       "      <td>0.000</td>\n",
       "      <td>0.000</td>\n",
       "      <td>0.000</td>\n",
       "    </tr>\n",
       "    <tr>\n",
       "      <th>Annualized Mean</th>\n",
       "      <td>0.016</td>\n",
       "      <td>0.015</td>\n",
       "      <td>0.016</td>\n",
       "    </tr>\n",
       "    <tr>\n",
       "      <th>Variance</th>\n",
       "      <td>0.000</td>\n",
       "      <td>0.000</td>\n",
       "      <td>0.000</td>\n",
       "    </tr>\n",
       "    <tr>\n",
       "      <th>Annualized Variance</th>\n",
       "      <td>0.000</td>\n",
       "      <td>0.000</td>\n",
       "      <td>0.000</td>\n",
       "    </tr>\n",
       "    <tr>\n",
       "      <th>Semi-Variance</th>\n",
       "      <td>0.000</td>\n",
       "      <td>0.000</td>\n",
       "      <td>0.000</td>\n",
       "    </tr>\n",
       "    <tr>\n",
       "      <th>Annualized Semi-Variance</th>\n",
       "      <td>0.000</td>\n",
       "      <td>0.000</td>\n",
       "      <td>0.000</td>\n",
       "    </tr>\n",
       "    <tr>\n",
       "      <th>Standard Deviation</th>\n",
       "      <td>0.000</td>\n",
       "      <td>0.000</td>\n",
       "      <td>0.000</td>\n",
       "    </tr>\n",
       "    <tr>\n",
       "      <th>Annualized Standard Deviation</th>\n",
       "      <td>0.006</td>\n",
       "      <td>0.006</td>\n",
       "      <td>0.005</td>\n",
       "    </tr>\n",
       "    <tr>\n",
       "      <th>Semi-Deviation</th>\n",
       "      <td>0.000</td>\n",
       "      <td>0.000</td>\n",
       "      <td>0.000</td>\n",
       "    </tr>\n",
       "    <tr>\n",
       "      <th>Annualized Semi-Deviation</th>\n",
       "      <td>0.003</td>\n",
       "      <td>0.004</td>\n",
       "      <td>0.001</td>\n",
       "    </tr>\n",
       "    <tr>\n",
       "      <th>CVaR at 95%</th>\n",
       "      <td>0.001</td>\n",
       "      <td>0.001</td>\n",
       "      <td>0.000</td>\n",
       "    </tr>\n",
       "    <tr>\n",
       "      <th>CDaR at 95%</th>\n",
       "      <td>0.010</td>\n",
       "      <td>0.014</td>\n",
       "      <td>0.000</td>\n",
       "    </tr>\n",
       "    <tr>\n",
       "      <th>MAX Drawdown</th>\n",
       "      <td>0.013</td>\n",
       "      <td>0.017</td>\n",
       "      <td>0.000</td>\n",
       "    </tr>\n",
       "    <tr>\n",
       "      <th>Average Drawdown</th>\n",
       "      <td>0.001</td>\n",
       "      <td>0.002</td>\n",
       "      <td>0.000</td>\n",
       "    </tr>\n",
       "    <tr>\n",
       "      <th>Value at Risk at 95%</th>\n",
       "      <td>0.000</td>\n",
       "      <td>0.000</td>\n",
       "      <td>0.000</td>\n",
       "    </tr>\n",
       "    <tr>\n",
       "      <th>Drawdown at Risk at 95%</th>\n",
       "      <td>0.008</td>\n",
       "      <td>0.011</td>\n",
       "      <td>0.000</td>\n",
       "    </tr>\n",
       "    <tr>\n",
       "      <th>Skew</th>\n",
       "      <td>11.260</td>\n",
       "      <td>5.970</td>\n",
       "      <td>34.880</td>\n",
       "    </tr>\n",
       "    <tr>\n",
       "      <th>Kurtosis</th>\n",
       "      <td>298.850</td>\n",
       "      <td>136.750</td>\n",
       "      <td>1306.380</td>\n",
       "    </tr>\n",
       "    <tr>\n",
       "      <th>Sharpe Ratio</th>\n",
       "      <td>0.180</td>\n",
       "      <td>0.150</td>\n",
       "      <td>0.210</td>\n",
       "    </tr>\n",
       "    <tr>\n",
       "      <th>Annualized Sharpe Ratio</th>\n",
       "      <td>2.800</td>\n",
       "      <td>2.420</td>\n",
       "      <td>3.310</td>\n",
       "    </tr>\n",
       "    <tr>\n",
       "      <th>Sortino Ratio</th>\n",
       "      <td>0.320</td>\n",
       "      <td>0.250</td>\n",
       "      <td>1.440</td>\n",
       "    </tr>\n",
       "    <tr>\n",
       "      <th>Annualized Sortino Ratio</th>\n",
       "      <td>5.160</td>\n",
       "      <td>3.960</td>\n",
       "      <td>22.810</td>\n",
       "    </tr>\n",
       "    <tr>\n",
       "      <th>Mean Absolute Deviation Ratio</th>\n",
       "      <td>0.370</td>\n",
       "      <td>0.290</td>\n",
       "      <td>0.990</td>\n",
       "    </tr>\n",
       "    <tr>\n",
       "      <th>Value at Risk Ratio at 95%</th>\n",
       "      <td>0.190</td>\n",
       "      <td>0.140</td>\n",
       "      <td>4.440</td>\n",
       "    </tr>\n",
       "    <tr>\n",
       "      <th>CVaR Ratio at 95%</th>\n",
       "      <td>0.110</td>\n",
       "      <td>0.078</td>\n",
       "      <td>1.920</td>\n",
       "    </tr>\n",
       "    <tr>\n",
       "      <th>Drawdown at Risk Ratio at 95%</th>\n",
       "      <td>0.008</td>\n",
       "      <td>0.005</td>\n",
       "      <td>0.650</td>\n",
       "    </tr>\n",
       "    <tr>\n",
       "      <th>CDaR Ratio at 95%</th>\n",
       "      <td>0.007</td>\n",
       "      <td>0.005</td>\n",
       "      <td>0.390</td>\n",
       "    </tr>\n",
       "    <tr>\n",
       "      <th>Calmar Ratio</th>\n",
       "      <td>0.005</td>\n",
       "      <td>0.004</td>\n",
       "      <td>0.170</td>\n",
       "    </tr>\n",
       "    <tr>\n",
       "      <th>Average Drawdown Ratio</th>\n",
       "      <td>0.057</td>\n",
       "      <td>0.035</td>\n",
       "      <td>5.040</td>\n",
       "    </tr>\n",
       "  </tbody>\n",
       "</table>\n",
       "</div>"
      ],
      "text/plain": [
       "                               Risk Parity - Variance  Inverse Vol  \\\n",
       "Mean                                            0.000        0.000   \n",
       "Annualized Mean                                 0.016        0.015   \n",
       "Variance                                        0.000        0.000   \n",
       "Annualized Variance                             0.000        0.000   \n",
       "Semi-Variance                                   0.000        0.000   \n",
       "Annualized Semi-Variance                        0.000        0.000   \n",
       "Standard Deviation                              0.000        0.000   \n",
       "Annualized Standard Deviation                   0.006        0.006   \n",
       "Semi-Deviation                                  0.000        0.000   \n",
       "Annualized Semi-Deviation                       0.003        0.004   \n",
       "CVaR at 95%                                     0.001        0.001   \n",
       "CDaR at 95%                                     0.010        0.014   \n",
       "MAX Drawdown                                    0.013        0.017   \n",
       "Average Drawdown                                0.001        0.002   \n",
       "Value at Risk at 95%                            0.000        0.000   \n",
       "Drawdown at Risk at 95%                         0.008        0.011   \n",
       "Skew                                           11.260        5.970   \n",
       "Kurtosis                                      298.850      136.750   \n",
       "Sharpe Ratio                                    0.180        0.150   \n",
       "Annualized Sharpe Ratio                         2.800        2.420   \n",
       "Sortino Ratio                                   0.320        0.250   \n",
       "Annualized Sortino Ratio                        5.160        3.960   \n",
       "Mean Absolute Deviation Ratio                   0.370        0.290   \n",
       "Value at Risk Ratio at 95%                      0.190        0.140   \n",
       "CVaR Ratio at 95%                               0.110        0.078   \n",
       "Drawdown at Risk Ratio at 95%                   0.008        0.005   \n",
       "CDaR Ratio at 95%                               0.007        0.005   \n",
       "Calmar Ratio                                    0.005        0.004   \n",
       "Average Drawdown Ratio                          0.057        0.035   \n",
       "\n",
       "                               HierarchicalRiskParity  \n",
       "Mean                                            0.000  \n",
       "Annualized Mean                                 0.016  \n",
       "Variance                                        0.000  \n",
       "Annualized Variance                             0.000  \n",
       "Semi-Variance                                   0.000  \n",
       "Annualized Semi-Variance                        0.000  \n",
       "Standard Deviation                              0.000  \n",
       "Annualized Standard Deviation                   0.005  \n",
       "Semi-Deviation                                  0.000  \n",
       "Annualized Semi-Deviation                       0.001  \n",
       "CVaR at 95%                                     0.000  \n",
       "CDaR at 95%                                     0.000  \n",
       "MAX Drawdown                                    0.000  \n",
       "Average Drawdown                                0.000  \n",
       "Value at Risk at 95%                            0.000  \n",
       "Drawdown at Risk at 95%                         0.000  \n",
       "Skew                                           34.880  \n",
       "Kurtosis                                     1306.380  \n",
       "Sharpe Ratio                                    0.210  \n",
       "Annualized Sharpe Ratio                         3.310  \n",
       "Sortino Ratio                                   1.440  \n",
       "Annualized Sortino Ratio                       22.810  \n",
       "Mean Absolute Deviation Ratio                   0.990  \n",
       "Value at Risk Ratio at 95%                      4.440  \n",
       "CVaR Ratio at 95%                               1.920  \n",
       "Drawdown at Risk Ratio at 95%                   0.650  \n",
       "CDaR Ratio at 95%                               0.390  \n",
       "Calmar Ratio                                    0.170  \n",
       "Average Drawdown Ratio                          5.040  "
      ]
     },
     "execution_count": 31,
     "metadata": {},
     "output_type": "execute_result"
    }
   ],
   "source": [
    "def convert_to_float(val):\n",
    "    try:\n",
    "        if '%' in val:\n",
    "            return float(val.strip('%')) / 100\n",
    "        return float(val)\n",
    "    except ValueError:\n",
    "        return val\n",
    "\n",
    "summary_df_float = summary_df.applymap(convert_to_float)\n",
    "summary_df_float = summary_df_float.round(3)\n",
    "summary_df_float"
   ]
  },
  {
   "cell_type": "code",
   "execution_count": 32,
   "metadata": {},
   "outputs": [
    {
     "data": {
      "text/html": [
       "<div>\n",
       "<style scoped>\n",
       "    .dataframe tbody tr th:only-of-type {\n",
       "        vertical-align: middle;\n",
       "    }\n",
       "\n",
       "    .dataframe tbody tr th {\n",
       "        vertical-align: top;\n",
       "    }\n",
       "\n",
       "    .dataframe thead th {\n",
       "        text-align: right;\n",
       "    }\n",
       "</style>\n",
       "<table border=\"1\" class=\"dataframe\">\n",
       "  <thead>\n",
       "    <tr style=\"text-align: right;\">\n",
       "      <th></th>\n",
       "      <th>Risk Parity - Variance</th>\n",
       "      <th>Inverse Vol</th>\n",
       "      <th>HierarchicalRiskParity</th>\n",
       "    </tr>\n",
       "  </thead>\n",
       "  <tbody>\n",
       "    <tr>\n",
       "      <th>Mean</th>\n",
       "      <td>0.000</td>\n",
       "      <td>0.000</td>\n",
       "      <td>0.000</td>\n",
       "    </tr>\n",
       "    <tr>\n",
       "      <th>Annualized Mean</th>\n",
       "      <td>0.016</td>\n",
       "      <td>0.015</td>\n",
       "      <td>0.016</td>\n",
       "    </tr>\n",
       "    <tr>\n",
       "      <th>Skew</th>\n",
       "      <td>11.260</td>\n",
       "      <td>5.970</td>\n",
       "      <td>34.880</td>\n",
       "    </tr>\n",
       "    <tr>\n",
       "      <th>Sortino Ratio</th>\n",
       "      <td>0.320</td>\n",
       "      <td>0.250</td>\n",
       "      <td>1.440</td>\n",
       "    </tr>\n",
       "    <tr>\n",
       "      <th>Sharpe Ratio</th>\n",
       "      <td>0.180</td>\n",
       "      <td>0.150</td>\n",
       "      <td>0.210</td>\n",
       "    </tr>\n",
       "    <tr>\n",
       "      <th>Calmar Ratio</th>\n",
       "      <td>0.005</td>\n",
       "      <td>0.004</td>\n",
       "      <td>0.170</td>\n",
       "    </tr>\n",
       "  </tbody>\n",
       "</table>\n",
       "</div>"
      ],
      "text/plain": [
       "                 Risk Parity - Variance  Inverse Vol  HierarchicalRiskParity\n",
       "Mean                              0.000        0.000                   0.000\n",
       "Annualized Mean                   0.016        0.015                   0.016\n",
       "Skew                             11.260        5.970                  34.880\n",
       "Sortino Ratio                     0.320        0.250                   1.440\n",
       "Sharpe Ratio                      0.180        0.150                   0.210\n",
       "Calmar Ratio                      0.005        0.004                   0.170"
      ]
     },
     "execution_count": 32,
     "metadata": {},
     "output_type": "execute_result"
    }
   ],
   "source": [
    "list_of_positive_metrics = ['Mean', 'Annualized Mean', 'Skew', 'Sortino Ratio', 'Sharpe Ratio', 'Calmar Ratio', ]\n",
    "summary_df_float = summary_df_float.loc[list_of_positive_metrics,:]\n",
    "summary_df_float = summary_df_float\n",
    "summary_df_float"
   ]
  },
  {
   "cell_type": "code",
   "execution_count": 33,
   "metadata": {},
   "outputs": [
    {
     "data": {
      "text/html": [
       "<div>\n",
       "<style scoped>\n",
       "    .dataframe tbody tr th:only-of-type {\n",
       "        vertical-align: middle;\n",
       "    }\n",
       "\n",
       "    .dataframe tbody tr th {\n",
       "        vertical-align: top;\n",
       "    }\n",
       "\n",
       "    .dataframe thead th {\n",
       "        text-align: right;\n",
       "    }\n",
       "</style>\n",
       "<table border=\"1\" class=\"dataframe\">\n",
       "  <thead>\n",
       "    <tr style=\"text-align: right;\">\n",
       "      <th></th>\n",
       "      <th>Risk Parity - Variance</th>\n",
       "      <th>Inverse Vol</th>\n",
       "      <th>HierarchicalRiskParity</th>\n",
       "    </tr>\n",
       "  </thead>\n",
       "  <tbody>\n",
       "    <tr>\n",
       "      <th>Mean</th>\n",
       "      <td>0.0063%</td>\n",
       "      <td>0.0061%</td>\n",
       "      <td>0.0062%</td>\n",
       "    </tr>\n",
       "    <tr>\n",
       "      <th>Annualized Mean</th>\n",
       "      <td>1.60%</td>\n",
       "      <td>1.54%</td>\n",
       "      <td>1.57%</td>\n",
       "    </tr>\n",
       "    <tr>\n",
       "      <th>Variance</th>\n",
       "      <td>0.000013%</td>\n",
       "      <td>0.000016%</td>\n",
       "      <td>0.000009%</td>\n",
       "    </tr>\n",
       "    <tr>\n",
       "      <th>Annualized Variance</th>\n",
       "      <td>0.0033%</td>\n",
       "      <td>0.0041%</td>\n",
       "      <td>0.0023%</td>\n",
       "    </tr>\n",
       "    <tr>\n",
       "      <th>Semi-Variance</th>\n",
       "      <td>0.000004%</td>\n",
       "      <td>0.000006%</td>\n",
       "      <td>0.000000%</td>\n",
       "    </tr>\n",
       "    <tr>\n",
       "      <th>Annualized Semi-Variance</th>\n",
       "      <td>0.00096%</td>\n",
       "      <td>0.0015%</td>\n",
       "      <td>0.000047%</td>\n",
       "    </tr>\n",
       "    <tr>\n",
       "      <th>Standard Deviation</th>\n",
       "      <td>0.036%</td>\n",
       "      <td>0.040%</td>\n",
       "      <td>0.030%</td>\n",
       "    </tr>\n",
       "    <tr>\n",
       "      <th>Annualized Standard Deviation</th>\n",
       "      <td>0.57%</td>\n",
       "      <td>0.64%</td>\n",
       "      <td>0.48%</td>\n",
       "    </tr>\n",
       "    <tr>\n",
       "      <th>Semi-Deviation</th>\n",
       "      <td>0.020%</td>\n",
       "      <td>0.025%</td>\n",
       "      <td>0.0043%</td>\n",
       "    </tr>\n",
       "    <tr>\n",
       "      <th>Annualized Semi-Deviation</th>\n",
       "      <td>0.31%</td>\n",
       "      <td>0.39%</td>\n",
       "      <td>0.069%</td>\n",
       "    </tr>\n",
       "    <tr>\n",
       "      <th>CVaR at 95%</th>\n",
       "      <td>0.060%</td>\n",
       "      <td>0.079%</td>\n",
       "      <td>0.0032%</td>\n",
       "    </tr>\n",
       "    <tr>\n",
       "      <th>CDaR at 95%</th>\n",
       "      <td>0.96%</td>\n",
       "      <td>1.35%</td>\n",
       "      <td>0.016%</td>\n",
       "    </tr>\n",
       "    <tr>\n",
       "      <th>MAX Drawdown</th>\n",
       "      <td>1.26%</td>\n",
       "      <td>1.73%</td>\n",
       "      <td>0.036%</td>\n",
       "    </tr>\n",
       "    <tr>\n",
       "      <th>Average Drawdown</th>\n",
       "      <td>0.11%</td>\n",
       "      <td>0.17%</td>\n",
       "      <td>0.0012%</td>\n",
       "    </tr>\n",
       "    <tr>\n",
       "      <th>Value at Risk at 95%</th>\n",
       "      <td>0.033%</td>\n",
       "      <td>0.043%</td>\n",
       "      <td>0.0014%</td>\n",
       "    </tr>\n",
       "    <tr>\n",
       "      <th>Drawdown at Risk at 95%</th>\n",
       "      <td>0.79%</td>\n",
       "      <td>1.14%</td>\n",
       "      <td>0.0096%</td>\n",
       "    </tr>\n",
       "    <tr>\n",
       "      <th>Skew</th>\n",
       "      <td>11.26</td>\n",
       "      <td>5.97</td>\n",
       "      <td>34.88</td>\n",
       "    </tr>\n",
       "    <tr>\n",
       "      <th>Kurtosis</th>\n",
       "      <td>298.85</td>\n",
       "      <td>136.75</td>\n",
       "      <td>1306.38</td>\n",
       "    </tr>\n",
       "    <tr>\n",
       "      <th>Sharpe Ratio</th>\n",
       "      <td>0.18</td>\n",
       "      <td>0.15</td>\n",
       "      <td>0.21</td>\n",
       "    </tr>\n",
       "    <tr>\n",
       "      <th>Annualized Sharpe Ratio</th>\n",
       "      <td>2.80</td>\n",
       "      <td>2.42</td>\n",
       "      <td>3.31</td>\n",
       "    </tr>\n",
       "    <tr>\n",
       "      <th>Sortino Ratio</th>\n",
       "      <td>0.32</td>\n",
       "      <td>0.25</td>\n",
       "      <td>1.44</td>\n",
       "    </tr>\n",
       "    <tr>\n",
       "      <th>Annualized Sortino Ratio</th>\n",
       "      <td>5.16</td>\n",
       "      <td>3.96</td>\n",
       "      <td>22.81</td>\n",
       "    </tr>\n",
       "    <tr>\n",
       "      <th>Mean Absolute Deviation Ratio</th>\n",
       "      <td>0.37</td>\n",
       "      <td>0.29</td>\n",
       "      <td>0.99</td>\n",
       "    </tr>\n",
       "    <tr>\n",
       "      <th>Value at Risk Ratio at 95%</th>\n",
       "      <td>0.19</td>\n",
       "      <td>0.14</td>\n",
       "      <td>4.44</td>\n",
       "    </tr>\n",
       "    <tr>\n",
       "      <th>CVaR Ratio at 95%</th>\n",
       "      <td>0.11</td>\n",
       "      <td>0.078</td>\n",
       "      <td>1.92</td>\n",
       "    </tr>\n",
       "    <tr>\n",
       "      <th>Drawdown at Risk Ratio at 95%</th>\n",
       "      <td>0.0081</td>\n",
       "      <td>0.0054</td>\n",
       "      <td>0.65</td>\n",
       "    </tr>\n",
       "    <tr>\n",
       "      <th>CDaR Ratio at 95%</th>\n",
       "      <td>0.0066</td>\n",
       "      <td>0.0046</td>\n",
       "      <td>0.39</td>\n",
       "    </tr>\n",
       "    <tr>\n",
       "      <th>Calmar Ratio</th>\n",
       "      <td>0.0051</td>\n",
       "      <td>0.0036</td>\n",
       "      <td>0.17</td>\n",
       "    </tr>\n",
       "    <tr>\n",
       "      <th>Average Drawdown Ratio</th>\n",
       "      <td>0.057</td>\n",
       "      <td>0.035</td>\n",
       "      <td>5.04</td>\n",
       "    </tr>\n",
       "  </tbody>\n",
       "</table>\n",
       "</div>"
      ],
      "text/plain": [
       "                              Risk Parity - Variance Inverse Vol  \\\n",
       "Mean                                         0.0063%     0.0061%   \n",
       "Annualized Mean                                1.60%       1.54%   \n",
       "Variance                                   0.000013%   0.000016%   \n",
       "Annualized Variance                          0.0033%     0.0041%   \n",
       "Semi-Variance                              0.000004%   0.000006%   \n",
       "Annualized Semi-Variance                    0.00096%     0.0015%   \n",
       "Standard Deviation                            0.036%      0.040%   \n",
       "Annualized Standard Deviation                  0.57%       0.64%   \n",
       "Semi-Deviation                                0.020%      0.025%   \n",
       "Annualized Semi-Deviation                      0.31%       0.39%   \n",
       "CVaR at 95%                                   0.060%      0.079%   \n",
       "CDaR at 95%                                    0.96%       1.35%   \n",
       "MAX Drawdown                                   1.26%       1.73%   \n",
       "Average Drawdown                               0.11%       0.17%   \n",
       "Value at Risk at 95%                          0.033%      0.043%   \n",
       "Drawdown at Risk at 95%                        0.79%       1.14%   \n",
       "Skew                                           11.26        5.97   \n",
       "Kurtosis                                      298.85      136.75   \n",
       "Sharpe Ratio                                    0.18        0.15   \n",
       "Annualized Sharpe Ratio                         2.80        2.42   \n",
       "Sortino Ratio                                   0.32        0.25   \n",
       "Annualized Sortino Ratio                        5.16        3.96   \n",
       "Mean Absolute Deviation Ratio                   0.37        0.29   \n",
       "Value at Risk Ratio at 95%                      0.19        0.14   \n",
       "CVaR Ratio at 95%                               0.11       0.078   \n",
       "Drawdown at Risk Ratio at 95%                 0.0081      0.0054   \n",
       "CDaR Ratio at 95%                             0.0066      0.0046   \n",
       "Calmar Ratio                                  0.0051      0.0036   \n",
       "Average Drawdown Ratio                         0.057       0.035   \n",
       "\n",
       "                              HierarchicalRiskParity  \n",
       "Mean                                         0.0062%  \n",
       "Annualized Mean                                1.57%  \n",
       "Variance                                   0.000009%  \n",
       "Annualized Variance                          0.0023%  \n",
       "Semi-Variance                              0.000000%  \n",
       "Annualized Semi-Variance                   0.000047%  \n",
       "Standard Deviation                            0.030%  \n",
       "Annualized Standard Deviation                  0.48%  \n",
       "Semi-Deviation                               0.0043%  \n",
       "Annualized Semi-Deviation                     0.069%  \n",
       "CVaR at 95%                                  0.0032%  \n",
       "CDaR at 95%                                   0.016%  \n",
       "MAX Drawdown                                  0.036%  \n",
       "Average Drawdown                             0.0012%  \n",
       "Value at Risk at 95%                         0.0014%  \n",
       "Drawdown at Risk at 95%                      0.0096%  \n",
       "Skew                                           34.88  \n",
       "Kurtosis                                     1306.38  \n",
       "Sharpe Ratio                                    0.21  \n",
       "Annualized Sharpe Ratio                         3.31  \n",
       "Sortino Ratio                                   1.44  \n",
       "Annualized Sortino Ratio                       22.81  \n",
       "Mean Absolute Deviation Ratio                   0.99  \n",
       "Value at Risk Ratio at 95%                      4.44  \n",
       "CVaR Ratio at 95%                               1.92  \n",
       "Drawdown at Risk Ratio at 95%                   0.65  \n",
       "CDaR Ratio at 95%                               0.39  \n",
       "Calmar Ratio                                    0.17  \n",
       "Average Drawdown Ratio                          5.04  "
      ]
     },
     "execution_count": 33,
     "metadata": {},
     "output_type": "execute_result"
    }
   ],
   "source": [
    "list_of_positive_metrics = ['Mean', 'Annualized Mean', 'Skew', 'Sortino Ratio', 'Sharpe Ratio', 'Calmar Ratio']\n",
    "summary_df"
   ]
  },
  {
   "cell_type": "code",
   "execution_count": 34,
   "metadata": {},
   "outputs": [
    {
     "data": {
      "text/html": [
       "<div>\n",
       "<style scoped>\n",
       "    .dataframe tbody tr th:only-of-type {\n",
       "        vertical-align: middle;\n",
       "    }\n",
       "\n",
       "    .dataframe tbody tr th {\n",
       "        vertical-align: top;\n",
       "    }\n",
       "\n",
       "    .dataframe thead th {\n",
       "        text-align: right;\n",
       "    }\n",
       "</style>\n",
       "<table border=\"1\" class=\"dataframe\">\n",
       "  <thead>\n",
       "    <tr style=\"text-align: right;\">\n",
       "      <th></th>\n",
       "      <th>Risk Parity - Variance</th>\n",
       "      <th>Inverse Vol</th>\n",
       "      <th>HierarchicalRiskParity</th>\n",
       "      <th>Best Portfolio</th>\n",
       "    </tr>\n",
       "  </thead>\n",
       "  <tbody>\n",
       "    <tr>\n",
       "      <th>Mean</th>\n",
       "      <td>0.0063%</td>\n",
       "      <td>0.0061%</td>\n",
       "      <td>0.0062%</td>\n",
       "      <td>Risk Parity - Variance</td>\n",
       "    </tr>\n",
       "    <tr>\n",
       "      <th>Annualized Mean</th>\n",
       "      <td>1.60%</td>\n",
       "      <td>1.54%</td>\n",
       "      <td>1.57%</td>\n",
       "      <td>Risk Parity - Variance</td>\n",
       "    </tr>\n",
       "    <tr>\n",
       "      <th>Skew</th>\n",
       "      <td>11.26</td>\n",
       "      <td>5.97</td>\n",
       "      <td>34.88</td>\n",
       "      <td>HierarchicalRiskParity</td>\n",
       "    </tr>\n",
       "    <tr>\n",
       "      <th>Sortino Ratio</th>\n",
       "      <td>0.32</td>\n",
       "      <td>0.25</td>\n",
       "      <td>1.44</td>\n",
       "      <td>HierarchicalRiskParity</td>\n",
       "    </tr>\n",
       "    <tr>\n",
       "      <th>Sharpe Ratio</th>\n",
       "      <td>0.18</td>\n",
       "      <td>0.15</td>\n",
       "      <td>0.21</td>\n",
       "      <td>HierarchicalRiskParity</td>\n",
       "    </tr>\n",
       "    <tr>\n",
       "      <th>Calmar Ratio</th>\n",
       "      <td>0.0051</td>\n",
       "      <td>0.0036</td>\n",
       "      <td>0.17</td>\n",
       "      <td>HierarchicalRiskParity</td>\n",
       "    </tr>\n",
       "  </tbody>\n",
       "</table>\n",
       "</div>"
      ],
      "text/plain": [
       "                Risk Parity - Variance Inverse Vol HierarchicalRiskParity  \\\n",
       "Mean                           0.0063%     0.0061%                0.0062%   \n",
       "Annualized Mean                  1.60%       1.54%                  1.57%   \n",
       "Skew                             11.26        5.97                  34.88   \n",
       "Sortino Ratio                     0.32        0.25                   1.44   \n",
       "Sharpe Ratio                      0.18        0.15                   0.21   \n",
       "Calmar Ratio                    0.0051      0.0036                   0.17   \n",
       "\n",
       "                         Best Portfolio  \n",
       "Mean             Risk Parity - Variance  \n",
       "Annualized Mean  Risk Parity - Variance  \n",
       "Skew             HierarchicalRiskParity  \n",
       "Sortino Ratio    HierarchicalRiskParity  \n",
       "Sharpe Ratio     HierarchicalRiskParity  \n",
       "Calmar Ratio     HierarchicalRiskParity  "
      ]
     },
     "execution_count": 34,
     "metadata": {},
     "output_type": "execute_result"
    }
   ],
   "source": [
    "### Positive Metrics \n",
    "positive_metrics = summary_df.loc[list_of_positive_metrics,:]\n",
    "positive_metrics_float = summary_df_float.loc[list_of_positive_metrics,:]\n",
    "positive_metrics['Best Portfolio'] = positive_metrics_float.idxmax(axis = 1)\n",
    "positive_metrics"
   ]
  },
  {
   "cell_type": "code",
   "execution_count": 35,
   "metadata": {},
   "outputs": [
    {
     "data": {
      "text/html": [
       "<div>\n",
       "<style scoped>\n",
       "    .dataframe tbody tr th:only-of-type {\n",
       "        vertical-align: middle;\n",
       "    }\n",
       "\n",
       "    .dataframe tbody tr th {\n",
       "        vertical-align: top;\n",
       "    }\n",
       "\n",
       "    .dataframe thead th {\n",
       "        text-align: right;\n",
       "    }\n",
       "</style>\n",
       "<table border=\"1\" class=\"dataframe\">\n",
       "  <thead>\n",
       "    <tr style=\"text-align: right;\">\n",
       "      <th></th>\n",
       "      <th>Risk Parity - Variance</th>\n",
       "      <th>Inverse Vol</th>\n",
       "      <th>HierarchicalRiskParity</th>\n",
       "      <th>Best Portfolio</th>\n",
       "    </tr>\n",
       "  </thead>\n",
       "  <tbody>\n",
       "    <tr>\n",
       "      <th>Value at Risk at 95%</th>\n",
       "      <td>0.033%</td>\n",
       "      <td>0.043%</td>\n",
       "      <td>0.0014%</td>\n",
       "      <td>HierarchicalRiskParity</td>\n",
       "    </tr>\n",
       "    <tr>\n",
       "      <th>CDaR at 95%</th>\n",
       "      <td>0.96%</td>\n",
       "      <td>1.35%</td>\n",
       "      <td>0.016%</td>\n",
       "      <td>HierarchicalRiskParity</td>\n",
       "    </tr>\n",
       "    <tr>\n",
       "      <th>Annualized Variance</th>\n",
       "      <td>0.0033%</td>\n",
       "      <td>0.0041%</td>\n",
       "      <td>0.0023%</td>\n",
       "      <td>HierarchicalRiskParity</td>\n",
       "    </tr>\n",
       "    <tr>\n",
       "      <th>MAX Drawdown</th>\n",
       "      <td>1.26%</td>\n",
       "      <td>1.73%</td>\n",
       "      <td>0.036%</td>\n",
       "      <td>HierarchicalRiskParity</td>\n",
       "    </tr>\n",
       "    <tr>\n",
       "      <th>Average Drawdown</th>\n",
       "      <td>0.11%</td>\n",
       "      <td>0.17%</td>\n",
       "      <td>0.0012%</td>\n",
       "      <td>HierarchicalRiskParity</td>\n",
       "    </tr>\n",
       "  </tbody>\n",
       "</table>\n",
       "</div>"
      ],
      "text/plain": [
       "                     Risk Parity - Variance Inverse Vol  \\\n",
       "Value at Risk at 95%                 0.033%      0.043%   \n",
       "CDaR at 95%                           0.96%       1.35%   \n",
       "Annualized Variance                 0.0033%     0.0041%   \n",
       "MAX Drawdown                          1.26%       1.73%   \n",
       "Average Drawdown                      0.11%       0.17%   \n",
       "\n",
       "                     HierarchicalRiskParity          Best Portfolio  \n",
       "Value at Risk at 95%                0.0014%  HierarchicalRiskParity  \n",
       "CDaR at 95%                          0.016%  HierarchicalRiskParity  \n",
       "Annualized Variance                 0.0023%  HierarchicalRiskParity  \n",
       "MAX Drawdown                         0.036%  HierarchicalRiskParity  \n",
       "Average Drawdown                    0.0012%  HierarchicalRiskParity  "
      ]
     },
     "execution_count": 35,
     "metadata": {},
     "output_type": "execute_result"
    }
   ],
   "source": [
    "### Positive Metrics \n",
    "list_of_negative_metrics = ['Value at Risk at 95%', 'CDaR at 95%', 'Annualized Variance', 'MAX Drawdown', 'Average Drawdown']\n",
    "negative_metrics = summary_df.loc[list_of_negative_metrics,:]\n",
    "negative_metrics_float = summary_df_float.loc[list_of_positive_metrics,:]\n",
    "negative_metrics['Best Portfolio'] = negative_metrics.idxmin(axis = 1)\n",
    "negative_metrics"
   ]
  },
  {
   "cell_type": "code",
   "execution_count": 36,
   "metadata": {},
   "outputs": [
    {
     "data": {
      "text/html": [
       "<div>\n",
       "<style scoped>\n",
       "    .dataframe tbody tr th:only-of-type {\n",
       "        vertical-align: middle;\n",
       "    }\n",
       "\n",
       "    .dataframe tbody tr th {\n",
       "        vertical-align: top;\n",
       "    }\n",
       "\n",
       "    .dataframe thead th {\n",
       "        text-align: right;\n",
       "    }\n",
       "</style>\n",
       "<table border=\"1\" class=\"dataframe\">\n",
       "  <thead>\n",
       "    <tr style=\"text-align: right;\">\n",
       "      <th></th>\n",
       "      <th>Risk Parity - Variance</th>\n",
       "      <th>Inverse Vol</th>\n",
       "      <th>HierarchicalRiskParity</th>\n",
       "      <th>Best Portfolio</th>\n",
       "    </tr>\n",
       "  </thead>\n",
       "  <tbody>\n",
       "    <tr>\n",
       "      <th>Mean</th>\n",
       "      <td>0.0063%</td>\n",
       "      <td>0.0061%</td>\n",
       "      <td>0.0062%</td>\n",
       "      <td>Risk Parity - Variance</td>\n",
       "    </tr>\n",
       "    <tr>\n",
       "      <th>Annualized Mean</th>\n",
       "      <td>1.60%</td>\n",
       "      <td>1.54%</td>\n",
       "      <td>1.57%</td>\n",
       "      <td>Risk Parity - Variance</td>\n",
       "    </tr>\n",
       "    <tr>\n",
       "      <th>Skew</th>\n",
       "      <td>11.26</td>\n",
       "      <td>5.97</td>\n",
       "      <td>34.88</td>\n",
       "      <td>HierarchicalRiskParity</td>\n",
       "    </tr>\n",
       "    <tr>\n",
       "      <th>Sortino Ratio</th>\n",
       "      <td>0.32</td>\n",
       "      <td>0.25</td>\n",
       "      <td>1.44</td>\n",
       "      <td>HierarchicalRiskParity</td>\n",
       "    </tr>\n",
       "    <tr>\n",
       "      <th>Sharpe Ratio</th>\n",
       "      <td>0.18</td>\n",
       "      <td>0.15</td>\n",
       "      <td>0.21</td>\n",
       "      <td>HierarchicalRiskParity</td>\n",
       "    </tr>\n",
       "    <tr>\n",
       "      <th>Calmar Ratio</th>\n",
       "      <td>0.0051</td>\n",
       "      <td>0.0036</td>\n",
       "      <td>0.17</td>\n",
       "      <td>HierarchicalRiskParity</td>\n",
       "    </tr>\n",
       "    <tr>\n",
       "      <th>Value at Risk at 95%</th>\n",
       "      <td>0.033%</td>\n",
       "      <td>0.043%</td>\n",
       "      <td>0.0014%</td>\n",
       "      <td>HierarchicalRiskParity</td>\n",
       "    </tr>\n",
       "    <tr>\n",
       "      <th>CDaR at 95%</th>\n",
       "      <td>0.96%</td>\n",
       "      <td>1.35%</td>\n",
       "      <td>0.016%</td>\n",
       "      <td>HierarchicalRiskParity</td>\n",
       "    </tr>\n",
       "    <tr>\n",
       "      <th>Annualized Variance</th>\n",
       "      <td>0.0033%</td>\n",
       "      <td>0.0041%</td>\n",
       "      <td>0.0023%</td>\n",
       "      <td>HierarchicalRiskParity</td>\n",
       "    </tr>\n",
       "    <tr>\n",
       "      <th>MAX Drawdown</th>\n",
       "      <td>1.26%</td>\n",
       "      <td>1.73%</td>\n",
       "      <td>0.036%</td>\n",
       "      <td>HierarchicalRiskParity</td>\n",
       "    </tr>\n",
       "    <tr>\n",
       "      <th>Average Drawdown</th>\n",
       "      <td>0.11%</td>\n",
       "      <td>0.17%</td>\n",
       "      <td>0.0012%</td>\n",
       "      <td>HierarchicalRiskParity</td>\n",
       "    </tr>\n",
       "  </tbody>\n",
       "</table>\n",
       "</div>"
      ],
      "text/plain": [
       "                     Risk Parity - Variance Inverse Vol  \\\n",
       "Mean                                0.0063%     0.0061%   \n",
       "Annualized Mean                       1.60%       1.54%   \n",
       "Skew                                  11.26        5.97   \n",
       "Sortino Ratio                          0.32        0.25   \n",
       "Sharpe Ratio                           0.18        0.15   \n",
       "Calmar Ratio                         0.0051      0.0036   \n",
       "Value at Risk at 95%                 0.033%      0.043%   \n",
       "CDaR at 95%                           0.96%       1.35%   \n",
       "Annualized Variance                 0.0033%     0.0041%   \n",
       "MAX Drawdown                          1.26%       1.73%   \n",
       "Average Drawdown                      0.11%       0.17%   \n",
       "\n",
       "                     HierarchicalRiskParity          Best Portfolio  \n",
       "Mean                                0.0062%  Risk Parity - Variance  \n",
       "Annualized Mean                       1.57%  Risk Parity - Variance  \n",
       "Skew                                  34.88  HierarchicalRiskParity  \n",
       "Sortino Ratio                          1.44  HierarchicalRiskParity  \n",
       "Sharpe Ratio                           0.21  HierarchicalRiskParity  \n",
       "Calmar Ratio                           0.17  HierarchicalRiskParity  \n",
       "Value at Risk at 95%                0.0014%  HierarchicalRiskParity  \n",
       "CDaR at 95%                          0.016%  HierarchicalRiskParity  \n",
       "Annualized Variance                 0.0023%  HierarchicalRiskParity  \n",
       "MAX Drawdown                         0.036%  HierarchicalRiskParity  \n",
       "Average Drawdown                    0.0012%  HierarchicalRiskParity  "
      ]
     },
     "execution_count": 36,
     "metadata": {},
     "output_type": "execute_result"
    }
   ],
   "source": [
    "pd.concat([positive_metrics, negative_metrics], axis = 0)"
   ]
  }
 ],
 "metadata": {
  "kernelspec": {
   "display_name": "CEFA_env",
   "language": "python",
   "name": "python3"
  },
  "language_info": {
   "codemirror_mode": {
    "name": "ipython",
    "version": 3
   },
   "file_extension": ".py",
   "mimetype": "text/x-python",
   "name": "python",
   "nbconvert_exporter": "python",
   "pygments_lexer": "ipython3",
   "version": "3.10.13"
  }
 },
 "nbformat": 4,
 "nbformat_minor": 2
}
