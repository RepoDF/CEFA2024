{
  "cells": [
    {
      "cell_type": "markdown",
      "source": [
        "\n",
        "### Deep Learning\n",
        "\n",
        "\n",
        "Ejemplo red neuronal simple.\n",
        "\n",
        "Podemos entonces introducir el ejemplo más directo de red neuronal que se trata del modelo logit:\n",
        "\n",
        "\n",
        "Para ello vamos a usar una base de datos bastante popularizada que se trata de la base de datos de mnist la cuál fue compilada por Yann Le Cun hoy Chief Scientist en Meta AI.\n",
        "\n"
      ],
      "metadata": {
        "id": "6pPJrwWf9zhf"
      },
      "id": "6pPJrwWf9zhf"
    },
    {
      "cell_type": "code",
      "source": [
        "# %pip install torchmetrics\n",
        "# %pip install torchinfo\n",
        "# %pip install ISLP"
      ],
      "metadata": {
        "id": "nCY8pS6V_5rB"
      },
      "id": "nCY8pS6V_5rB",
      "execution_count": 30,
      "outputs": []
    },
    {
      "cell_type": "code",
      "source": [
        "### Importamos las librerias de Pytorch.\n",
        "\n",
        "import numpy as np, pandas as pd\n",
        "from matplotlib.pyplot import subplots\n",
        "from sklearn.linear_model import \\\n",
        "     (LinearRegression,\n",
        "      LogisticRegression,\n",
        "      Lasso)\n",
        "from sklearn.preprocessing import StandardScaler\n",
        "from sklearn.model_selection import KFold\n",
        "from sklearn.pipeline import Pipeline\n",
        "from ISLP import load_data\n",
        "from ISLP.models import ModelSpec as MS\n",
        "from sklearn.model_selection import \\\n",
        "     (train_test_split,\n",
        "      GridSearchCV)\n",
        "\n",
        "import torch\n",
        "from torch import nn\n",
        "from torch.optim import RMSprop\n",
        "from torch.utils.data import TensorDataset\n",
        "\n",
        "from torchmetrics import (MeanAbsoluteError,\n",
        "                          R2Score)\n",
        "from torchinfo import summary\n",
        "\n",
        "from pytorch_lightning import Trainer\n",
        "from pytorch_lightning.loggers import CSVLogger\n",
        "\n",
        "from pytorch_lightning import seed_everything\n",
        "seed_everything(0, workers=True)\n",
        "torch.use_deterministic_algorithms(True, warn_only=True)\n",
        "\n",
        "from torchvision.io import read_image\n",
        "from torchvision.datasets import MNIST, CIFAR100\n",
        "from torchvision.models import (resnet50,\n",
        "                                ResNet50_Weights)\n",
        "from torchvision.transforms import (Resize,\n",
        "                                    Normalize,\n",
        "                                    CenterCrop,\n",
        "                                    ToTensor)\n",
        "from ISLP.torch import (SimpleDataModule,\n",
        "                        SimpleModule,\n",
        "                        ErrorTracker,\n",
        "                        rec_num_workers)\n",
        "\n",
        "from ISLP.torch.imdb import (load_lookup,\n",
        "                             load_tensor,\n",
        "                             load_sparse,\n",
        "                             load_sequential)\n",
        "\n",
        "from glob import glob\n",
        "import json"
      ],
      "metadata": {
        "colab": {
          "base_uri": "https://localhost:8080/"
        },
        "id": "WPxeR1tVBnRf",
        "outputId": "42fb0f45-7ac4-4f70-b3e3-accb5ea40bf4"
      },
      "id": "WPxeR1tVBnRf",
      "execution_count": 31,
      "outputs": [
        {
          "output_type": "stream",
          "name": "stderr",
          "text": [
            "INFO:lightning_fabric.utilities.seed:Seed set to 0\n"
          ]
        }
      ]
    },
    {
      "cell_type": "code",
      "source": [],
      "metadata": {
        "id": "o5a3alpPB7nr"
      },
      "id": "o5a3alpPB7nr",
      "execution_count": 31,
      "outputs": []
    },
    {
      "cell_type": "code",
      "source": [
        "(mnist_train,\n",
        " mnist_test) = [MNIST(root='data',\n",
        "                      train=train,\n",
        "                      download=True,\n",
        "                      transform=ToTensor())\n",
        "                for train in [True, False]]\n",
        "mnist_train\n"
      ],
      "metadata": {
        "colab": {
          "base_uri": "https://localhost:8080/"
        },
        "id": "IOx61ZxDCCyz",
        "outputId": "b7a463ab-6b08-4577-c6f0-09b9ba8b1581"
      },
      "id": "IOx61ZxDCCyz",
      "execution_count": 32,
      "outputs": [
        {
          "output_type": "execute_result",
          "data": {
            "text/plain": [
              "Dataset MNIST\n",
              "    Number of datapoints: 60000\n",
              "    Root location: data\n",
              "    Split: Train\n",
              "    StandardTransform\n",
              "Transform: ToTensor()"
            ]
          },
          "metadata": {},
          "execution_count": 32
        }
      ]
    },
    {
      "cell_type": "code",
      "source": [
        "###\n",
        "import matplotlib.pyplot as plt\n",
        "\n",
        "##3 Podemos ver entonces una ejemplo del digito manuscrito.\n",
        "img_5 = mnist_train[1][0].numpy().reshape(28, 28)\n",
        "plt.imshow(img_5, cmap='gray')\n",
        "plt.show()\n"
      ],
      "metadata": {
        "colab": {
          "base_uri": "https://localhost:8080/",
          "height": 430
        },
        "id": "kH20r_13ChIG",
        "outputId": "6f52b945-84cb-4df5-90a6-3d07dd108421"
      },
      "id": "kH20r_13ChIG",
      "execution_count": 33,
      "outputs": [
        {
          "output_type": "display_data",
          "data": {
            "text/plain": [
              "<Figure size 640x480 with 1 Axes>"
            ],
            "image/png": "[encoded data removed]"
          },
          "metadata": {}
        }
      ]
    },
    {
      "cell_type": "markdown",
      "source": [
        "Podemos entonces cargar los datos usando la función load Dataset con la función DataLoader con el objetivo de cargar los datos al modelo en Batches o Lotes."
      ],
      "metadata": {
        "id": "yPwNEQ8zCz7S"
      },
      "id": "yPwNEQ8zCz7S"
    },
    {
      "cell_type": "code",
      "source": [
        "from torch.utils.data import DataLoader\n",
        "# Let's do it with a batch size of 32.\n",
        "batch_size_1 = 32\n",
        "train_loader = DataLoader(dataset = mnist_train, batch_size = batch_size_1, shuffle = True)\n",
        "train_loader"
      ],
      "metadata": {
        "colab": {
          "base_uri": "https://localhost:8080/"
        },
        "id": "c0w-WF1vC8pl",
        "outputId": "30b96a72-0c4b-4769-8756-502daa1c7689"
      },
      "id": "c0w-WF1vC8pl",
      "execution_count": 34,
      "outputs": [
        {
          "output_type": "execute_result",
          "data": {
            "text/plain": [
              "<torch.utils.data.dataloader.DataLoader at 0x78c2c0f06310>"
            ]
          },
          "metadata": {},
          "execution_count": 34
        }
      ]
    },
    {
      "cell_type": "code",
      "source": [
        "# Vamos entonces a definir una red neuronal heredando de la clase de nn.Module.\n",
        "class LogisticRegression(nn.Module):\n",
        "  def __init__(self, n_inputs, n_outputs):\n",
        "        super(LogisticRegression, self).__init__()\n",
        "        ## En este caso no hacemos un aumento de la dimensionalidad simplemmente estamos inputando el número deinputs y el número de outputs.\n",
        "        self.linear = torch.nn.Linear(n_inputs, n_outputs)\n",
        "    # make predictions\n",
        "  def forward(self, x):\n",
        "        y_pred = torch.sigmoid(self.linear(x))\n",
        "        return y_pred\n",
        "\n",
        "n_inputs = 28*28\n",
        "n_outputs = 10\n",
        "\n",
        "log_regr = LogisticRegression(n_inputs, n_outputs)\n",
        "log_regr\n"
      ],
      "metadata": {
        "colab": {
          "base_uri": "https://localhost:8080/"
        },
        "id": "wbTlPpoHDtK8",
        "outputId": "fa758377-8452-405d-ac81-aa1ddaf5fbbb"
      },
      "id": "wbTlPpoHDtK8",
      "execution_count": 37,
      "outputs": [
        {
          "output_type": "execute_result",
          "data": {
            "text/plain": [
              "LogisticRegression(\n",
              "  (linear): Linear(in_features=784, out_features=10, bias=True)\n",
              ")"
            ]
          },
          "metadata": {},
          "execution_count": 37
        }
      ]
    },
    {
      "cell_type": "markdown",
      "source": [
        "### Entrenamos el clasificador.\n",
        "\n",
        "Procedemos entonces entrenando el clasificador con la técnica de gradiente estocástico con una tasa de aprendizaje de 0.001 y la métrica de Cross Entropía.\n",
        "\n",
        "Esta métrica tiene la siguiente definición:\n",
        "\n",
        "$ -\\Sigma_i \\Sigma_m  y_{im}log(f_{m}(x_{i}) $\n",
        "\n",
        "Podemos entonces usar la definición más específica para\n",
        "\n",
        "$f_{m}(x_{i}) = e^{Z_{m}}/\\Sigma_{l}(e^{Z_{l}}) $\n",
        "\n"
      ],
      "metadata": {
        "id": "vFIX6OwwFCjb"
      },
      "id": "vFIX6OwwFCjb"
    },
    {
      "cell_type": "code",
      "source": [],
      "metadata": {
        "id": "uQakX2SdE08N"
      },
      "id": "uQakX2SdE08N",
      "execution_count": null,
      "outputs": []
    },
    {
      "cell_type": "code",
      "source": [
        "\n",
        "\n",
        "mnist_dm = SimpleDataModule(mnist_train,\n",
        "                            mnist_test,\n",
        "                            validation=0.2,\n",
        "                            num_workers=max_num_workers,\n",
        "                            batch_size=256)\n",
        "\n",
        "mnist_dm\n"
      ],
      "metadata": {
        "id": "74pwnWyvCGZB"
      },
      "id": "74pwnWyvCGZB",
      "execution_count": null,
      "outputs": []
    },
    {
      "cell_type": "code",
      "source": [],
      "metadata": {
        "id": "KNL_ad-0CF7H"
      },
      "id": "KNL_ad-0CF7H",
      "execution_count": null,
      "outputs": []
    },
    {
      "cell_type": "code",
      "source": [
        "### Importamos las librerias de PyTorch.\n",
        "import torch\n",
        "import torchvision.transforms as transforms\n",
        "from torchvision.datasets import MNIST, CIFAR100\n",
        "\n",
        "from torchmetrics import (MeanAbsoluteError,\n",
        "                          R2Score)\n",
        "from torchinfo import summary\n",
        "\n",
        "import numpy as np, pandas as pd\n",
        "from matplotlib.pyplot import subplots\n",
        "from sklearn.linear_model import \\\n",
        "     (LinearRegression,\n",
        "      LogisticRegression,\n",
        "      Lasso)\n",
        "from sklearn.preprocessing import StandardScaler\n",
        "from sklearn.model_selection import KFold\n",
        "from sklearn.pipeline import Pipeline\n",
        "from ISLP import load_data\n",
        "from ISLP.models import ModelSpec as MS\n",
        "from sklearn.model_selection import \\\n",
        "     (train_test_split,\n",
        "      GridSearchCV)\n",
        "\n",
        "from ISLP.torch import (SimpleDataModule,\n",
        "                        SimpleModule,\n",
        "                        ErrorTracker,\n",
        "                        rec_num_workers)\n"
      ],
      "metadata": {
        "id": "-VbeQe3__L9_"
      },
      "id": "-VbeQe3__L9_",
      "execution_count": null,
      "outputs": []
    },
    {
      "cell_type": "code",
      "source": [
        "(mnist_train,\n",
        " mnist_test) = [MNIST(root='data',\n",
        "                      train=train,\n",
        "                      download=True,\n",
        "                      transform=ToTensor())\n",
        "                for train in [True, False]]\n",
        "mnist_train\n"
      ],
      "metadata": {
        "id": "wn2fkgD8A8HW"
      },
      "id": "wn2fkgD8A8HW",
      "execution_count": null,
      "outputs": []
    },
    {
      "cell_type": "code",
      "source": [
        "### Importamos entonces las librerías de Pytorch.\n",
        "\n",
        "# Importamos datos de entrada y datos de de\n",
        "\n",
        "(mnist_train,\n",
        " mnist_test) = [MNIST(root='data',\n",
        "                      train=train,\n",
        "                      download=True,\n",
        "                      transform=ToTensor())\n",
        "                for train in [True, False]]\n",
        "\n",
        "mnist_train"
      ],
      "metadata": {
        "id": "jSPVG7969zLi"
      },
      "id": "jSPVG7969zLi",
      "execution_count": null,
      "outputs": []
    },
    {
      "cell_type": "code",
      "source": [
        "print(\"number of training samples: \" + str(len(train_dataset)) + \"\\n\" +\n",
        "      \"number of testing samples: \" + str(len(test_dataset)))"
      ],
      "metadata": {
        "id": "IhB3i5MXAXZT"
      },
      "id": "IhB3i5MXAXZT",
      "execution_count": null,
      "outputs": []
    },
    {
      "cell_type": "code",
      "source": [
        "\n",
        "img_5 = train_dataset[0][0].numpy().reshape(28, 28)\n",
        "plt.imshow(img_5, cmap='gray')\n",
        "plt.show()\n",
        "img_0 = train_dataset[1][0].numpy().reshape(28, 28)\n",
        "plt.imshow(img_0, cmap='gray')\n",
        "plt.show()"
      ],
      "metadata": {
        "id": "9hxq7-mDAaNm"
      },
      "id": "9hxq7-mDAaNm",
      "execution_count": null,
      "outputs": []
    },
    {
      "cell_type": "markdown",
      "id": "5afc399d",
      "metadata": {
        "id": "5afc399d"
      },
      "source": [
        "# Deep Learning\n",
        "\n",
        "<a target=\"_blank\" href=\"https://colab.research.google.com/github/intro-stat-learning/ISLP_labs/blob/v2.2/Ch10-deeplearning-lab.ipynb\">\n",
        "<img src=\"https://colab.research.google.com/assets/colab-badge.svg\" alt=\"Open In Colab\"/>\n",
        "</a>\n",
        "\n",
        "[![Binder](https://mybinder.org/badge_logo.svg)](https://mybinder.org/v2/gh/intro-stat-learning/ISLP_labs/v2.2?labpath=Ch10-deeplearning-lab.ipynb)"
      ]
    },
    {
      "cell_type": "markdown",
      "id": "2f2304ae",
      "metadata": {
        "id": "2f2304ae"
      },
      "source": [
        "In this section we  demonstrate how to fit the examples discussed\n",
        "in the text. We use the `Python`{} `torch` package, along with the\n",
        "`pytorch_lightning` package which provides utilities to simplify\n",
        "fitting and evaluating models.  This code can be impressively fast\n",
        "with certain  special processors,  such as Apple’s new M1 chip. The package is well-structured, flexible, and will feel comfortable\n",
        "to `Python`{} users. A good companion is the site\n",
        "[pytorch.org/tutorials](https://pytorch.org/tutorials/beginner/basics/intro.html).\n",
        "Much of our code is adapted from there, as well as the `pytorch_lightning` documentation. {The precise URLs at the time of writing are <https://pytorch.org/tutorials/beginner/basics/intro.html> and <https://pytorch-lightning.readthedocs.io/en/latest/>.}\n",
        "\n",
        "We start with several standard imports that we have  seen before."
      ]
    },
    {
      "cell_type": "code",
      "execution_count": null,
      "id": "71bd6b71",
      "metadata": {
        "lines_to_next_cell": 2,
        "id": "71bd6b71"
      },
      "outputs": [],
      "source": []
    },
    {
      "cell_type": "markdown",
      "id": "9b799d88",
      "metadata": {
        "id": "9b799d88"
      },
      "source": [
        "### Torch-Specific Imports\n",
        "There are a number of imports for `torch`. (These are not\n",
        "included with `ISLP`, so must be installed separately.)\n",
        "First we import the main library\n",
        "and essential tools used to specify sequentially-structured networks."
      ]
    },
    {
      "cell_type": "code",
      "execution_count": null,
      "id": "3298bdf1",
      "metadata": {
        "id": "3298bdf1"
      },
      "outputs": [],
      "source": [
        "import torch\n",
        "from torch import nn\n",
        "from torch.optim import RMSprop\n",
        "from torch.utils.data import TensorDataset\n"
      ]
    },
    {
      "cell_type": "markdown",
      "id": "51c32fa5",
      "metadata": {
        "id": "51c32fa5"
      },
      "source": [
        "There are several other helper packages for `torch`. For instance,\n",
        "the `torchmetrics` package has utilities to compute\n",
        "various metrics to evaluate performance when fitting\n",
        "a model. The `torchinfo` package provides a useful\n",
        "summary of the layers of a model. We use the `read_image()`\n",
        "function when loading test images in Section~\\ref{Ch13-deeplearning-lab:using-pretrained-cnn-models}.\n",
        "\n",
        "If you have not already installed the packages `torchvision`\n",
        "and `torchinfo` you can install them by running\n",
        "`pip install torchinfo torchvision`.\n",
        "We can now import from `torchinfo`.\n"
      ]
    },
    {
      "cell_type": "code",
      "execution_count": null,
      "id": "aeae9bd9",
      "metadata": {
        "id": "aeae9bd9"
      },
      "outputs": [],
      "source": [
        "from torchmetrics import (MeanAbsoluteError,\n",
        "                          R2Score)\n",
        "from torchinfo import summary\n"
      ]
    },
    {
      "cell_type": "markdown",
      "id": "1049a398",
      "metadata": {
        "id": "1049a398"
      },
      "source": [
        "The package `pytorch_lightning` is a somewhat higher-level\n",
        "interface to `torch` that simplifies the specification and\n",
        "fitting of\n",
        "models by reducing the amount of boilerplate code needed\n",
        "(compared to using `torch` alone)."
      ]
    },
    {
      "cell_type": "code",
      "execution_count": null,
      "id": "a5a39702",
      "metadata": {
        "id": "a5a39702"
      },
      "outputs": [],
      "source": [
        "from pytorch_lightning import Trainer\n",
        "from pytorch_lightning.loggers import CSVLogger\n"
      ]
    },
    {
      "cell_type": "markdown",
      "id": "e1b27f4d",
      "metadata": {
        "id": "e1b27f4d"
      },
      "source": [
        "In order to reproduce results we use `seed_everything()`. We will also instruct `torch` to use deterministic algorithms\n",
        "where possible."
      ]
    },
    {
      "cell_type": "code",
      "execution_count": null,
      "id": "11bf06a4",
      "metadata": {
        "id": "11bf06a4"
      },
      "outputs": [],
      "source": [
        "from pytorch_lightning import seed_everything\n",
        "seed_everything(0, workers=True)\n",
        "torch.use_deterministic_algorithms(True, warn_only=True)\n"
      ]
    },
    {
      "cell_type": "markdown",
      "id": "4bd719f8",
      "metadata": {
        "id": "4bd719f8"
      },
      "source": [
        "We will use several datasets shipped with `torchvision` for our\n",
        "examples: a pretrained network for image classification,\n",
        "as well as some transforms used for preprocessing."
      ]
    },
    {
      "cell_type": "code",
      "execution_count": null,
      "id": "062cd869",
      "metadata": {
        "lines_to_next_cell": 0,
        "id": "062cd869"
      },
      "outputs": [],
      "source": [
        "from torchvision.io import read_image\n",
        "from torchvision.datasets import MNIST, CIFAR100\n",
        "from torchvision.models import (resnet50,\n",
        "                                ResNet50_Weights)\n",
        "from torchvision.transforms import (Resize,\n",
        "                                    Normalize,\n",
        "                                    CenterCrop,\n",
        "                                    ToTensor)"
      ]
    },
    {
      "cell_type": "markdown",
      "id": "7c2a507a",
      "metadata": {
        "id": "7c2a507a"
      },
      "source": [
        "We have provided a few utilities in `ISLP` specifically for this lab.\n",
        "The `SimpleDataModule` and `SimpleModule` are simple\n",
        "versions of objects used in `pytorch_lightning`, the\n",
        "high-level module for fitting `torch` models. Although more advanced\n",
        "uses such as computing on graphical processing units (GPUs) and parallel data processing\n",
        "are possible in this module, we will not be focusing much on these\n",
        "in this lab. The `ErrorTracker` handles\n",
        "collections of targets and predictions over each mini-batch\n",
        "in the validation or test stage, allowing computation\n",
        "of the metric over the entire validation or test data set."
      ]
    },
    {
      "cell_type": "code",
      "execution_count": null,
      "id": "4a05884a",
      "metadata": {
        "id": "4a05884a"
      },
      "outputs": [],
      "source": [
        "from ISLP.torch import (SimpleDataModule,\n",
        "                        SimpleModule,\n",
        "                        ErrorTracker,\n",
        "                        rec_num_workers)\n"
      ]
    },
    {
      "cell_type": "markdown",
      "id": "a6f41487",
      "metadata": {
        "id": "a6f41487"
      },
      "source": [
        "In addition we have included some helper\n",
        "functions to load the\n",
        "`IMDb` database, as well as a lookup that maps integers\n",
        "to particular keys in the database. We’ve included\n",
        "a slightly modified copy of the preprocessed\n",
        "`IMDb` data from `keras`, a separate package\n",
        "for fitting deep learning models. This saves us significant\n",
        "preprocessing and allows us to focus on specifying and fitting\n",
        "the models themselves."
      ]
    },
    {
      "cell_type": "code",
      "execution_count": null,
      "id": "1474e88b",
      "metadata": {
        "id": "1474e88b"
      },
      "outputs": [],
      "source": [
        "from ISLP.torch.imdb import (load_lookup,\n",
        "                             load_tensor,\n",
        "                             load_sparse,\n",
        "                             load_sequential)\n"
      ]
    },
    {
      "cell_type": "markdown",
      "id": "86123617",
      "metadata": {
        "id": "86123617"
      },
      "source": [
        "Finally, we introduce some utility imports  not directly related to\n",
        "`torch`.\n",
        "The `glob()` function from the `glob` module is used\n",
        "to find all files matching wildcard characters, which we will use\n",
        "in our example applying the `ResNet50` model\n",
        "to some of our own images.\n",
        "The `json` module will be used to load\n",
        "a JSON file for looking up classes to identify the labels of the\n",
        "pictures in the `ResNet50` example."
      ]
    },
    {
      "cell_type": "code",
      "execution_count": null,
      "id": "0100ff28",
      "metadata": {
        "lines_to_next_cell": 2,
        "id": "0100ff28"
      },
      "outputs": [],
      "source": [
        "from glob import glob\n",
        "import json\n"
      ]
    },
    {
      "cell_type": "markdown",
      "id": "b0f81cea",
      "metadata": {
        "id": "b0f81cea"
      },
      "source": [
        "## Single Layer Network on Hitters Data\n",
        "We start by fitting the models in Section~\\ref{Ch13:sec:when-use-deep} on the `Hitters` data."
      ]
    },
    {
      "cell_type": "code",
      "execution_count": null,
      "id": "ef59d53a",
      "metadata": {
        "lines_to_next_cell": 0,
        "id": "ef59d53a"
      },
      "outputs": [],
      "source": [
        "Hitters = load_data('Hitters').dropna()\n",
        "n = Hitters.shape[0]\n"
      ]
    },
    {
      "cell_type": "markdown",
      "id": "e302823e",
      "metadata": {
        "id": "e302823e"
      },
      "source": [
        " We will fit two linear models (least squares  and lasso) and  compare their performance\n",
        "to that of a neural network. For this comparison we will use mean absolute error on a validation dataset.\n",
        "\\begin{equation*}\n",
        "\\begin{split}\n",
        "\\mbox{MAE}(y,\\hat{y}) = \\frac{1}{n} \\sum_{i=1}^n |y_i-\\hat{y}_i|.\n",
        "\\end{split}\n",
        "\\end{equation*}\n",
        "We set up the model matrix and the response."
      ]
    },
    {
      "cell_type": "code",
      "execution_count": null,
      "id": "4deacf91",
      "metadata": {
        "lines_to_next_cell": 0,
        "id": "4deacf91"
      },
      "outputs": [],
      "source": [
        "model = MS(Hitters.columns.drop('Salary'), intercept=False)\n",
        "X = model.fit_transform(Hitters).to_numpy()\n",
        "Y = Hitters['Salary'].to_numpy()\n"
      ]
    },
    {
      "cell_type": "markdown",
      "id": "d030ccab",
      "metadata": {
        "id": "d030ccab"
      },
      "source": [
        "The `to_numpy()`  method above converts `pandas`\n",
        "data frames or series to `numpy` arrays.\n",
        "We do this because we will need to  use `sklearn` to fit the lasso model,\n",
        "and it requires this conversion.\n",
        "We also use  a linear regression method from `sklearn`, rather than the method\n",
        "in Chapter~3 from `statsmodels`, to facilitate the comparisons."
      ]
    },
    {
      "cell_type": "markdown",
      "id": "13ffb53a",
      "metadata": {
        "id": "13ffb53a"
      },
      "source": [
        "We now split the data into test and training, fixing the random\n",
        "state used by `sklearn` to do the split."
      ]
    },
    {
      "cell_type": "code",
      "execution_count": null,
      "id": "8593f62b",
      "metadata": {
        "id": "8593f62b"
      },
      "outputs": [],
      "source": [
        "(X_train,\n",
        " X_test,\n",
        " Y_train,\n",
        " Y_test) = train_test_split(X,\n",
        "                            Y,\n",
        "                            test_size=1/3,\n",
        "                            random_state=1)"
      ]
    },
    {
      "cell_type": "markdown",
      "id": "d1e980ad",
      "metadata": {
        "id": "d1e980ad"
      },
      "source": [
        "### Linear Models\n",
        "We fit the linear model and evaluate the test error directly."
      ]
    },
    {
      "cell_type": "code",
      "execution_count": null,
      "id": "54b14993",
      "metadata": {
        "id": "54b14993"
      },
      "outputs": [],
      "source": [
        "hit_lm = LinearRegression().fit(X_train, Y_train)\n",
        "Yhat_test = hit_lm.predict(X_test)\n",
        "np.abs(Yhat_test - Y_test).mean()"
      ]
    },
    {
      "cell_type": "markdown",
      "id": "c18abe13",
      "metadata": {
        "id": "c18abe13"
      },
      "source": [
        "Next we fit the lasso using `sklearn`. We are using\n",
        "mean absolute error to select and evaluate a model, rather than mean squared error.\n",
        "The specialized solver we used in Section~\\ref{Ch6-varselect-lab:lab-2-ridge-regression-and-the-lasso} uses only mean squared error. So here, with a bit more work,  we create a cross-validation grid and perform the cross-validation directly.  \n",
        "\n",
        "We encode a pipeline with two steps: we first normalize the features using a `StandardScaler()` transform,\n",
        "and then fit the lasso without further normalization."
      ]
    },
    {
      "cell_type": "code",
      "execution_count": null,
      "id": "84c668ad",
      "metadata": {
        "id": "84c668ad"
      },
      "outputs": [],
      "source": [
        "scaler = StandardScaler(with_mean=True, with_std=True)\n",
        "lasso = Lasso(warm_start=True, max_iter=30000)\n",
        "standard_lasso = Pipeline(steps=[('scaler', scaler),\n",
        "                                 ('lasso', lasso)])"
      ]
    },
    {
      "cell_type": "markdown",
      "id": "aab2c215",
      "metadata": {
        "id": "aab2c215"
      },
      "source": [
        "We need to create a grid of values for $\\lambda$. As is common practice,\n",
        "we choose a grid of 100 values of $\\lambda$, uniform on the log scale from `lam_max` down to  `0.01*lam_max`. Here  `lam_max` is the smallest value of\n",
        "$\\lambda$ with an  all-zero solution. This value equals the largest absolute inner-product between any predictor and the (centered) response. {The derivation of this result is beyond the scope of this book.}"
      ]
    },
    {
      "cell_type": "code",
      "execution_count": null,
      "id": "093f8ce9",
      "metadata": {
        "lines_to_next_cell": 0,
        "id": "093f8ce9"
      },
      "outputs": [],
      "source": [
        "X_s = scaler.fit_transform(X_train)\n",
        "n = X_s.shape[0]\n",
        "lam_max = np.fabs(X_s.T.dot(Y_train - Y_train.mean())).max() / n\n",
        "param_grid = {'lasso__alpha': np.exp(np.linspace(0, np.log(0.01), 100))\n",
        "             * lam_max}"
      ]
    },
    {
      "cell_type": "markdown",
      "id": "def35611",
      "metadata": {
        "id": "def35611"
      },
      "source": [
        "Note that we had to transform the data first, since the scale of the variables impacts the choice of $\\lambda$.\n",
        "We now perform cross-validation using this sequence of $\\lambda$ values."
      ]
    },
    {
      "cell_type": "code",
      "execution_count": null,
      "id": "38773381",
      "metadata": {
        "id": "38773381"
      },
      "outputs": [],
      "source": [
        "cv = KFold(10,\n",
        "           shuffle=True,\n",
        "           random_state=1)\n",
        "grid = GridSearchCV(standard_lasso,\n",
        "                    param_grid,\n",
        "                    cv=cv,\n",
        "                    scoring='neg_mean_absolute_error')\n",
        "grid.fit(X_train, Y_train);"
      ]
    },
    {
      "cell_type": "markdown",
      "id": "53f2dc95",
      "metadata": {
        "id": "53f2dc95"
      },
      "source": [
        "We extract the lasso model with best cross-validated mean absolute error, and evaluate its\n",
        "performance on `X_test` and `Y_test`, which were not used in\n",
        "cross-validation."
      ]
    },
    {
      "cell_type": "code",
      "execution_count": null,
      "id": "adc24a51",
      "metadata": {
        "lines_to_next_cell": 0,
        "id": "adc24a51"
      },
      "outputs": [],
      "source": [
        "trained_lasso = grid.best_estimator_\n",
        "Yhat_test = trained_lasso.predict(X_test)\n",
        "np.fabs(Yhat_test - Y_test).mean()"
      ]
    },
    {
      "cell_type": "markdown",
      "id": "252e9dc1",
      "metadata": {
        "id": "252e9dc1"
      },
      "source": [
        "This is similar to the results we got for the linear model fit by least squares. However, these results can vary a lot for different train/test splits; we encourage the reader to try a different seed in code block 12 and rerun the subsequent code up to this point.\n",
        "\n",
        "### Specifying a Network: Classes and Inheritance\n",
        "To fit the neural network, we first set up a model structure\n",
        "that describes the network.\n",
        "Doing so requires us to define new classes specific to the model we wish to fit.\n",
        "Typically this is done in  `pytorch` by sub-classing a generic\n",
        "representation of a network, which is the approach we take here.\n",
        "Although this example is simple, we will go through the steps in some detail, since it will serve us well\n",
        "for the more complex examples to follow.\n"
      ]
    },
    {
      "cell_type": "code",
      "execution_count": null,
      "id": "415cf74b",
      "metadata": {
        "id": "415cf74b"
      },
      "outputs": [],
      "source": [
        "class HittersModel(nn.Module):\n",
        "\n",
        "    def __init__(self, input_size):\n",
        "        super(HittersModel, self).__init__()\n",
        "        self.flatten = nn.Flatten()\n",
        "        self.sequential = nn.Sequential(\n",
        "            nn.Linear(input_size, 50),\n",
        "            nn.ReLU(),\n",
        "            nn.Dropout(0.4),\n",
        "            nn.Linear(50, 1))\n",
        "\n",
        "    def forward(self, x):\n",
        "        x = self.flatten(x)\n",
        "        return torch.flatten(self.sequential(x))\n"
      ]
    },
    {
      "cell_type": "markdown",
      "id": "ca326fd5",
      "metadata": {
        "id": "ca326fd5"
      },
      "source": [
        "The `class` statement identifies the code chunk as a\n",
        "declaration for a class `HittersModel`\n",
        "that inherits from the  base class `nn.Module`. This base\n",
        "class is ubiquitous in `torch` and represents the\n",
        "mappings in the neural networks.\n",
        "\n",
        "Indented beneath the `class` statement are the methods of this class:\n",
        "in this case `__init__` and `forward`.  The `__init__` method is\n",
        "called when an instance of the class is created as in the cell\n",
        "below. In the methods, `self` always refers to an instance of the\n",
        "class. In the `__init__` method, we have attached two objects to\n",
        "`self` as attributes: `flatten` and `sequential`. These are used in\n",
        "the `forward` method to describe the map that this module implements.\n",
        "\n",
        "There is one additional line in the `__init__` method, which\n",
        "is a call to\n",
        "`super()`. This function allows subclasses (i.e. `HittersModel`)\n",
        "to access methods of the class they inherit from. For example,\n",
        "the class `nn.Module` has its own `__init__` method, which is different from\n",
        "the `HittersModel.__init__()` method we’ve written above.\n",
        "Using `super()` allows us to call the method of the base class. For\n",
        "`torch` models, we will always be making this `super()` call as it is necessary\n",
        "for the model to be properly interpreted by `torch`.\n",
        "\n",
        "The object `nn.Module` has more methods than simply `__init__` and `forward`. These\n",
        "methods are directly accessible to `HittersModel` instances because of this inheritance.\n",
        "One such method we will see shortly is the `eval()` method, used\n",
        "to disable dropout for when we want to evaluate the model on test data."
      ]
    },
    {
      "cell_type": "code",
      "execution_count": null,
      "id": "60469c96",
      "metadata": {
        "id": "60469c96"
      },
      "outputs": [],
      "source": [
        "hit_model = HittersModel(X.shape[1])\n"
      ]
    },
    {
      "cell_type": "markdown",
      "id": "114db3d4",
      "metadata": {
        "id": "114db3d4"
      },
      "source": [
        "The object `self.sequential` is a composition of four maps. The\n",
        "first maps the 19 features of `Hitters` to 50 dimensions, introducing $50\\times 19+50$ parameters\n",
        "for the weights and *intercept*  of the map (often called the *bias*). This layer\n",
        "is then mapped to a ReLU layer followed by a 40% dropout layer, and finally a\n",
        "linear map down to 1 dimension, again with a bias. The total number of\n",
        "trainable parameters is therefore $50\\times 19+50+50+1=1051$.\n",
        "\n",
        "    "
      ]
    },
    {
      "cell_type": "markdown",
      "id": "9f5be00d",
      "metadata": {
        "id": "9f5be00d"
      },
      "source": [
        "The package `torchinfo` provides a `summary()` function that neatly summarizes\n",
        "this information. We specify the size of the input and see the size\n",
        "of each tensor as it passes through layers of the network."
      ]
    },
    {
      "cell_type": "code",
      "execution_count": null,
      "id": "84720ca7",
      "metadata": {
        "lines_to_next_cell": 0,
        "id": "84720ca7"
      },
      "outputs": [],
      "source": [
        "summary(hit_model,\n",
        "        input_size=X_train.shape,\n",
        "        col_names=['input_size',\n",
        "                   'output_size',\n",
        "                   'num_params'])\n"
      ]
    },
    {
      "cell_type": "markdown",
      "id": "48833aad",
      "metadata": {
        "id": "48833aad"
      },
      "source": [
        "We have truncated the end of the output slightly, here and in subsequent uses.\n",
        "\n",
        "We now need to transform our training data into a form accessible to `torch`.\n",
        "The basic\n",
        "datatype in `torch` is a `tensor`, which is very similar\n",
        "to an `ndarray` from early chapters.\n",
        "We also note here that `torch` typically\n",
        "works with 32-bit (*single precision*)\n",
        "rather than 64-bit (*double precision*) floating point numbers.\n",
        "We therefore convert our data to `np.float32` before\n",
        "forming the tensor.\n",
        "The $X$ and $Y$ tensors are then arranged into a `Dataset`\n",
        "recognized by `torch`\n",
        "using `TensorDataset()`."
      ]
    },
    {
      "cell_type": "code",
      "execution_count": null,
      "id": "6f8038ce",
      "metadata": {
        "lines_to_next_cell": 0,
        "id": "6f8038ce"
      },
      "outputs": [],
      "source": [
        "X_train_t = torch.tensor(X_train.astype(np.float32))\n",
        "Y_train_t = torch.tensor(Y_train.astype(np.float32))\n",
        "hit_train = TensorDataset(X_train_t, Y_train_t)"
      ]
    },
    {
      "cell_type": "markdown",
      "id": "3b0c854a",
      "metadata": {
        "id": "3b0c854a"
      },
      "source": [
        "We do the same for the test data."
      ]
    },
    {
      "cell_type": "code",
      "execution_count": null,
      "id": "ffe8314e",
      "metadata": {
        "id": "ffe8314e"
      },
      "outputs": [],
      "source": [
        "X_test_t = torch.tensor(X_test.astype(np.float32))\n",
        "Y_test_t = torch.tensor(Y_test.astype(np.float32))\n",
        "hit_test = TensorDataset(X_test_t, Y_test_t)\n"
      ]
    },
    {
      "cell_type": "markdown",
      "id": "8806a619",
      "metadata": {
        "id": "8806a619"
      },
      "source": [
        "Finally, this dataset is passed to a `DataLoader()` which ultimately\n",
        "passes data into our network. While this may seem\n",
        "like a lot of overhead, this structure is helpful for more\n",
        "complex tasks where data may live on different machines,\n",
        "or where data must be passed to a GPU.\n",
        "We provide a helper function `SimpleDataModule()` in `ISLP` to make this task easier for\n",
        "standard usage.\n",
        "One of its arguments is `num_workers`, which indicates\n",
        "how many processes we will use\n",
        "for loading the data. For small\n",
        "data like `Hitters` this will have little effect, but\n",
        "it does provide an advantage for the `MNIST`  and `CIFAR100` examples below.\n",
        "The `torch` package will inspect the process running and determine a\n",
        "maximum number of workers. {This depends on the computing hardware and the number of cores available.} We’ve included a function\n",
        "`rec_num_workers()` to compute this so we know how many\n",
        "workers might be reasonable (here the max was 16)."
      ]
    },
    {
      "cell_type": "code",
      "execution_count": null,
      "id": "337f4f07",
      "metadata": {
        "id": "337f4f07"
      },
      "outputs": [],
      "source": [
        "max_num_workers = rec_num_workers()"
      ]
    },
    {
      "cell_type": "markdown",
      "id": "18928238",
      "metadata": {
        "id": "18928238"
      },
      "source": [
        "The general training setup in `pytorch_lightning` involves\n",
        "training, validation and test data. These are each\n",
        "represented by different data loaders. During each epoch,\n",
        "we run a training step to learn the model and a validation\n",
        "step to track the error. The test data is typically\n",
        "used at the end of training to evaluate the model.\n",
        "\n",
        "In this case, as we had split only into test and training,\n",
        "we’ll use the test data as validation data with the\n",
        "argument `validation=hit_test`. The\n",
        "`validation` argument can be a float between 0 and 1, an\n",
        "integer, or a\n",
        "`Dataset`. If a float (respectively, integer), it is interpreted\n",
        "as a percentage (respectively number) of the *training* observations to be used for validation.\n",
        "If it is a `Dataset`, it is passed directly to a data loader."
      ]
    },
    {
      "cell_type": "code",
      "execution_count": null,
      "id": "c60b1e3f",
      "metadata": {
        "id": "c60b1e3f"
      },
      "outputs": [],
      "source": [
        "hit_dm = SimpleDataModule(hit_train,\n",
        "                          hit_test,\n",
        "                          batch_size=32,\n",
        "                          num_workers=min(4, max_num_workers),\n",
        "                          validation=hit_test)\n"
      ]
    },
    {
      "cell_type": "markdown",
      "id": "9e5f527d",
      "metadata": {
        "id": "9e5f527d"
      },
      "source": [
        "Next we must provide a `pytorch_lightning` module that controls\n",
        "the steps performed during the training process. We provide methods for our\n",
        "`SimpleModule()` that simply record the value\n",
        "of the loss function and any additional\n",
        "metrics at the end of each epoch. These operations\n",
        "are controlled by the methods `SimpleModule.[training/test/validation]_step()`, though\n",
        "we will not be modifying these in our examples."
      ]
    },
    {
      "cell_type": "code",
      "execution_count": null,
      "id": "916cfd66",
      "metadata": {
        "id": "916cfd66"
      },
      "outputs": [],
      "source": [
        "hit_module = SimpleModule.regression(hit_model,\n",
        "                           metrics={'mae':MeanAbsoluteError()})\n"
      ]
    },
    {
      "cell_type": "markdown",
      "id": "cf7f2d1b",
      "metadata": {
        "id": "cf7f2d1b"
      },
      "source": [
        " By using the `SimpleModule.regression()` method,  we indicate that we will use squared-error loss as in\n",
        "(\\ref{Ch13:eq:4}).\n",
        "We have also asked for mean absolute error to be tracked as well\n",
        "in the metrics that are logged.\n",
        "\n",
        "We log our results via `CSVLogger()`, which in this case stores the results in a CSV file within a directory `logs/hitters`. After the fitting is complete, this allows us to load the\n",
        "results as a `pd.DataFrame()` and visualize them below. There are\n",
        "several ways to log the results within `pytorch_lightning`, though\n",
        "we will not cover those here in detail."
      ]
    },
    {
      "cell_type": "code",
      "execution_count": null,
      "id": "44a44fb1",
      "metadata": {
        "id": "44a44fb1"
      },
      "outputs": [],
      "source": [
        "hit_logger = CSVLogger('logs', name='hitters')"
      ]
    },
    {
      "cell_type": "markdown",
      "id": "f37f19f0",
      "metadata": {
        "id": "f37f19f0"
      },
      "source": [
        "Finally we are ready to train our model and log the results. We\n",
        "use the `Trainer()` object from `pytorch_lightning`\n",
        "to do this work. The argument `datamodule=hit_dm` tells the trainer\n",
        "how training/validation/test logs are produced,\n",
        "while the first argument `hit_module`\n",
        "specifies the network architecture\n",
        "as well as the training/validation/test steps.\n",
        "The `callbacks` argument allows for\n",
        "several tasks to be carried out at various\n",
        "points while training a model. Here\n",
        "our `ErrorTracker()` callback will enable\n",
        "us to compute validation error while training\n",
        "and, finally, the test error.\n",
        "We now fit the model for 50 epochs."
      ]
    },
    {
      "cell_type": "code",
      "execution_count": null,
      "id": "8e91122a",
      "metadata": {
        "lines_to_next_cell": 0,
        "id": "8e91122a"
      },
      "outputs": [],
      "source": [
        "hit_trainer = Trainer(deterministic=True,\n",
        "                      max_epochs=50,\n",
        "                      log_every_n_steps=5,\n",
        "                      logger=hit_logger,\n",
        "                      callbacks=[ErrorTracker()])\n",
        "hit_trainer.fit(hit_module, datamodule=hit_dm)"
      ]
    },
    {
      "cell_type": "markdown",
      "id": "67e67f2d",
      "metadata": {
        "id": "67e67f2d"
      },
      "source": [
        "At each step of SGD, the algorithm randomly selects 32 training observations for\n",
        "the computation of the gradient. Recall from Section~\\ref{Ch13:sec:fitt-neur-netw}\n",
        "that an epoch amounts to the number of SGD steps required to process $n$\n",
        "observations. Since the training set has\n",
        "$n=175$, and we specified a `batch_size` of 32 in the construction of  `hit_dm`, an epoch is $175/32=5.5$ SGD steps.\n",
        "\n",
        "After having fit the model, we can evaluate performance on our test\n",
        "data using the `test()` method of our trainer."
      ]
    },
    {
      "cell_type": "code",
      "execution_count": null,
      "id": "e6012d1f",
      "metadata": {
        "lines_to_next_cell": 2,
        "id": "e6012d1f"
      },
      "outputs": [],
      "source": [
        "hit_trainer.test(hit_module, datamodule=hit_dm)\n"
      ]
    },
    {
      "cell_type": "markdown",
      "id": "88fcc245",
      "metadata": {
        "id": "88fcc245"
      },
      "source": [
        "The results of the fit have been logged into a CSV file. We can find the\n",
        "results specific to this run in the `experiment.metrics_file_path`\n",
        "attribute of our logger. Note that each time the model is fit, the logger will output\n",
        "results into a new subdirectory of our directory `logs/hitters`.\n",
        "\n",
        "We now create a plot of the MAE (mean absolute error) as a function of\n",
        "the number of epochs.\n",
        "First we retrieve the logged summaries."
      ]
    },
    {
      "cell_type": "code",
      "execution_count": null,
      "id": "48313d02",
      "metadata": {
        "id": "48313d02"
      },
      "outputs": [],
      "source": [
        "hit_results = pd.read_csv(hit_logger.experiment.metrics_file_path)"
      ]
    },
    {
      "cell_type": "markdown",
      "id": "b3be9d88",
      "metadata": {
        "id": "b3be9d88"
      },
      "source": [
        "Since we will produce similar plots in later examples, we write a\n",
        "simple generic function to produce this plot."
      ]
    },
    {
      "cell_type": "code",
      "execution_count": null,
      "id": "4f9ccf9b",
      "metadata": {
        "lines_to_next_cell": 0,
        "id": "4f9ccf9b"
      },
      "outputs": [],
      "source": [
        "def summary_plot(results,\n",
        "                 ax,\n",
        "                 col='loss',\n",
        "                 valid_legend='Validation',\n",
        "                 training_legend='Training',\n",
        "                 ylabel='Loss',\n",
        "                 fontsize=20):\n",
        "    for (column,\n",
        "         color,\n",
        "         label) in zip([f'train_{col}_epoch',\n",
        "                        f'valid_{col}'],\n",
        "                       ['black',\n",
        "                        'red'],\n",
        "                       [training_legend,\n",
        "                        valid_legend]):\n",
        "        results.plot(x='epoch',\n",
        "                     y=column,\n",
        "                     label=label,\n",
        "                     marker='o',\n",
        "                     color=color,\n",
        "                     ax=ax)\n",
        "    ax.set_xlabel('Epoch')\n",
        "    ax.set_ylabel(ylabel)\n",
        "    return ax"
      ]
    },
    {
      "cell_type": "markdown",
      "id": "6b080cf1",
      "metadata": {
        "id": "6b080cf1"
      },
      "source": [
        "We now set up our axes, and use our function to produce the MAE plot."
      ]
    },
    {
      "cell_type": "code",
      "execution_count": null,
      "id": "3d77370a",
      "metadata": {
        "lines_to_next_cell": 2,
        "id": "3d77370a"
      },
      "outputs": [],
      "source": [
        "fig, ax = subplots(1, 1, figsize=(6, 6))\n",
        "ax = summary_plot(hit_results,\n",
        "                  ax,\n",
        "                  col='mae',\n",
        "                  ylabel='MAE',\n",
        "                  valid_legend='Validation (=Test)')\n",
        "ax.set_ylim([0, 400])\n",
        "ax.set_xticks(np.linspace(0, 50, 11).astype(int));"
      ]
    },
    {
      "cell_type": "markdown",
      "id": "ac0b2b37",
      "metadata": {
        "id": "ac0b2b37"
      },
      "source": [
        "We can predict directly from the final model, and\n",
        "evaluate its performance on the test data.\n",
        "Before fitting, we call the `eval()` method\n",
        "of `hit_model`.\n",
        "This tells\n",
        "`torch` to effectively consider this model to be fitted, so that\n",
        "we can use it to predict on new data. For our model here,\n",
        "the biggest change is that the dropout layers will\n",
        "be turned off, i.e. no weights will be randomly\n",
        "dropped in predicting on new data."
      ]
    },
    {
      "cell_type": "code",
      "execution_count": null,
      "id": "e6a48733",
      "metadata": {
        "lines_to_next_cell": 0,
        "id": "e6a48733"
      },
      "outputs": [],
      "source": [
        "hit_model.eval()\n",
        "preds = hit_module(X_test_t)\n",
        "torch.abs(Y_test_t - preds).mean()"
      ]
    },
    {
      "cell_type": "markdown",
      "id": "a24663bc",
      "metadata": {
        "id": "a24663bc"
      },
      "source": [
        "    "
      ]
    },
    {
      "cell_type": "markdown",
      "id": "b51594bb",
      "metadata": {
        "id": "b51594bb"
      },
      "source": [
        "### Cleanup\n",
        "In setting up our data module, we had initiated\n",
        "several worker processes that will remain running.\n",
        "We delete all references to the torch objects to ensure these processes\n",
        "will be killed.\n",
        ""
      ]
    },
    {
      "cell_type": "code",
      "execution_count": null,
      "id": "78ca542d",
      "metadata": {
        "lines_to_next_cell": 2,
        "id": "78ca542d"
      },
      "outputs": [],
      "source": [
        "del(Hitters,\n",
        "    hit_model, hit_dm,\n",
        "    hit_logger,\n",
        "    hit_test, hit_train,\n",
        "    X, Y,\n",
        "    X_test, X_train,\n",
        "    Y_test, Y_train,\n",
        "    X_test_t, Y_test_t,\n",
        "    hit_trainer, hit_module)\n"
      ]
    },
    {
      "cell_type": "markdown",
      "id": "42547131",
      "metadata": {
        "id": "42547131"
      },
      "source": [
        "## Multilayer Network on the MNIST Digit Data\n",
        "The `torchvision` package comes with a number of example datasets,\n",
        "including the `MNIST`  digit data. Our first step is to retrieve\n",
        "the training and test data sets; the `MNIST()` function within\n",
        "`torchvision.datasets` is provided for this purpose. The\n",
        "data will be downloaded the first time this function is executed, and stored in the directory `data/MNIST`."
      ]
    },
    {
      "cell_type": "code",
      "execution_count": null,
      "id": "7a6d7416",
      "metadata": {
        "id": "7a6d7416"
      },
      "outputs": [],
      "source": [
        "(mnist_train,\n",
        " mnist_test) = [MNIST(root='data',\n",
        "                      train=train,\n",
        "                      download=True,\n",
        "                      transform=ToTensor())\n",
        "                for train in [True, False]]\n",
        "mnist_train\n"
      ]
    },
    {
      "cell_type": "markdown",
      "id": "23bf4a88",
      "metadata": {
        "id": "23bf4a88"
      },
      "source": [
        "There are 60,000 images in the training data and 10,000 in the test\n",
        "data. The images are $28\\times 28$, and stored as a matrix of pixels. We\n",
        "need to transform each one into a vector.\n",
        "\n",
        "Neural networks are somewhat sensitive to the scale of the inputs, much as ridge and\n",
        "lasso regularization are affected by scaling.  Here the inputs are eight-bit\n",
        "grayscale values between 0 and 255, so we rescale to the unit\n",
        "interval. {Note: eight bits means $2^8$, which equals 256. Since the convention\n",
        "is to start at $0$, the possible values  range from $0$ to $255$.}\n",
        "This transformation, along with some reordering\n",
        "of the axes, is performed by the `ToTensor()` transform\n",
        "from the `torchvision.transforms` package.\n",
        "\n",
        "As in our `Hitters` example, we form a data module\n",
        "from the training and test datasets, setting aside 20%\n",
        "of the training images for validation."
      ]
    },
    {
      "cell_type": "code",
      "execution_count": null,
      "id": "e6c5e82c",
      "metadata": {
        "id": "e6c5e82c"
      },
      "outputs": [],
      "source": [
        "mnist_dm = SimpleDataModule(mnist_train,\n",
        "                            mnist_test,\n",
        "                            validation=0.2,\n",
        "                            num_workers=max_num_workers,\n",
        "                            batch_size=256)\n"
      ]
    },
    {
      "cell_type": "markdown",
      "id": "73614d27",
      "metadata": {
        "id": "73614d27"
      },
      "source": [
        "Let’s take a look at the data that will get fed into our network. We loop through the first few\n",
        "chunks of the test dataset, breaking after 2 batches:"
      ]
    },
    {
      "cell_type": "code",
      "execution_count": null,
      "id": "6ecf940c",
      "metadata": {
        "lines_to_next_cell": 2,
        "id": "6ecf940c"
      },
      "outputs": [],
      "source": [
        "for idx, (X_ ,Y_) in enumerate(mnist_dm.train_dataloader()):\n",
        "    print('X: ', X_.shape)\n",
        "    print('Y: ', Y_.shape)\n",
        "    if idx >= 1:\n",
        "        break\n"
      ]
    },
    {
      "cell_type": "markdown",
      "id": "6e0b2d96",
      "metadata": {
        "id": "6e0b2d96"
      },
      "source": [
        "We see that the $X$ for each batch consists of 256 images of size `1x28x28`.\n",
        "Here the `1` indicates a single channel (greyscale). For RGB images such as `CIFAR100` below,\n",
        "we will see that the `1` in the size will be replaced by `3` for the three RGB channels.\n",
        "\n",
        "Now we are ready to specify our neural network."
      ]
    },
    {
      "cell_type": "code",
      "execution_count": null,
      "id": "f4c49bab",
      "metadata": {
        "id": "f4c49bab"
      },
      "outputs": [],
      "source": [
        "class MNISTModel(nn.Module):\n",
        "    def __init__(self):\n",
        "        super(MNISTModel, self).__init__()\n",
        "        self.layer1 = nn.Sequential(\n",
        "            nn.Flatten(),\n",
        "            nn.Linear(28*28, 256),\n",
        "            nn.ReLU(),\n",
        "            nn.Dropout(0.4))\n",
        "        self.layer2 = nn.Sequential(\n",
        "            nn.Linear(256, 128),\n",
        "            nn.ReLU(),\n",
        "            nn.Dropout(0.3))\n",
        "        self._forward = nn.Sequential(\n",
        "            self.layer1,\n",
        "            self.layer2,\n",
        "            nn.Linear(128, 10))\n",
        "    def forward(self, x):\n",
        "        return self._forward(x)"
      ]
    },
    {
      "cell_type": "markdown",
      "id": "7e25c568",
      "metadata": {
        "id": "7e25c568"
      },
      "source": [
        "We see that in the first layer, each `1x28x28` image is flattened, then mapped to\n",
        "256 dimensions where we apply a ReLU activation with 40% dropout.\n",
        "A second layer maps the first layer’s output down to\n",
        "128 dimensions, applying a ReLU activation with 30% dropout. Finally,\n",
        "the 128 dimensions are mapped down to 10, the number of classes in the\n",
        "`MNIST`  data."
      ]
    },
    {
      "cell_type": "code",
      "execution_count": null,
      "id": "8dd2770f",
      "metadata": {
        "id": "8dd2770f"
      },
      "outputs": [],
      "source": [
        "mnist_model = MNISTModel()\n"
      ]
    },
    {
      "cell_type": "markdown",
      "id": "3d0e8c1b",
      "metadata": {
        "id": "3d0e8c1b"
      },
      "source": [
        "We can check that the model produces output of expected size based\n",
        "on our existing batch `X_` above."
      ]
    },
    {
      "cell_type": "code",
      "execution_count": null,
      "id": "c916312b",
      "metadata": {
        "id": "c916312b"
      },
      "outputs": [],
      "source": [
        "mnist_model(X_).size()"
      ]
    },
    {
      "cell_type": "markdown",
      "id": "a3158809",
      "metadata": {
        "id": "a3158809"
      },
      "source": [
        "Let’s take a look at the summary of the model. Instead of an `input_size` we can pass\n",
        "a tensor of correct shape. In this case, we pass through the final\n",
        "batched `X_` from above."
      ]
    },
    {
      "cell_type": "code",
      "execution_count": null,
      "id": "54a6b6b2",
      "metadata": {
        "id": "54a6b6b2"
      },
      "outputs": [],
      "source": [
        "summary(mnist_model,\n",
        "        input_data=X_,\n",
        "        col_names=['input_size',\n",
        "                   'output_size',\n",
        "                   'num_params'])"
      ]
    },
    {
      "cell_type": "markdown",
      "id": "e76a07df",
      "metadata": {
        "id": "e76a07df"
      },
      "source": [
        "Having set up both  the model and the data module, fitting this model is\n",
        "now almost identical to the `Hitters` example. In contrast to our regression model, here we will use the\n",
        "`SimpleModule.classification()` method which\n",
        "uses the  cross-entropy loss function instead of mean squared error. It must be supplied with the number of\n",
        "classes in the problem."
      ]
    },
    {
      "cell_type": "code",
      "execution_count": null,
      "id": "c1fa96fd",
      "metadata": {
        "id": "c1fa96fd"
      },
      "outputs": [],
      "source": [
        "mnist_module = SimpleModule.classification(mnist_model,\n",
        "                                           num_classes=10)\n",
        "mnist_logger = CSVLogger('logs', name='MNIST')\n"
      ]
    },
    {
      "cell_type": "markdown",
      "id": "106c0f38",
      "metadata": {
        "id": "106c0f38"
      },
      "source": [
        "Now we are ready to go. The final step is to supply training data, and fit the model. We disable the progress bar below to avoid lengthy output in the browser when running."
      ]
    },
    {
      "cell_type": "code",
      "execution_count": null,
      "id": "25515af7",
      "metadata": {
        "lines_to_next_cell": 0,
        "id": "25515af7"
      },
      "outputs": [],
      "source": [
        "mnist_trainer = Trainer(deterministic=True,\n",
        "                        max_epochs=30,\n",
        "                        logger=mnist_logger,\n",
        "                        enable_progress_bar=False,\n",
        "                        callbacks=[ErrorTracker()])\n",
        "mnist_trainer.fit(mnist_module,\n",
        "                  datamodule=mnist_dm)\n"
      ]
    },
    {
      "cell_type": "markdown",
      "id": "0e12d8c7",
      "metadata": {
        "id": "0e12d8c7"
      },
      "source": [
        "We have suppressed the output here, which is a progress report on the\n",
        "fitting of the model, grouped by epoch. This is very useful, since on\n",
        "large datasets fitting can take time. Fitting this model took 245\n",
        "seconds on a MacBook Pro with an Apple M1 Pro chip with 10 cores and 16 GB of RAM.\n",
        "Here we specified a\n",
        "validation split of 20%, so training is actually performed on\n",
        "80% of the 60,000 observations in the training set. This is an\n",
        "alternative to actually supplying validation data, like we did for the `Hitters` data.\n",
        "SGD  uses batches\n",
        "of 256 observations in computing the gradient, and doing the\n",
        "arithmetic, we see that an epoch corresponds to 188 gradient steps."
      ]
    },
    {
      "cell_type": "markdown",
      "id": "eb25107e",
      "metadata": {
        "id": "eb25107e"
      },
      "source": [
        "`SimpleModule.classification()` includes\n",
        "an accuracy metric by default. Other\n",
        "classification metrics can be added from `torchmetrics`.\n",
        "We will use  our `summary_plot()` function to display\n",
        "accuracy across epochs."
      ]
    },
    {
      "cell_type": "code",
      "execution_count": null,
      "id": "872fed35",
      "metadata": {
        "lines_to_next_cell": 0,
        "id": "872fed35"
      },
      "outputs": [],
      "source": [
        "mnist_results = pd.read_csv(mnist_logger.experiment.metrics_file_path)\n",
        "fig, ax = subplots(1, 1, figsize=(6, 6))\n",
        "summary_plot(mnist_results,\n",
        "             ax,\n",
        "             col='accuracy',\n",
        "             ylabel='Accuracy')\n",
        "ax.set_ylim([0.5, 1])\n",
        "ax.set_ylabel('Accuracy')\n",
        "ax.set_xticks(np.linspace(0, 30, 7).astype(int));\n"
      ]
    },
    {
      "cell_type": "markdown",
      "id": "5e1c8d5c",
      "metadata": {
        "id": "5e1c8d5c"
      },
      "source": [
        "Once again we evaluate the accuracy using the `test()` method of our trainer. This model achieves\n",
        "97% accuracy on the test data."
      ]
    },
    {
      "cell_type": "code",
      "execution_count": null,
      "id": "4551c956",
      "metadata": {
        "id": "4551c956"
      },
      "outputs": [],
      "source": [
        "mnist_trainer.test(mnist_module,\n",
        "                   datamodule=mnist_dm)"
      ]
    },
    {
      "cell_type": "markdown",
      "id": "1b0c0bd0",
      "metadata": {
        "id": "1b0c0bd0"
      },
      "source": [
        "Table~\\ref{Ch13:tab:mnist} also reports the error rates resulting from LDA (Chapter~\\ref{Ch4:classification}) and multiclass logistic\n",
        "regression. For LDA we refer the reader to Section~\\ref{Ch4-classification-lab:linear-discriminant-analysis}.\n",
        "Although we could use the `sklearn` function `LogisticRegression()` to fit  \n",
        "multiclass logistic regression, we are set up here to fit such a model\n",
        "with `torch`.\n",
        "We just have an input layer and an output layer, and omit the hidden layers!"
      ]
    },
    {
      "cell_type": "code",
      "execution_count": null,
      "id": "cbf4d0d2",
      "metadata": {
        "id": "cbf4d0d2"
      },
      "outputs": [],
      "source": [
        "class MNIST_MLR(nn.Module):\n",
        "    def __init__(self):\n",
        "        super(MNIST_MLR, self).__init__()\n",
        "        self.linear = nn.Sequential(nn.Flatten(),\n",
        "                                    nn.Linear(784, 10))\n",
        "    def forward(self, x):\n",
        "        return self.linear(x)\n",
        "\n",
        "mlr_model = MNIST_MLR()\n",
        "mlr_module = SimpleModule.classification(mlr_model,\n",
        "                                         num_classes=10)\n",
        "mlr_logger = CSVLogger('logs', name='MNIST_MLR')"
      ]
    },
    {
      "cell_type": "code",
      "execution_count": null,
      "id": "6ff23014",
      "metadata": {
        "lines_to_next_cell": 0,
        "id": "6ff23014"
      },
      "outputs": [],
      "source": [
        "mlr_trainer = Trainer(deterministic=True,\n",
        "                      max_epochs=30,\n",
        "                      enable_progress_bar=False,\n",
        "                      callbacks=[ErrorTracker()])\n",
        "mlr_trainer.fit(mlr_module, datamodule=mnist_dm)"
      ]
    },
    {
      "cell_type": "markdown",
      "id": "f8368ac1",
      "metadata": {
        "id": "f8368ac1"
      },
      "source": [
        "We fit the model just as before and compute the test results."
      ]
    },
    {
      "cell_type": "code",
      "execution_count": null,
      "id": "ca159ef2",
      "metadata": {
        "lines_to_next_cell": 0,
        "id": "ca159ef2"
      },
      "outputs": [],
      "source": [
        "mlr_trainer.test(mlr_module,\n",
        "                 datamodule=mnist_dm)"
      ]
    },
    {
      "cell_type": "markdown",
      "id": "2be94ca6",
      "metadata": {
        "id": "2be94ca6"
      },
      "source": [
        "The accuracy is above 90% even for this pretty simple model.\n",
        "\n",
        "As in the `Hitters` example, we delete some of\n",
        "the objects we created above."
      ]
    },
    {
      "cell_type": "code",
      "execution_count": null,
      "id": "5842c930",
      "metadata": {
        "lines_to_next_cell": 2,
        "id": "5842c930"
      },
      "outputs": [],
      "source": [
        "del(mnist_test,\n",
        "    mnist_train,\n",
        "    mnist_model,\n",
        "    mnist_dm,\n",
        "    mnist_trainer,\n",
        "    mnist_module,\n",
        "    mnist_results,\n",
        "    mlr_model,\n",
        "    mlr_module,\n",
        "    mlr_trainer)"
      ]
    },
    {
      "cell_type": "markdown",
      "id": "cd9e98b5",
      "metadata": {
        "id": "cd9e98b5"
      },
      "source": [
        "## Convolutional Neural Networks\n",
        "In this section we fit a CNN to the `CIFAR100` data, which is available in the `torchvision`\n",
        "package. It is arranged in a similar fashion as the `MNIST` data."
      ]
    },
    {
      "cell_type": "code",
      "execution_count": null,
      "id": "cb406355",
      "metadata": {
        "id": "cb406355"
      },
      "outputs": [],
      "source": [
        "(cifar_train,\n",
        " cifar_test) = [CIFAR100(root=\"data\",\n",
        "                         train=train,\n",
        "                         download=True)\n",
        "             for train in [True, False]]"
      ]
    },
    {
      "cell_type": "code",
      "execution_count": null,
      "id": "8dcd79cc",
      "metadata": {
        "id": "8dcd79cc"
      },
      "outputs": [],
      "source": [
        "transform = ToTensor()\n",
        "cifar_train_X = torch.stack([transform(x) for x in\n",
        "                            cifar_train.data])\n",
        "cifar_test_X = torch.stack([transform(x) for x in\n",
        "                            cifar_test.data])\n",
        "cifar_train = TensorDataset(cifar_train_X,\n",
        "                            torch.tensor(cifar_train.targets))\n",
        "cifar_test = TensorDataset(cifar_test_X,\n",
        "                            torch.tensor(cifar_test.targets))"
      ]
    },
    {
      "cell_type": "markdown",
      "id": "81f4ea20",
      "metadata": {
        "id": "81f4ea20"
      },
      "source": [
        "The `CIFAR100` dataset consists of 50,000 training images, each represented by a three-dimensional tensor:\n",
        "each three-color image is represented as a set of three channels, each of which consists of\n",
        "$32\\times 32$ eight-bit pixels. We standardize as we did for the\n",
        "digits, but keep the array structure. This is accomplished with the `ToTensor()` transform.\n",
        "\n",
        "Creating the data module is similar to the `MNIST`  example."
      ]
    },
    {
      "cell_type": "code",
      "execution_count": null,
      "id": "6980303a",
      "metadata": {
        "lines_to_next_cell": 0,
        "id": "6980303a"
      },
      "outputs": [],
      "source": [
        "cifar_dm = SimpleDataModule(cifar_train,\n",
        "                            cifar_test,\n",
        "                            validation=0.2,\n",
        "                            num_workers=max_num_workers,\n",
        "                            batch_size=128)\n"
      ]
    },
    {
      "cell_type": "markdown",
      "id": "6b9e007c",
      "metadata": {
        "id": "6b9e007c"
      },
      "source": [
        "We again look at the shape of typical batches in our data loaders."
      ]
    },
    {
      "cell_type": "code",
      "execution_count": null,
      "id": "401888c7",
      "metadata": {
        "lines_to_next_cell": 2,
        "id": "401888c7"
      },
      "outputs": [],
      "source": [
        "for idx, (X_ ,Y_) in enumerate(cifar_dm.train_dataloader()):\n",
        "    print('X: ', X_.shape)\n",
        "    print('Y: ', Y_.shape)\n",
        "    if idx >= 1:\n",
        "        break\n"
      ]
    },
    {
      "cell_type": "markdown",
      "id": "82438c30",
      "metadata": {
        "id": "82438c30"
      },
      "source": [
        "Before we start, we look at some of the training images; similar code produced\n",
        "Figure~\\ref{Ch13:fig:cifar100} on page \\pageref{Ch13:fig:cifar100}. The example below also illustrates\n",
        "that `TensorDataset` objects can be indexed with integers --- we are choosing\n",
        "random images from the training data by indexing `cifar_train`. In order to display correctly,\n",
        "we must reorder the dimensions by a call to `np.transpose()`."
      ]
    },
    {
      "cell_type": "code",
      "execution_count": null,
      "id": "56090846",
      "metadata": {
        "lines_to_next_cell": 0,
        "id": "56090846"
      },
      "outputs": [],
      "source": [
        "fig, axes = subplots(5, 5, figsize=(10,10))\n",
        "rng = np.random.default_rng(4)\n",
        "indices = rng.choice(np.arange(len(cifar_train)), 25,\n",
        "                     replace=False).reshape((5,5))\n",
        "for i in range(5):\n",
        "    for j in range(5):\n",
        "        idx = indices[i,j]\n",
        "        axes[i,j].imshow(np.transpose(cifar_train[idx][0],\n",
        "                                      [1,2,0]),\n",
        "                                      interpolation=None)\n",
        "        axes[i,j].set_xticks([])\n",
        "        axes[i,j].set_yticks([])\n"
      ]
    },
    {
      "cell_type": "markdown",
      "id": "333dca34",
      "metadata": {
        "id": "333dca34"
      },
      "source": [
        "Here the `imshow()` method recognizes from the shape of its argument that it is a 3-dimensional array, with the last dimension indexing the three RGB color channels.\n",
        "\n",
        "We specify a moderately-sized  CNN for\n",
        "demonstration purposes, similar in structure to Figure~\\ref{Ch13:fig:DeepCNN}.\n",
        "We use several layers, each consisting of  convolution, ReLU, and max-pooling steps.\n",
        "We first define a module that defines one of these layers. As in our\n",
        "previous examples, we overwrite the `__init__()` and `forward()` methods\n",
        "of `nn.Module`. This user-defined  module can now be used in ways just like\n",
        "`nn.Linear()` or `nn.Dropout()`."
      ]
    },
    {
      "cell_type": "code",
      "execution_count": null,
      "id": "8c0567d9",
      "metadata": {
        "id": "8c0567d9"
      },
      "outputs": [],
      "source": [
        "class BuildingBlock(nn.Module):\n",
        "\n",
        "    def __init__(self,\n",
        "                 in_channels,\n",
        "                 out_channels):\n",
        "\n",
        "        super(BuildingBlock, self).__init__()\n",
        "        self.conv = nn.Conv2d(in_channels=in_channels,\n",
        "                              out_channels=out_channels,\n",
        "                              kernel_size=(3,3),\n",
        "                              padding='same')\n",
        "        self.activation = nn.ReLU()\n",
        "        self.pool = nn.MaxPool2d(kernel_size=(2,2))\n",
        "\n",
        "    def forward(self, x):\n",
        "        return self.pool(self.activation(self.conv(x)))\n"
      ]
    },
    {
      "cell_type": "markdown",
      "id": "25956312",
      "metadata": {
        "id": "25956312"
      },
      "source": [
        "Notice that we used the `padding = \"same\"` argument to\n",
        "`nn.Conv2d()`, which ensures that the output channels have the\n",
        "same dimension as the input channels. There are 32 channels in the first\n",
        "hidden layer, in contrast to the three channels in the input layer. We\n",
        "use a $3\\times 3$ convolution filter for each channel in all the layers. Each\n",
        "convolution is followed by a max-pooling layer over $2\\times2$\n",
        "blocks.\n",
        "\n",
        "In forming our deep learning model for the `CIFAR100` data, we use several of our `BuildingBlock()`\n",
        "modules sequentially. This simple example\n",
        "illustrates some of the power of `torch`. Users can\n",
        "define modules of their own, which can be combined in other\n",
        "modules. Ultimately, everything is fit by a generic trainer."
      ]
    },
    {
      "cell_type": "code",
      "execution_count": null,
      "id": "e4d3eb9a",
      "metadata": {
        "id": "e4d3eb9a"
      },
      "outputs": [],
      "source": [
        "class CIFARModel(nn.Module):\n",
        "\n",
        "    def __init__(self):\n",
        "        super(CIFARModel, self).__init__()\n",
        "        sizes = [(3,32),\n",
        "                 (32,64),\n",
        "                 (64,128),\n",
        "                 (128,256)]\n",
        "        self.conv = nn.Sequential(*[BuildingBlock(in_, out_)\n",
        "                                    for in_, out_ in sizes])\n",
        "\n",
        "        self.output = nn.Sequential(nn.Dropout(0.5),\n",
        "                                    nn.Linear(2*2*256, 512),\n",
        "                                    nn.ReLU(),\n",
        "                                    nn.Linear(512, 100))\n",
        "    def forward(self, x):\n",
        "        val = self.conv(x)\n",
        "        val = torch.flatten(val, start_dim=1)\n",
        "        return self.output(val)\n"
      ]
    },
    {
      "cell_type": "markdown",
      "id": "2cf81883",
      "metadata": {
        "id": "2cf81883"
      },
      "source": [
        "We  build the model and look at the summary. (We had created examples of `X_` earlier.)"
      ]
    },
    {
      "cell_type": "code",
      "execution_count": null,
      "id": "5ff4e0a5",
      "metadata": {
        "lines_to_next_cell": 2,
        "id": "5ff4e0a5"
      },
      "outputs": [],
      "source": [
        "cifar_model = CIFARModel()\n",
        "summary(cifar_model,\n",
        "        input_data=X_,\n",
        "        col_names=['input_size',\n",
        "                   'output_size',\n",
        "                   'num_params'])"
      ]
    },
    {
      "cell_type": "markdown",
      "id": "2125ae4a",
      "metadata": {
        "id": "2125ae4a"
      },
      "source": [
        "The total number of trainable parameters is 964,516.\n",
        "By studying the size of the parameters, we can see that the channels halve in both\n",
        "dimensions\n",
        "after each of these max-pooling operations. After the last of these we\n",
        "have a layer with  256 channels of dimension $2\\times 2$. These are then\n",
        "flattened to a dense layer of size 1,024;\n",
        "in other words, each of the $2\\times 2$ matrices is turned into a\n",
        "$4$-vector, and put side-by-side in one layer. This is followed by a\n",
        "dropout regularization layer,  then\n",
        "another dense layer of size 512, and finally, the\n",
        "output layer.\n",
        "\n",
        "Up to now, we have been using a default\n",
        "optimizer in `SimpleModule()`. For these data,\n",
        "experiments show that a smaller learning rate performs\n",
        "better than the default 0.01. We use a\n",
        "custom optimizer here with a learning rate of 0.001.\n",
        "Besides this, the logging and training\n",
        "follow a similar pattern to our previous examples. The optimizer\n",
        "takes an argument `params` that informs\n",
        "the optimizer which parameters are involved in SGD (stochastic gradient descent).\n",
        "\n",
        "We saw earlier that entries of a module’s parameters are tensors. In passing\n",
        "the parameters to the optimizer we are doing more than\n",
        "simply passing arrays; part of the structure of the graph\n",
        "is encoded in the tensors themselves."
      ]
    },
    {
      "cell_type": "code",
      "execution_count": null,
      "id": "ab9d9080",
      "metadata": {
        "id": "ab9d9080"
      },
      "outputs": [],
      "source": [
        "cifar_optimizer = RMSprop(cifar_model.parameters(), lr=0.001)\n",
        "cifar_module = SimpleModule.classification(cifar_model,\n",
        "                                    num_classes=100,\n",
        "                                    optimizer=cifar_optimizer)\n",
        "cifar_logger = CSVLogger('logs', name='CIFAR100')\n"
      ]
    },
    {
      "cell_type": "code",
      "execution_count": null,
      "id": "5a86b37d",
      "metadata": {
        "id": "5a86b37d"
      },
      "outputs": [],
      "source": [
        "cifar_trainer = Trainer(deterministic=True,\n",
        "                        max_epochs=30,\n",
        "                        logger=cifar_logger,\n",
        "                        enable_progress_bar=False,\n",
        "                        callbacks=[ErrorTracker()])\n",
        "cifar_trainer.fit(cifar_module,\n",
        "                  datamodule=cifar_dm)\n"
      ]
    },
    {
      "cell_type": "markdown",
      "id": "00c6668f",
      "metadata": {
        "id": "00c6668f"
      },
      "source": [
        "This model can take 10 minutes or more to run and achieves about 42% accuracy on the test\n",
        "data. Although this is not terrible for 100-class data (a random\n",
        "classifier gets 1% accuracy), searching the web we see results around\n",
        "75%. Typically it takes a lot of architecture carpentry,\n",
        "fiddling with regularization, and time, to achieve such results.\n",
        "\n",
        "Let’s take a look at the validation and training accuracy\n",
        "across epochs."
      ]
    },
    {
      "cell_type": "code",
      "execution_count": null,
      "id": "9cf596b4",
      "metadata": {
        "lines_to_next_cell": 0,
        "id": "9cf596b4"
      },
      "outputs": [],
      "source": [
        "log_path = cifar_logger.experiment.metrics_file_path\n",
        "cifar_results = pd.read_csv(log_path)\n",
        "fig, ax = subplots(1, 1, figsize=(6, 6))\n",
        "summary_plot(cifar_results,\n",
        "             ax,\n",
        "             col='accuracy',\n",
        "             ylabel='Accuracy')\n",
        "ax.set_xticks(np.linspace(0, 10, 6).astype(int))\n",
        "ax.set_ylabel('Accuracy')\n",
        "ax.set_ylim([0, 1]);"
      ]
    },
    {
      "cell_type": "markdown",
      "id": "c3e4a8bb",
      "metadata": {
        "id": "c3e4a8bb"
      },
      "source": [
        "Finally, we evaluate our model on our test data."
      ]
    },
    {
      "cell_type": "code",
      "execution_count": null,
      "id": "0f5ad9bb",
      "metadata": {
        "lines_to_next_cell": 2,
        "id": "0f5ad9bb"
      },
      "outputs": [],
      "source": [
        "cifar_trainer.test(cifar_module,\n",
        "                   datamodule=cifar_dm)\n"
      ]
    },
    {
      "cell_type": "markdown",
      "id": "ed52c614",
      "metadata": {
        "id": "ed52c614"
      },
      "source": [
        "### Hardware Acceleration\n",
        "As deep learning has become ubiquitous in machine learning, hardware\n",
        "manufacturers have produced special libraries that can\n",
        "often speed up the gradient-descent steps.\n",
        "\n",
        "For instance, Mac OS devices with the M1 chip may have the *Metal* programming framework\n",
        "enabled, which can speed up the  `torch`\n",
        "computations. We present an example of how to use this acceleration.\n",
        "\n",
        "The main changes are to the `Trainer()` call as well as to the metrics\n",
        "that will be evaluated on the data. These metrics must be told  where\n",
        "the data will be located at evaluation time. This is\n",
        "accomplished with a call to the `to()` method of the metrics."
      ]
    },
    {
      "cell_type": "code",
      "execution_count": null,
      "id": "e763b4c4",
      "metadata": {
        "lines_to_next_cell": 0,
        "id": "e763b4c4"
      },
      "outputs": [],
      "source": [
        "try:\n",
        "    for name, metric in cifar_module.metrics.items():\n",
        "        cifar_module.metrics[name] = metric.to('mps')\n",
        "    cifar_trainer_mps = Trainer(accelerator='mps',\n",
        "                                deterministic=True,\n",
        "                                enable_progress_bar=False,\n",
        "                                max_epochs=30)\n",
        "    cifar_trainer_mps.fit(cifar_module,\n",
        "                          datamodule=cifar_dm)\n",
        "    cifar_trainer_mps.test(cifar_module,\n",
        "                          datamodule=cifar_dm)\n",
        "except:\n",
        "    pass"
      ]
    },
    {
      "cell_type": "markdown",
      "id": "14791a8f",
      "metadata": {
        "id": "14791a8f"
      },
      "source": [
        "This yields approximately two- or three-fold  acceleration for each epoch.\n",
        "We have protected this code block using `try:` and `except:`\n",
        "clauses; if it works, we get the speedup, if it fails, nothing happens."
      ]
    },
    {
      "cell_type": "markdown",
      "id": "51532403",
      "metadata": {
        "id": "51532403"
      },
      "source": [
        "## Using Pretrained CNN Models\n",
        "We now show how to use a CNN pretrained on the  `imagenet` database to classify natural\n",
        "images, and demonstrate how we produced Figure~\\ref{Ch13:fig:homeimages}.\n",
        "We copied six JPEG images from a digital photo album into the\n",
        "directory `book_images`. These images are available\n",
        "from the data section of  <www.statlearning.com>, the ISLP book website. Download `book_images.zip`; when\n",
        "clicked it creates the `book_images` directory.\n",
        "\n",
        "The pretrained network we use is called `resnet50`; specification details can be found on the web.\n",
        "We will read in the images, and\n",
        "convert them into the array format expected by the `torch`\n",
        "software to match the specifications in `resnet50`.\n",
        "The conversion involves a resize, a crop and then a predefined standardization for each of the three channels.\n",
        "We now read in the images and preprocess them."
      ]
    },
    {
      "cell_type": "code",
      "execution_count": null,
      "id": "8ddd3831",
      "metadata": {
        "lines_to_next_cell": 2,
        "id": "8ddd3831"
      },
      "outputs": [],
      "source": [
        "resize = Resize((232,232), antialias=True)\n",
        "crop = CenterCrop(224)\n",
        "normalize = Normalize([0.485,0.456,0.406],\n",
        "                      [0.229,0.224,0.225])\n",
        "imgfiles = sorted([f for f in glob('book_images/*')])\n",
        "imgs = torch.stack([torch.div(crop(resize(read_image(f))), 255)\n",
        "                    for f in imgfiles])\n",
        "imgs = normalize(imgs)\n",
        "imgs.size()"
      ]
    },
    {
      "cell_type": "markdown",
      "id": "a735ef73",
      "metadata": {
        "id": "a735ef73"
      },
      "source": [
        "We now set up the trained network with the weights we read in code block~6. The model has 50 layers, with a fair bit of complexity."
      ]
    },
    {
      "cell_type": "code",
      "execution_count": null,
      "id": "1126ee25",
      "metadata": {
        "lines_to_next_cell": 0,
        "id": "1126ee25"
      },
      "outputs": [],
      "source": [
        "resnet_model = resnet50(weights=ResNet50_Weights.DEFAULT)\n",
        "summary(resnet_model,\n",
        "        input_data=imgs,\n",
        "        col_names=['input_size',\n",
        "                   'output_size',\n",
        "                   'num_params'])\n"
      ]
    },
    {
      "cell_type": "markdown",
      "id": "59077750",
      "metadata": {
        "id": "59077750"
      },
      "source": [
        "We set the mode to `eval()` to ensure that the model is ready to predict on new data."
      ]
    },
    {
      "cell_type": "code",
      "execution_count": null,
      "id": "9e53e23b",
      "metadata": {
        "lines_to_next_cell": 0,
        "id": "9e53e23b"
      },
      "outputs": [],
      "source": [
        "resnet_model.eval()"
      ]
    },
    {
      "cell_type": "markdown",
      "id": "24d63ea9",
      "metadata": {
        "id": "24d63ea9"
      },
      "source": [
        "Inspecting the output above, we see that when setting up the\n",
        "`resnet_model`, the authors defined a `Bottleneck`, much like our\n",
        "`BuildingBlock` module.\n",
        "\n",
        "We now feed our six images through the fitted network."
      ]
    },
    {
      "cell_type": "code",
      "execution_count": null,
      "id": "0890e08a",
      "metadata": {
        "id": "0890e08a"
      },
      "outputs": [],
      "source": [
        "img_preds = resnet_model(imgs)\n"
      ]
    },
    {
      "cell_type": "markdown",
      "id": "a7d8f653",
      "metadata": {
        "id": "a7d8f653"
      },
      "source": [
        "Let’s look at the predicted probabilities for each of the top 3 choices. First we compute\n",
        "the probabilities by applying the softmax to the logits in `img_preds`. Note that\n",
        "we have had to call the `detach()` method on the tensor `img_preds` in order to convert\n",
        "it to our a more familiar `ndarray`."
      ]
    },
    {
      "cell_type": "code",
      "execution_count": null,
      "id": "60ec5152",
      "metadata": {
        "id": "60ec5152"
      },
      "outputs": [],
      "source": [
        "img_probs = np.exp(np.asarray(img_preds.detach()))\n",
        "img_probs /= img_probs.sum(1)[:,None]\n"
      ]
    },
    {
      "cell_type": "markdown",
      "id": "0ee6c41c",
      "metadata": {
        "id": "0ee6c41c"
      },
      "source": [
        "In order to see the class labels, we must download the index file associated with `imagenet`. {This is avalable from the book website and  [s3.amazonaws.com/deep-learning-models/image-models/imagenet_class_index.json](https://s3.amazonaws.com/deep-learning-models/image-models/imagenet_class_index.json).}"
      ]
    },
    {
      "cell_type": "code",
      "execution_count": null,
      "id": "9408bbd3",
      "metadata": {
        "id": "9408bbd3"
      },
      "outputs": [],
      "source": [
        "labs = json.load(open('imagenet_class_index.json'))\n",
        "class_labels = pd.DataFrame([(int(k), v[1]) for k, v in\n",
        "                           labs.items()],\n",
        "                           columns=['idx', 'label'])\n",
        "class_labels = class_labels.set_index('idx')\n",
        "class_labels = class_labels.sort_index()\n"
      ]
    },
    {
      "cell_type": "markdown",
      "id": "4d134d92",
      "metadata": {
        "id": "4d134d92"
      },
      "source": [
        "We’ll now construct a data frame for each image file\n",
        "with the labels with the three highest probabilities as\n",
        "estimated by the model above."
      ]
    },
    {
      "cell_type": "code",
      "execution_count": null,
      "id": "5369faef",
      "metadata": {
        "lines_to_next_cell": 2,
        "id": "5369faef"
      },
      "outputs": [],
      "source": [
        "for i, imgfile in enumerate(imgfiles):\n",
        "    img_df = class_labels.copy()\n",
        "    img_df['prob'] = img_probs[i]\n",
        "    img_df = img_df.sort_values(by='prob', ascending=False)[:3]\n",
        "    print(f'Image: {imgfile}')\n",
        "    print(img_df.reset_index().drop(columns=['idx']))\n"
      ]
    },
    {
      "cell_type": "markdown",
      "id": "e8da904e",
      "metadata": {
        "id": "e8da904e"
      },
      "source": [
        "We see that the model\n",
        "is quite confident about `Flamingo.jpg`, but a little less so for the\n",
        "other images.\n",
        "\n",
        "We end this section with our usual cleanup."
      ]
    },
    {
      "cell_type": "code",
      "execution_count": null,
      "id": "f585e5d2",
      "metadata": {
        "lines_to_next_cell": 2,
        "id": "f585e5d2"
      },
      "outputs": [],
      "source": [
        "del(cifar_test,\n",
        "    cifar_train,\n",
        "    cifar_dm,\n",
        "    cifar_module,\n",
        "    cifar_logger,\n",
        "    cifar_optimizer,\n",
        "    cifar_trainer)"
      ]
    },
    {
      "cell_type": "markdown",
      "id": "e80c2601",
      "metadata": {
        "id": "e80c2601"
      },
      "source": [
        "## IMDB Document Classification\n",
        "We now implement models for sentiment classification (Section~\\ref{Ch13:sec:docum-class})  on the `IMDB`\n",
        "dataset. As mentioned above code block~8, we are using\n",
        "a preprocessed version of the `IMDB` dataset found in the\n",
        "`keras` package. As `keras` uses `tensorflow`, a different\n",
        "tensor and deep learning library, we have\n",
        "converted the data to be suitable for `torch`. The\n",
        "code used to convert from `keras` is\n",
        "available in the module `ISLP.torch._make_imdb`. It\n",
        "requires some of the `keras` packages to run. These data use a dictionary of size 10,000.\n",
        "\n",
        "We have stored three different representations of the review data for this lab:\n",
        "\n",
        "* `load_tensor()`, a sparse tensor version usable by `torch`;\n",
        "* `load_sparse()`, a sparse matrix version usable by `sklearn`, since we will compare with a lasso fit;\n",
        "* `load_sequential()`, a padded\n",
        "version of the original sequence representation, limited to the last\n",
        "500 words of each review.\n",
        "\n"
      ]
    },
    {
      "cell_type": "code",
      "execution_count": null,
      "id": "30285383",
      "metadata": {
        "lines_to_next_cell": 0,
        "id": "30285383"
      },
      "outputs": [],
      "source": [
        "(imdb_seq_train,\n",
        " imdb_seq_test) = load_sequential(root='data/IMDB')\n",
        "padded_sample = np.asarray(imdb_seq_train.tensors[0][0])\n",
        "sample_review = padded_sample[padded_sample > 0][:12]\n",
        "sample_review[:12]\n"
      ]
    },
    {
      "cell_type": "markdown",
      "id": "cf823309",
      "metadata": {
        "id": "cf823309"
      },
      "source": [
        "The datasets `imdb_seq_train` and `imdb_seq_test` are\n",
        "both instances of the class `TensorDataset`. The\n",
        "tensors used to construct them can be found in the `tensors` attribute, with\n",
        "the first tensor  the features `X` and the second  the outcome `Y`.\n",
        "We have taken the first row of features and stored it as `padded_sample`. In the preprocessing\n",
        "used to form these data, sequences were padded with 0s in the beginning if they were\n",
        "not long enough, hence we remove this padding by restricting to entries where\n",
        "`padded_sample > 0`. We then provide the first 12 words of the sample review.\n",
        "\n",
        "We can find these words in the `lookup` dictionary from the `ISLP.torch.imdb` module."
      ]
    },
    {
      "cell_type": "code",
      "execution_count": null,
      "id": "0bfe31c0",
      "metadata": {
        "id": "0bfe31c0"
      },
      "outputs": [],
      "source": [
        "lookup = load_lookup(root='data/IMDB')\n",
        "' '.join(lookup[i] for i in sample_review)"
      ]
    },
    {
      "cell_type": "markdown",
      "id": "be8794d4",
      "metadata": {
        "id": "be8794d4"
      },
      "source": [
        "For our first model, we have created a binary feature for each\n",
        "of the 10,000 possible words in the dataset, with an entry of one\n",
        "in the $i,j$ entry if word $j$ appears in review $i$. As most reviews\n",
        "are quite short, such a feature matrix has over 98% zeros. These data\n",
        "are accessed using `load_tensor()` from the `ISLP` library."
      ]
    },
    {
      "cell_type": "code",
      "execution_count": null,
      "id": "46a4749f",
      "metadata": {
        "lines_to_next_cell": 0,
        "id": "46a4749f"
      },
      "outputs": [],
      "source": [
        "max_num_workers=10\n",
        "(imdb_train,\n",
        " imdb_test) = load_tensor(root='data/IMDB')\n",
        "imdb_dm = SimpleDataModule(imdb_train,\n",
        "                           imdb_test,\n",
        "                           validation=2000,\n",
        "                           num_workers=min(6, max_num_workers),\n",
        "                           batch_size=512)\n"
      ]
    },
    {
      "cell_type": "markdown",
      "id": "b1772177",
      "metadata": {
        "id": "b1772177"
      },
      "source": [
        "We’ll use a two-layer model for our first model."
      ]
    },
    {
      "cell_type": "code",
      "execution_count": null,
      "id": "7400ab60",
      "metadata": {
        "lines_to_next_cell": 0,
        "id": "7400ab60"
      },
      "outputs": [],
      "source": [
        "class IMDBModel(nn.Module):\n",
        "\n",
        "    def __init__(self, input_size):\n",
        "        super(IMDBModel, self).__init__()\n",
        "        self.dense1 = nn.Linear(input_size, 16)\n",
        "        self.activation = nn.ReLU()\n",
        "        self.dense2 = nn.Linear(16, 16)\n",
        "        self.output = nn.Linear(16, 1)\n",
        "\n",
        "    def forward(self, x):\n",
        "        val = x\n",
        "        for _map in [self.dense1,\n",
        "                     self.activation,\n",
        "                     self.dense2,\n",
        "                     self.activation,\n",
        "                     self.output]:\n",
        "            val = _map(val)\n",
        "        return torch.flatten(val)\n"
      ]
    },
    {
      "cell_type": "markdown",
      "id": "f4596108",
      "metadata": {
        "id": "f4596108"
      },
      "source": [
        "We now instantiate our model and look at a summary."
      ]
    },
    {
      "cell_type": "code",
      "execution_count": 36,
      "id": "51960f4e",
      "metadata": {
        "colab": {
          "base_uri": "https://localhost:8080/",
          "height": 211
        },
        "id": "51960f4e",
        "outputId": "c4ca4af3-de38-4aa7-d55d-f134fdcd2849"
      },
      "outputs": [
        {
          "output_type": "error",
          "ename": "NameError",
          "evalue": "name 'IMDBModel' is not defined",
          "traceback": [
            "\u001b[0;31m---------------------------------------------------------------------------\u001b[0m",
            "\u001b[0;31mNameError\u001b[0m                                 Traceback (most recent call last)",
            "\u001b[0;32m<ipython-input-36-3d76fa2e5fae>\u001b[0m in \u001b[0;36m<cell line: 0>\u001b[0;34m()\u001b[0m\n\u001b[0;32m----> 1\u001b[0;31m \u001b[0mimdb_model\u001b[0m \u001b[0;34m=\u001b[0m \u001b[0mIMDBModel\u001b[0m\u001b[0;34m(\u001b[0m\u001b[0mimdb_test\u001b[0m\u001b[0;34m.\u001b[0m\u001b[0mtensors\u001b[0m\u001b[0;34m[\u001b[0m\u001b[0;36m0\u001b[0m\u001b[0;34m]\u001b[0m\u001b[0;34m.\u001b[0m\u001b[0msize\u001b[0m\u001b[0;34m(\u001b[0m\u001b[0;34m)\u001b[0m\u001b[0;34m[\u001b[0m\u001b[0;36m1\u001b[0m\u001b[0;34m]\u001b[0m\u001b[0;34m)\u001b[0m\u001b[0;34m\u001b[0m\u001b[0;34m\u001b[0m\u001b[0m\n\u001b[0m\u001b[1;32m      2\u001b[0m summary(imdb_model,\n\u001b[1;32m      3\u001b[0m         \u001b[0minput_size\u001b[0m\u001b[0;34m=\u001b[0m\u001b[0mimdb_test\u001b[0m\u001b[0;34m.\u001b[0m\u001b[0mtensors\u001b[0m\u001b[0;34m[\u001b[0m\u001b[0;36m0\u001b[0m\u001b[0;34m]\u001b[0m\u001b[0;34m.\u001b[0m\u001b[0msize\u001b[0m\u001b[0;34m(\u001b[0m\u001b[0;34m)\u001b[0m\u001b[0;34m,\u001b[0m\u001b[0;34m\u001b[0m\u001b[0;34m\u001b[0m\u001b[0m\n\u001b[1;32m      4\u001b[0m         col_names=['input_size',\n\u001b[1;32m      5\u001b[0m                    \u001b[0;34m'output_size'\u001b[0m\u001b[0;34m,\u001b[0m\u001b[0;34m\u001b[0m\u001b[0;34m\u001b[0m\u001b[0m\n",
            "\u001b[0;31mNameError\u001b[0m: name 'IMDBModel' is not defined"
          ]
        }
      ],
      "source": [
        "imdb_model = IMDBModel(imdb_test.tensors[0].size()[1])\n",
        "summary(imdb_model,\n",
        "        input_size=imdb_test.tensors[0].size(),\n",
        "        col_names=['input_size',\n",
        "                   'output_size',\n",
        "                   'num_params'])\n"
      ]
    },
    {
      "cell_type": "markdown",
      "id": "6433c5a4",
      "metadata": {
        "id": "6433c5a4"
      },
      "source": [
        "We’ll again use\n",
        "a smaller learning rate for these data,\n",
        "hence we pass an `optimizer` to the\n",
        "`SimpleModule`.\n",
        "Since the reviews are classified into\n",
        "positive or negative sentiment, we use\n",
        "`SimpleModule.binary_classification()`. {Our use of\n",
        "  `binary_classification()` instead of  `classification()` is\n",
        "  due to some subtlety in how `torchmetrics.Accuracy()` works,\n",
        "as well as the data type of the targets.}"
      ]
    },
    {
      "cell_type": "code",
      "execution_count": null,
      "id": "75faa2be",
      "metadata": {
        "id": "75faa2be"
      },
      "outputs": [],
      "source": [
        "imdb_optimizer = RMSprop(imdb_model.parameters(), lr=0.001)\n",
        "imdb_module = SimpleModule.binary_classification(\n",
        "                         imdb_model,\n",
        "                         optimizer=imdb_optimizer)\n"
      ]
    },
    {
      "cell_type": "markdown",
      "id": "71fbb840",
      "metadata": {
        "id": "71fbb840"
      },
      "source": [
        "Having loaded the datasets into a data module\n",
        "and created a `SimpleModule`, the remaining steps\n",
        "are familiar."
      ]
    },
    {
      "cell_type": "code",
      "execution_count": null,
      "id": "2637adf5",
      "metadata": {
        "id": "2637adf5"
      },
      "outputs": [],
      "source": [
        "imdb_logger = CSVLogger('logs', name='IMDB')\n",
        "imdb_trainer = Trainer(deterministic=True,\n",
        "                       max_epochs=30,\n",
        "                       logger=imdb_logger,\n",
        "                       enable_progress_bar=False,\n",
        "                       callbacks=[ErrorTracker()])\n",
        "imdb_trainer.fit(imdb_module,\n",
        "                 datamodule=imdb_dm)"
      ]
    },
    {
      "cell_type": "markdown",
      "id": "e077efc8",
      "metadata": {
        "id": "e077efc8"
      },
      "source": [
        "Evaluating the test error yields roughly 86% accuracy."
      ]
    },
    {
      "cell_type": "code",
      "execution_count": null,
      "id": "0500cc62",
      "metadata": {
        "lines_to_next_cell": 2,
        "id": "0500cc62"
      },
      "outputs": [],
      "source": [
        "test_results = imdb_trainer.test(imdb_module, datamodule=imdb_dm)\n",
        "test_results"
      ]
    },
    {
      "cell_type": "markdown",
      "id": "f73c7526",
      "metadata": {
        "id": "f73c7526"
      },
      "source": [
        "### Comparison to Lasso\n",
        "We now fit a lasso logistic regression model\n",
        " using `LogisticRegression()` from `sklearn`. Since `sklearn` does not recognize\n",
        "the sparse tensors of `torch`, we use a sparse\n",
        "matrix that is recognized by `sklearn.`"
      ]
    },
    {
      "cell_type": "code",
      "execution_count": null,
      "id": "a6e81d74",
      "metadata": {
        "id": "a6e81d74"
      },
      "outputs": [],
      "source": [
        "((X_train, Y_train),\n",
        " (X_valid, Y_valid),\n",
        " (X_test, Y_test)) = load_sparse(validation=2000,\n",
        "                                 random_state=0,\n",
        "                                 root='data/IMDB')\n"
      ]
    },
    {
      "cell_type": "markdown",
      "id": "3be8b857",
      "metadata": {
        "id": "3be8b857"
      },
      "source": [
        "Similar to what we did in\n",
        "Section~\\ref{Ch13-deeplearning-lab:single-layer-network-on-hitters-data},\n",
        "we construct a series of 50 values for the lasso reguralization parameter $\\lambda$."
      ]
    },
    {
      "cell_type": "code",
      "execution_count": null,
      "id": "b3049398",
      "metadata": {
        "lines_to_next_cell": 0,
        "id": "b3049398"
      },
      "outputs": [],
      "source": [
        "lam_max = np.abs(X_train.T * (Y_train - Y_train.mean())).max()\n",
        "lam_val = lam_max * np.exp(np.linspace(np.log(1),\n",
        "                                       np.log(1e-4), 50))\n"
      ]
    },
    {
      "cell_type": "markdown",
      "id": "f08819f7",
      "metadata": {
        "id": "f08819f7"
      },
      "source": [
        "With `LogisticRegression()` the regularization parameter\n",
        "$C$ is specified as the inverse of $\\lambda$. There are several\n",
        "solvers for logistic regression; here we use `liblinear` which\n",
        "works well with the sparse input format."
      ]
    },
    {
      "cell_type": "code",
      "execution_count": null,
      "id": "e075f0b6",
      "metadata": {
        "lines_to_next_cell": 0,
        "id": "e075f0b6"
      },
      "outputs": [],
      "source": [
        "logit = LogisticRegression(penalty='l1',\n",
        "                           C=1/lam_max,\n",
        "                           solver='liblinear',\n",
        "                           warm_start=True,\n",
        "                           fit_intercept=True)\n"
      ]
    },
    {
      "cell_type": "markdown",
      "id": "94c8b4ff",
      "metadata": {
        "id": "94c8b4ff"
      },
      "source": [
        "The path of 50 values takes approximately 40 seconds to run."
      ]
    },
    {
      "cell_type": "code",
      "execution_count": null,
      "id": "a546c39a",
      "metadata": {
        "id": "a546c39a"
      },
      "outputs": [],
      "source": [
        "coefs = []\n",
        "intercepts = []\n",
        "\n",
        "for l in lam_val:\n",
        "    logit.C = 1/l\n",
        "    logit.fit(X_train, Y_train)\n",
        "    coefs.append(logit.coef_.copy())\n",
        "    intercepts.append(logit.intercept_)\n"
      ]
    },
    {
      "cell_type": "markdown",
      "id": "5a33b90e",
      "metadata": {
        "id": "5a33b90e"
      },
      "source": [
        "The coefficient and intercepts have an extraneous dimension which can be removed\n",
        "by the `np.squeeze()`  function."
      ]
    },
    {
      "cell_type": "code",
      "execution_count": null,
      "id": "2190268a",
      "metadata": {
        "lines_to_next_cell": 0,
        "id": "2190268a"
      },
      "outputs": [],
      "source": [
        "coefs = np.squeeze(coefs)\n",
        "intercepts = np.squeeze(intercepts)\n"
      ]
    },
    {
      "cell_type": "markdown",
      "id": "1271d2a2",
      "metadata": {
        "id": "1271d2a2"
      },
      "source": [
        "We’ll now make a plot to compare our neural network results with the\n",
        "lasso."
      ]
    },
    {
      "cell_type": "code",
      "execution_count": null,
      "id": "39221738",
      "metadata": {
        "lines_to_next_cell": 0,
        "id": "39221738"
      },
      "outputs": [],
      "source": [
        "%%capture\n",
        "fig, axes = subplots(1, 2, figsize=(16, 8), sharey=True)\n",
        "for ((X_, Y_),\n",
        "     data_,\n",
        "     color) in zip([(X_train, Y_train),\n",
        "                    (X_valid, Y_valid),\n",
        "                    (X_test, Y_test)],\n",
        "                    ['Training', 'Validation', 'Test'],\n",
        "                    ['black', 'red', 'blue']):\n",
        "    linpred_ = X_ * coefs.T + intercepts[None,:]\n",
        "    label_ = np.array(linpred_ > 0)\n",
        "    accuracy_ = np.array([np.mean(Y_ == l) for l in label_.T])\n",
        "    axes[0].plot(-np.log(lam_val / X_train.shape[0]),\n",
        "                 accuracy_,\n",
        "                 '.--',\n",
        "                 color=color,\n",
        "                 markersize=13,\n",
        "                 linewidth=2,\n",
        "                 label=data_)\n",
        "axes[0].legend()\n",
        "axes[0].set_xlabel(r'$-\\log(\\lambda)$', fontsize=20)\n",
        "axes[0].set_ylabel('Accuracy', fontsize=20)\n"
      ]
    },
    {
      "cell_type": "markdown",
      "id": "d40e3d0e",
      "metadata": {
        "id": "d40e3d0e"
      },
      "source": [
        "Notice the use of `%%capture`, which suppresses the displaying of the partially completed figure. This is useful\n",
        "when making a complex figure, since the steps can be spread across two or more cells.\n",
        "We now add a plot of the lasso accuracy, and display the composed figure by simply entering its name at the end of the cell."
      ]
    },
    {
      "cell_type": "code",
      "execution_count": null,
      "id": "9ba471b4",
      "metadata": {
        "lines_to_next_cell": 0,
        "id": "9ba471b4"
      },
      "outputs": [],
      "source": [
        "imdb_results = pd.read_csv(imdb_logger.experiment.metrics_file_path)\n",
        "summary_plot(imdb_results,\n",
        "             axes[1],\n",
        "             col='accuracy',\n",
        "             ylabel='Accuracy')\n",
        "axes[1].set_xticks(np.linspace(0, 30, 7).astype(int))\n",
        "axes[1].set_ylabel('Accuracy', fontsize=20)\n",
        "axes[1].set_xlabel('Epoch', fontsize=20)\n",
        "axes[1].set_ylim([0.5, 1]);\n",
        "axes[1].axhline(test_results[0]['test_accuracy'],\n",
        "                color='blue',\n",
        "                linestyle='--',\n",
        "                linewidth=3)\n",
        "fig"
      ]
    },
    {
      "cell_type": "markdown",
      "id": "95e2c89f",
      "metadata": {
        "id": "95e2c89f"
      },
      "source": [
        "From the graphs we see that the accuracy of the lasso logistic regression peaks at about $0.88$,  as it does for  the neural network.\n",
        "\n",
        "Once again, we end with a cleanup."
      ]
    },
    {
      "cell_type": "code",
      "execution_count": null,
      "id": "5f8c7df0",
      "metadata": {
        "lines_to_next_cell": 2,
        "id": "5f8c7df0"
      },
      "outputs": [],
      "source": [
        "del(imdb_model,\n",
        "    imdb_trainer,\n",
        "    imdb_logger,\n",
        "    imdb_dm,\n",
        "    imdb_train,\n",
        "    imdb_test)"
      ]
    },
    {
      "cell_type": "markdown",
      "id": "d2a9982b",
      "metadata": {
        "id": "d2a9982b"
      },
      "source": [
        "## Recurrent Neural Networks\n",
        "In this lab we fit the models illustrated in\n",
        "Section~\\ref{Ch13:sec:recurr-neur-netw}."
      ]
    },
    {
      "cell_type": "markdown",
      "id": "51642336",
      "metadata": {
        "id": "51642336"
      },
      "source": [
        "### Sequential Models for Document Classification\n",
        "Here we  fit a simple  LSTM RNN for sentiment prediction to\n",
        "the `IMDb` movie-review data, as discussed in Section~\\ref{Ch13:sec:sequ-models-docum}.\n",
        "For an RNN we use the sequence of words in a document, taking their\n",
        "order into account. We loaded the preprocessed\n",
        "data at the beginning of\n",
        "Section~\\ref{Ch13-deeplearning-lab:imdb-document-classification}.\n",
        "A script that details the preprocessing can be found in the\n",
        "`ISLP` library. Notably, since more than 90% of the documents\n",
        "had fewer than 500 words, we set the document length to 500. For\n",
        "longer documents, we used the last 500 words, and for shorter\n",
        "documents, we padded the front with blanks.\n"
      ]
    },
    {
      "cell_type": "code",
      "execution_count": null,
      "id": "af4d3414",
      "metadata": {
        "id": "af4d3414"
      },
      "outputs": [],
      "source": [
        "imdb_seq_dm = SimpleDataModule(imdb_seq_train,\n",
        "                               imdb_seq_test,\n",
        "                               validation=2000,\n",
        "                               batch_size=300,\n",
        "                               num_workers=min(6, max_num_workers)\n",
        "                               )\n"
      ]
    },
    {
      "cell_type": "markdown",
      "id": "3aa82266",
      "metadata": {
        "id": "3aa82266"
      },
      "source": [
        "The first layer of the RNN is an embedding layer of size 32, which will be\n",
        "learned during  training. This layer one-hot encodes  each document\n",
        "as a matrix of dimension $500 \\times 10,003$, and then maps these\n",
        "$10,003$ dimensions down to $32$. {The extra 3 dimensions\n",
        "correspond to commonly occurring non-word entries in the reviews.}\n",
        " Since each word is represented by an\n",
        "integer, this is effectively achieved by the creation of an embedding\n",
        "matrix of size $10,003\\times 32$; each of the 500 integers in the\n",
        "document are then mapped to the appropriate 32 real numbers by\n",
        "indexing the appropriate rows of this matrix."
      ]
    },
    {
      "cell_type": "markdown",
      "id": "ed2d5d9b",
      "metadata": {
        "id": "ed2d5d9b"
      },
      "source": [
        "The second  layer is an LSTM with 32 units, and the output\n",
        "layer is a single logit for the binary classification task.\n",
        "In the last line of the `forward()` method below,\n",
        "we take the last 32-dimensional output of the LSTM and map it to our response."
      ]
    },
    {
      "cell_type": "code",
      "execution_count": null,
      "id": "053cda21",
      "metadata": {
        "lines_to_next_cell": 0,
        "id": "053cda21"
      },
      "outputs": [],
      "source": [
        "class LSTMModel(nn.Module):\n",
        "    def __init__(self, input_size):\n",
        "        super(LSTMModel, self).__init__()\n",
        "        self.embedding = nn.Embedding(input_size, 32)\n",
        "        self.lstm = nn.LSTM(input_size=32,\n",
        "                            hidden_size=32,\n",
        "                            batch_first=True)\n",
        "        self.dense = nn.Linear(32, 1)\n",
        "    def forward(self, x):\n",
        "        val, (h_n, c_n) = self.lstm(self.embedding(x))\n",
        "        return torch.flatten(self.dense(val[:,-1]))"
      ]
    },
    {
      "cell_type": "markdown",
      "id": "aad0a983",
      "metadata": {
        "id": "aad0a983"
      },
      "source": [
        "We instantiate and take a look at the summary of the model, using the\n",
        "first 10 documents in the corpus."
      ]
    },
    {
      "cell_type": "code",
      "execution_count": null,
      "id": "1375cc01",
      "metadata": {
        "id": "1375cc01"
      },
      "outputs": [],
      "source": [
        "lstm_model = LSTMModel(X_test.shape[-1])\n",
        "summary(lstm_model,\n",
        "        input_data=imdb_seq_train.tensors[0][:10],\n",
        "        col_names=['input_size',\n",
        "                   'output_size',\n",
        "                   'num_params'])\n"
      ]
    },
    {
      "cell_type": "markdown",
      "id": "fa9049a4",
      "metadata": {
        "id": "fa9049a4"
      },
      "source": [
        "The 10,003 is suppressed in the summary, but we see it in the\n",
        "parameter count, since $10,003\\times 32=320,096$."
      ]
    },
    {
      "cell_type": "code",
      "execution_count": null,
      "id": "f89f58af",
      "metadata": {
        "id": "f89f58af"
      },
      "outputs": [],
      "source": [
        "lstm_module = SimpleModule.binary_classification(lstm_model)\n",
        "lstm_logger = CSVLogger('logs', name='IMDB_LSTM')\n"
      ]
    },
    {
      "cell_type": "code",
      "execution_count": null,
      "id": "ae8fc1fe",
      "metadata": {
        "lines_to_next_cell": 0,
        "id": "ae8fc1fe"
      },
      "outputs": [],
      "source": [
        "lstm_trainer = Trainer(deterministic=True,\n",
        "                       max_epochs=20,\n",
        "                       logger=lstm_logger,\n",
        "                       enable_progress_bar=False,\n",
        "                       callbacks=[ErrorTracker()])\n",
        "lstm_trainer.fit(lstm_module,\n",
        "                 datamodule=imdb_seq_dm)\n"
      ]
    },
    {
      "cell_type": "markdown",
      "id": "cf6061b3",
      "metadata": {
        "id": "cf6061b3"
      },
      "source": [
        "The rest is now similar to other networks we have fit. We\n",
        "track the test performance as the network is fit, and see that it attains 85% accuracy."
      ]
    },
    {
      "cell_type": "code",
      "execution_count": null,
      "id": "9c8dd061",
      "metadata": {
        "id": "9c8dd061"
      },
      "outputs": [],
      "source": [
        "lstm_trainer.test(lstm_module, datamodule=imdb_seq_dm)"
      ]
    },
    {
      "cell_type": "markdown",
      "id": "40823178",
      "metadata": {
        "id": "40823178"
      },
      "source": [
        "We once again show the learning progress, followed by cleanup."
      ]
    },
    {
      "cell_type": "code",
      "execution_count": null,
      "id": "774197a2",
      "metadata": {
        "lines_to_next_cell": 2,
        "id": "774197a2"
      },
      "outputs": [],
      "source": [
        "lstm_results = pd.read_csv(lstm_logger.experiment.metrics_file_path)\n",
        "fig, ax = subplots(1, 1, figsize=(6, 6))\n",
        "summary_plot(lstm_results,\n",
        "             ax,\n",
        "             col='accuracy',\n",
        "             ylabel='Accuracy')\n",
        "ax.set_xticks(np.linspace(0, 20, 5).astype(int))\n",
        "ax.set_ylabel('Accuracy')\n",
        "ax.set_ylim([0.5, 1])\n"
      ]
    },
    {
      "cell_type": "code",
      "execution_count": null,
      "id": "dbae5960",
      "metadata": {
        "lines_to_next_cell": 2,
        "id": "dbae5960"
      },
      "outputs": [],
      "source": [
        "del(lstm_model,\n",
        "    lstm_trainer,\n",
        "    lstm_logger,\n",
        "    imdb_seq_dm,\n",
        "    imdb_seq_train,\n",
        "    imdb_seq_test)\n"
      ]
    },
    {
      "cell_type": "markdown",
      "id": "5d8a3c8f",
      "metadata": {
        "id": "5d8a3c8f"
      },
      "source": [
        "### Time Series Prediction\n",
        "We now show how to fit the models in Section~\\ref{Ch13:sec:time-seri-pred}\n",
        "for  time series prediction.\n",
        "We first load and standardize the data."
      ]
    },
    {
      "cell_type": "code",
      "execution_count": null,
      "id": "023c7d14",
      "metadata": {
        "id": "023c7d14"
      },
      "outputs": [],
      "source": [
        "NYSE = load_data('NYSE')\n",
        "cols = ['DJ_return', 'log_volume', 'log_volatility']\n",
        "X = pd.DataFrame(StandardScaler(\n",
        "                     with_mean=True,\n",
        "                     with_std=True).fit_transform(NYSE[cols]),\n",
        "                 columns=NYSE[cols].columns,\n",
        "                 index=NYSE.index)\n"
      ]
    },
    {
      "cell_type": "markdown",
      "id": "03d5171b",
      "metadata": {
        "id": "03d5171b"
      },
      "source": [
        "Next we set up the lagged versions of the data, dropping\n",
        "any rows with missing values using the `dropna()`  method."
      ]
    },
    {
      "cell_type": "code",
      "execution_count": null,
      "id": "24aa4a0a",
      "metadata": {
        "id": "24aa4a0a"
      },
      "outputs": [],
      "source": [
        "for lag in range(1, 6):\n",
        "    for col in cols:\n",
        "        newcol = np.zeros(X.shape[0]) * np.nan\n",
        "        newcol[lag:] = X[col].values[:-lag]\n",
        "        X.insert(len(X.columns), \"{0}_{1}\".format(col, lag), newcol)\n",
        "X.insert(len(X.columns), 'train', NYSE['train'])\n",
        "X = X.dropna()\n"
      ]
    },
    {
      "cell_type": "markdown",
      "id": "e2a02e25",
      "metadata": {
        "id": "e2a02e25"
      },
      "source": [
        "Finally, we extract the response, training indicator, and drop the current day’s `DJ_return` and\n",
        "`log_volatility` to predict only from previous day’s data."
      ]
    },
    {
      "cell_type": "code",
      "execution_count": null,
      "id": "5f0a4c0e",
      "metadata": {
        "lines_to_next_cell": 2,
        "id": "5f0a4c0e"
      },
      "outputs": [],
      "source": [
        "Y, train = X['log_volume'], X['train']\n",
        "X = X.drop(columns=['train'] + cols)\n",
        "X.columns\n"
      ]
    },
    {
      "cell_type": "markdown",
      "id": "6bc66b8e",
      "metadata": {
        "id": "6bc66b8e"
      },
      "source": [
        "We first fit a simple linear model and compute the $R^2$ on the test data using\n",
        "the `score()`  method."
      ]
    },
    {
      "cell_type": "code",
      "execution_count": null,
      "id": "4ec80811",
      "metadata": {
        "id": "4ec80811"
      },
      "outputs": [],
      "source": [
        "M = LinearRegression()\n",
        "M.fit(X[train], Y[train])\n",
        "M.score(X[~train], Y[~train])"
      ]
    },
    {
      "cell_type": "markdown",
      "id": "3053ae12",
      "metadata": {
        "id": "3053ae12"
      },
      "source": [
        "We refit this model, including the factor variable `day_of_week`.\n",
        "For a categorical series in `pandas`, we can form the indicators\n",
        "using the `get_dummies()`  method."
      ]
    },
    {
      "cell_type": "code",
      "execution_count": null,
      "id": "ec2de6ca",
      "metadata": {
        "lines_to_next_cell": 0,
        "id": "ec2de6ca"
      },
      "outputs": [],
      "source": [
        "X_day = pd.concat([X,\n",
        "                  pd.get_dummies(NYSE['day_of_week'])],\n",
        "                  axis=1).dropna()"
      ]
    },
    {
      "cell_type": "markdown",
      "id": "765b70b4",
      "metadata": {
        "id": "765b70b4"
      },
      "source": [
        " Note that we do not have\n",
        "to reinstantiate the linear regression model\n",
        "as its `fit()` method accepts a design matrix and a response directly."
      ]
    },
    {
      "cell_type": "code",
      "execution_count": null,
      "id": "8ff00b65",
      "metadata": {
        "lines_to_next_cell": 0,
        "id": "8ff00b65"
      },
      "outputs": [],
      "source": [
        "M.fit(X_day[train], Y[train])\n",
        "M.score(X_day[~train], Y[~train])"
      ]
    },
    {
      "cell_type": "markdown",
      "id": "88374112",
      "metadata": {
        "id": "88374112"
      },
      "source": [
        "This model achieves an $R^2$ of about 46%."
      ]
    },
    {
      "cell_type": "markdown",
      "id": "f2160545",
      "metadata": {
        "id": "f2160545"
      },
      "source": [
        "To fit the RNN, we must reshape the data, as it will expect 5 lagged\n",
        "versions of each feature as indicated by the  `input_shape` argument\n",
        "to the layer `nn.RNN()`  below. We first\n",
        "ensure the columns of  our data frame are such that a reshaped\n",
        "matrix will have the variables correctly lagged. We use the\n",
        "`reindex()`  method to do this.\n",
        "\n",
        "For an input shape `(5,3)`, each row represents a lagged version of the three variables.\n",
        "The `nn.RNN()` layer also expects the first row of each\n",
        "observation to be earliest in time, so we must reverse the current order.  Hence we loop over\n",
        "`range(5,0,-1)` below, which is\n",
        "an example of using a  `slice()`  to index\n",
        "iterable objects. The general notation is `start:end:step`."
      ]
    },
    {
      "cell_type": "code",
      "execution_count": null,
      "id": "08107439",
      "metadata": {
        "lines_to_next_cell": 0,
        "id": "08107439"
      },
      "outputs": [],
      "source": [
        "ordered_cols = []\n",
        "for lag in range(5,0,-1):\n",
        "    for col in cols:\n",
        "        ordered_cols.append('{0}_{1}'.format(col, lag))\n",
        "X = X.reindex(columns=ordered_cols)\n",
        "X.columns\n"
      ]
    },
    {
      "cell_type": "markdown",
      "id": "d7f38634",
      "metadata": {
        "id": "d7f38634"
      },
      "source": [
        "We now reshape the data."
      ]
    },
    {
      "cell_type": "code",
      "execution_count": null,
      "id": "1776f3d2",
      "metadata": {
        "lines_to_next_cell": 0,
        "id": "1776f3d2"
      },
      "outputs": [],
      "source": [
        "X_rnn = X.to_numpy().reshape((-1,5,3))\n",
        "X_rnn.shape"
      ]
    },
    {
      "cell_type": "markdown",
      "id": "385f3387",
      "metadata": {
        "id": "385f3387"
      },
      "source": [
        "By specifying the first size as -1, `numpy.reshape()` deduces its size based on the remaining arguments.\n",
        "\n",
        "Now we are ready to proceed with the RNN, which uses 12 hidden units, and  10%\n",
        "dropout.\n",
        "After passing through the RNN,  we extract the final time point as `val[:,-1]`\n",
        "in `forward()` below. This gets passed through a 10% dropout and then flattened through\n",
        "a linear layer."
      ]
    },
    {
      "cell_type": "code",
      "execution_count": null,
      "id": "355e86eb",
      "metadata": {
        "id": "355e86eb"
      },
      "outputs": [],
      "source": [
        "class NYSEModel(nn.Module):\n",
        "    def __init__(self):\n",
        "        super(NYSEModel, self).__init__()\n",
        "        self.rnn = nn.RNN(3,\n",
        "                          12,\n",
        "                          batch_first=True)\n",
        "        self.dense = nn.Linear(12, 1)\n",
        "        self.dropout = nn.Dropout(0.1)\n",
        "    def forward(self, x):\n",
        "        val, h_n = self.rnn(x)\n",
        "        val = self.dense(self.dropout(val[:,-1]))\n",
        "        return torch.flatten(val)\n",
        "nyse_model = NYSEModel()"
      ]
    },
    {
      "cell_type": "markdown",
      "id": "e3abd764",
      "metadata": {
        "id": "e3abd764"
      },
      "source": [
        "We  fit the model in a similar fashion to previous networks. We\n",
        "supply the `fit` function with test data as validation data, so that when\n",
        "we monitor its progress and plot the history function we can see the\n",
        "progress on the test data. Of course we should not use this as a basis for\n",
        "early stopping, since then the test performance would be biased.\n",
        "\n",
        "We form the training dataset similar to\n",
        "our `Hitters` example."
      ]
    },
    {
      "cell_type": "code",
      "execution_count": null,
      "id": "72ab9a66",
      "metadata": {
        "id": "72ab9a66"
      },
      "outputs": [],
      "source": [
        "datasets = []\n",
        "for mask in [train, ~train]:\n",
        "    X_rnn_t = torch.tensor(X_rnn[mask].astype(np.float32))\n",
        "    Y_t = torch.tensor(Y[mask].astype(np.float32))\n",
        "    datasets.append(TensorDataset(X_rnn_t, Y_t))\n",
        "nyse_train, nyse_test = datasets\n"
      ]
    },
    {
      "cell_type": "markdown",
      "id": "b81c1f1e",
      "metadata": {
        "id": "b81c1f1e"
      },
      "source": [
        "Following our usual pattern, we inspect the summary."
      ]
    },
    {
      "cell_type": "code",
      "execution_count": null,
      "id": "1c10263b",
      "metadata": {
        "lines_to_next_cell": 0,
        "id": "1c10263b"
      },
      "outputs": [],
      "source": [
        "summary(nyse_model,\n",
        "        input_data=X_rnn_t,\n",
        "        col_names=['input_size',\n",
        "                   'output_size',\n",
        "                   'num_params'])\n"
      ]
    },
    {
      "cell_type": "markdown",
      "id": "0ba24d5c",
      "metadata": {
        "id": "0ba24d5c"
      },
      "source": [
        "We again put the two datasets into a data module, with a\n",
        "batch size of 64."
      ]
    },
    {
      "cell_type": "code",
      "execution_count": null,
      "id": "c36032ef",
      "metadata": {
        "lines_to_next_cell": 0,
        "id": "c36032ef"
      },
      "outputs": [],
      "source": [
        "nyse_dm = SimpleDataModule(nyse_train,\n",
        "                           nyse_test,\n",
        "                           num_workers=min(4, max_num_workers),\n",
        "                           validation=nyse_test,\n",
        "                           batch_size=64)"
      ]
    },
    {
      "cell_type": "markdown",
      "id": "719a7cf8",
      "metadata": {
        "id": "719a7cf8"
      },
      "source": [
        "We run some data through our model to be sure the sizes match up correctly."
      ]
    },
    {
      "cell_type": "code",
      "execution_count": null,
      "id": "90df0c75",
      "metadata": {
        "id": "90df0c75"
      },
      "outputs": [],
      "source": [
        "for idx, (x, y) in enumerate(nyse_dm.train_dataloader()):\n",
        "    out = nyse_model(x)\n",
        "    print(y.size(), out.size())\n",
        "    if idx >= 2:\n",
        "        break\n"
      ]
    },
    {
      "cell_type": "markdown",
      "id": "a85106c8",
      "metadata": {
        "id": "a85106c8"
      },
      "source": [
        "We follow our previous example for setting up a trainer for a\n",
        "regression problem, requesting the $R^2$ metric\n",
        "to be be computed at each epoch."
      ]
    },
    {
      "cell_type": "code",
      "execution_count": null,
      "id": "064fcd0d",
      "metadata": {
        "id": "064fcd0d"
      },
      "outputs": [],
      "source": [
        "nyse_optimizer = RMSprop(nyse_model.parameters(),\n",
        "                         lr=0.001)\n",
        "nyse_module = SimpleModule.regression(nyse_model,\n",
        "                                      optimizer=nyse_optimizer,\n",
        "                                      metrics={'r2':R2Score()})\n"
      ]
    },
    {
      "cell_type": "markdown",
      "id": "cf9a430a",
      "metadata": {
        "id": "cf9a430a"
      },
      "source": [
        "Fitting the model should by now be familiar.\n",
        "The results on the test data are very similar to the linear AR model."
      ]
    },
    {
      "cell_type": "code",
      "execution_count": null,
      "id": "95ff00af",
      "metadata": {
        "lines_to_next_cell": 2,
        "id": "95ff00af"
      },
      "outputs": [],
      "source": [
        "nyse_trainer = Trainer(deterministic=True,\n",
        "                       max_epochs=200,\n",
        "                       enable_progress_bar=False,\n",
        "                       callbacks=[ErrorTracker()])\n",
        "nyse_trainer.fit(nyse_module,\n",
        "                 datamodule=nyse_dm)\n",
        "nyse_trainer.test(nyse_module,\n",
        "                  datamodule=nyse_dm)"
      ]
    },
    {
      "cell_type": "markdown",
      "id": "8a0fb76e",
      "metadata": {
        "id": "8a0fb76e"
      },
      "source": [
        "We could also fit a model without the `nn.RNN()` layer by just\n",
        "using a `nn.Flatten()` layer instead. This would be a nonlinear AR model. If in addition we excluded the\n",
        "hidden layer, this would be equivalent to our earlier linear AR model.  \n",
        "\n",
        "Instead we will fit a nonlinear AR model using the feature set `X_day` that includes the `day_of_week` indicators.\n",
        "To do so, we\n",
        "must first create our test and training datasets and a corresponding\n",
        "data module. This may seem a little burdensome, but is part of the\n",
        "general pipeline for `torch`."
      ]
    },
    {
      "cell_type": "code",
      "execution_count": null,
      "id": "6b1b56fc",
      "metadata": {
        "id": "6b1b56fc"
      },
      "outputs": [],
      "source": [
        "datasets = []\n",
        "for mask in [train, ~train]:\n",
        "    X_day_t = torch.tensor(\n",
        "                   np.asarray(X_day[mask]).astype(np.float32))\n",
        "    Y_t = torch.tensor(np.asarray(Y[mask]).astype(np.float32))\n",
        "    datasets.append(TensorDataset(X_day_t, Y_t))\n",
        "day_train, day_test = datasets"
      ]
    },
    {
      "cell_type": "markdown",
      "id": "75ea59a7",
      "metadata": {
        "id": "75ea59a7"
      },
      "source": [
        "Creating a data module follows a familiar pattern."
      ]
    },
    {
      "cell_type": "code",
      "execution_count": null,
      "id": "10c70d0a",
      "metadata": {
        "id": "10c70d0a"
      },
      "outputs": [],
      "source": [
        "day_dm = SimpleDataModule(day_train,\n",
        "                          day_test,\n",
        "                          num_workers=min(4, max_num_workers),\n",
        "                          validation=day_test,\n",
        "                          batch_size=64)\n"
      ]
    },
    {
      "cell_type": "markdown",
      "id": "9c2a76bb",
      "metadata": {
        "id": "9c2a76bb"
      },
      "source": [
        "We build a `NonLinearARModel()` that takes as input the 20 features and a hidden layer  with 32 units. The remaining steps are familiar."
      ]
    },
    {
      "cell_type": "code",
      "execution_count": null,
      "id": "42fca594",
      "metadata": {
        "id": "42fca594"
      },
      "outputs": [],
      "source": [
        "class NonLinearARModel(nn.Module):\n",
        "    def __init__(self):\n",
        "        super(NonLinearARModel, self).__init__()\n",
        "        self._forward = nn.Sequential(nn.Flatten(),\n",
        "                                      nn.Linear(20, 32),\n",
        "                                      nn.ReLU(),\n",
        "                                      nn.Dropout(0.5),\n",
        "                                      nn.Linear(32, 1))\n",
        "    def forward(self, x):\n",
        "        return torch.flatten(self._forward(x))\n"
      ]
    },
    {
      "cell_type": "code",
      "execution_count": null,
      "id": "9a134064",
      "metadata": {
        "id": "9a134064"
      },
      "outputs": [],
      "source": [
        "nl_model = NonLinearARModel()\n",
        "nl_optimizer = RMSprop(nl_model.parameters(),\n",
        "                           lr=0.001)\n",
        "nl_module = SimpleModule.regression(nl_model,\n",
        "                                        optimizer=nl_optimizer,\n",
        "                                        metrics={'r2':R2Score()})\n"
      ]
    },
    {
      "cell_type": "markdown",
      "id": "2ac1a2df",
      "metadata": {
        "id": "2ac1a2df"
      },
      "source": [
        "We continue with the usual training steps, fit the model,\n",
        "and evaluate the test error. We see the test $R^2$ is a slight improvement over the linear AR model that also includes `day_of_week`."
      ]
    },
    {
      "cell_type": "code",
      "execution_count": null,
      "id": "0591bf1d",
      "metadata": {
        "lines_to_next_cell": 0,
        "id": "0591bf1d"
      },
      "outputs": [],
      "source": [
        "nl_trainer = Trainer(deterministic=True,\n",
        "                     max_epochs=20,\n",
        "                     enable_progress_bar=False,\n",
        "                     callbacks=[ErrorTracker()])\n",
        "nl_trainer.fit(nl_module, datamodule=day_dm)\n",
        "nl_trainer.test(nl_module, datamodule=day_dm)"
      ]
    },
    {
      "cell_type": "markdown",
      "id": "1bf8c38e",
      "metadata": {
        "id": "1bf8c38e"
      },
      "source": [
        "              \n",
        "\n",
        "\n"
      ]
    }
  ],
  "metadata": {
    "jupytext": {
      "cell_metadata_filter": "-all",
      "main_language": "python",
      "notebook_metadata_filter": "-all"
    },
    "kernelspec": {
      "display_name": "Python 3 (ipykernel)",
      "language": "python",
      "name": "python3"
    },
    "language_info": {
      "codemirror_mode": {
        "name": "ipython",
        "version": 3
      },
      "file_extension": ".py",
      "mimetype": "text/x-python",
      "name": "python",
      "nbconvert_exporter": "python",
      "pygments_lexer": "ipython3",
      "version": "3.12.3"
    },
    "colab": {
      "provenance": []
    }
  },
  "nbformat": 4,
  "nbformat_minor": 5
}